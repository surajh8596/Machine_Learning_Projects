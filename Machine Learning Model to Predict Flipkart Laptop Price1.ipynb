{
 "cells": [
  {
   "cell_type": "code",
   "execution_count": 1,
   "id": "16897e98",
   "metadata": {},
   "outputs": [],
   "source": [
    "import pandas as pd\n",
    "import numpy as np\n",
    "import warnings\n",
    "warnings.filterwarnings('ignore')"
   ]
  },
  {
   "cell_type": "code",
   "execution_count": 2,
   "id": "449ac3c5",
   "metadata": {},
   "outputs": [
    {
     "data": {
      "text/html": [
       "<div>\n",
       "<style scoped>\n",
       "    .dataframe tbody tr th:only-of-type {\n",
       "        vertical-align: middle;\n",
       "    }\n",
       "\n",
       "    .dataframe tbody tr th {\n",
       "        vertical-align: top;\n",
       "    }\n",
       "\n",
       "    .dataframe thead th {\n",
       "        text-align: right;\n",
       "    }\n",
       "</style>\n",
       "<table border=\"1\" class=\"dataframe\">\n",
       "  <thead>\n",
       "    <tr style=\"text-align: right;\">\n",
       "      <th></th>\n",
       "      <th>Brand</th>\n",
       "      <th>Operating System</th>\n",
       "      <th>Processor</th>\n",
       "      <th>RAM Type</th>\n",
       "      <th>RAM Size</th>\n",
       "      <th>Disc Type</th>\n",
       "      <th>Disc Size</th>\n",
       "      <th>MRP</th>\n",
       "    </tr>\n",
       "  </thead>\n",
       "  <tbody>\n",
       "    <tr>\n",
       "      <th>0</th>\n",
       "      <td>Lenovo</td>\n",
       "      <td>Windows 11</td>\n",
       "      <td>Intel</td>\n",
       "      <td>DDR4</td>\n",
       "      <td>8GB</td>\n",
       "      <td>SSD</td>\n",
       "      <td>256GB</td>\n",
       "      <td>36990</td>\n",
       "    </tr>\n",
       "    <tr>\n",
       "      <th>1</th>\n",
       "      <td>Lenovo</td>\n",
       "      <td>Windows 11</td>\n",
       "      <td>Intel</td>\n",
       "      <td>DDR4</td>\n",
       "      <td>8GB</td>\n",
       "      <td>SSD</td>\n",
       "      <td>512GB</td>\n",
       "      <td>39990</td>\n",
       "    </tr>\n",
       "    <tr>\n",
       "      <th>2</th>\n",
       "      <td>ASUS</td>\n",
       "      <td>Windows 11</td>\n",
       "      <td>Intel</td>\n",
       "      <td>DDR4</td>\n",
       "      <td>8GB</td>\n",
       "      <td>SSD</td>\n",
       "      <td>512GB</td>\n",
       "      <td>32990</td>\n",
       "    </tr>\n",
       "    <tr>\n",
       "      <th>3</th>\n",
       "      <td>HP</td>\n",
       "      <td>Windows 10</td>\n",
       "      <td>AMD</td>\n",
       "      <td>DDR4</td>\n",
       "      <td>8GB</td>\n",
       "      <td>SSD</td>\n",
       "      <td>512GB</td>\n",
       "      <td>49990</td>\n",
       "    </tr>\n",
       "    <tr>\n",
       "      <th>4</th>\n",
       "      <td>ASUS</td>\n",
       "      <td>Windows 11</td>\n",
       "      <td>Intel</td>\n",
       "      <td>DDR4</td>\n",
       "      <td>8GB</td>\n",
       "      <td>SSD</td>\n",
       "      <td>512GB</td>\n",
       "      <td>49990</td>\n",
       "    </tr>\n",
       "  </tbody>\n",
       "</table>\n",
       "</div>"
      ],
      "text/plain": [
       "    Brand Operating System Processor RAM Type RAM Size Disc Type Disc Size  \\\n",
       "0  Lenovo       Windows 11     Intel     DDR4      8GB       SSD     256GB   \n",
       "1  Lenovo       Windows 11     Intel     DDR4      8GB       SSD     512GB   \n",
       "2    ASUS       Windows 11     Intel     DDR4      8GB       SSD     512GB   \n",
       "3      HP       Windows 10       AMD     DDR4      8GB       SSD     512GB   \n",
       "4    ASUS       Windows 11     Intel     DDR4      8GB       SSD     512GB   \n",
       "\n",
       "     MRP  \n",
       "0  36990  \n",
       "1  39990  \n",
       "2  32990  \n",
       "3  49990  \n",
       "4  49990  "
      ]
     },
     "execution_count": 2,
     "metadata": {},
     "output_type": "execute_result"
    }
   ],
   "source": [
    "df=pd.read_csv('D:\\DATA SCIENCE Internship with Innomatics\\Data Analysis\\laptop_price.csv')\n",
    "df.head()"
   ]
  },
  {
   "cell_type": "code",
   "execution_count": 3,
   "id": "d0c7d3d7",
   "metadata": {},
   "outputs": [],
   "source": [
    "data=df.copy()"
   ]
  },
  {
   "cell_type": "code",
   "execution_count": 4,
   "id": "9415f69a",
   "metadata": {},
   "outputs": [
    {
     "data": {
      "text/plain": [
       "(720, 8)"
      ]
     },
     "execution_count": 4,
     "metadata": {},
     "output_type": "execute_result"
    }
   ],
   "source": [
    "data.shape"
   ]
  },
  {
   "cell_type": "code",
   "execution_count": 5,
   "id": "d3b27a98",
   "metadata": {},
   "outputs": [
    {
     "name": "stdout",
     "output_type": "stream",
     "text": [
      "<class 'pandas.core.frame.DataFrame'>\n",
      "RangeIndex: 720 entries, 0 to 719\n",
      "Data columns (total 8 columns):\n",
      " #   Column            Non-Null Count  Dtype \n",
      "---  ------            --------------  ----- \n",
      " 0   Brand             720 non-null    object\n",
      " 1   Operating System  720 non-null    object\n",
      " 2   Processor         720 non-null    object\n",
      " 3   RAM Type          720 non-null    object\n",
      " 4   RAM Size          720 non-null    object\n",
      " 5   Disc Type         720 non-null    object\n",
      " 6   Disc Size         720 non-null    object\n",
      " 7   MRP               720 non-null    int64 \n",
      "dtypes: int64(1), object(7)\n",
      "memory usage: 45.1+ KB\n"
     ]
    }
   ],
   "source": [
    "data.info()"
   ]
  },
  {
   "cell_type": "code",
   "execution_count": null,
   "id": "95de1f8b",
   "metadata": {},
   "outputs": [],
   "source": []
  },
  {
   "cell_type": "markdown",
   "id": "2909632a",
   "metadata": {},
   "source": [
    "### Convert categorical columns to numeric column"
   ]
  },
  {
   "cell_type": "markdown",
   "id": "38e2a926",
   "metadata": {},
   "source": [
    "#### BRAND"
   ]
  },
  {
   "cell_type": "code",
   "execution_count": 4,
   "id": "21afa049",
   "metadata": {},
   "outputs": [
    {
     "data": {
      "text/plain": [
       "array(['Lenovo', 'ASUS', 'HP', 'DELL', 'RedmiBook', 'realme', 'acer',\n",
       "       'MSI', 'APPLE', 'Infinix', 'SAMSUNG', 'Ultimus', 'Vaio',\n",
       "       'GIGABYTE', 'Nokia', 'ALIENWARE'], dtype=object)"
      ]
     },
     "execution_count": 4,
     "metadata": {},
     "output_type": "execute_result"
    }
   ],
   "source": [
    "data['Brand'].unique()"
   ]
  },
  {
   "cell_type": "code",
   "execution_count": 5,
   "id": "c28550d6",
   "metadata": {},
   "outputs": [
    {
     "data": {
      "text/plain": [
       "array([ 1,  2,  3,  4,  5,  6,  7,  8,  9, 10, 11, 12, 13, 14, 15, 16],\n",
       "      dtype=int64)"
      ]
     },
     "execution_count": 5,
     "metadata": {},
     "output_type": "execute_result"
    }
   ],
   "source": [
    "def replace_brand(brand):\n",
    "    if brand=='Lenovo':\n",
    "        return 1\n",
    "    elif brand=='ASUS':\n",
    "        return 2\n",
    "    elif brand=='HP':\n",
    "        return 3\n",
    "    elif brand=='DELL':\n",
    "        return 4\n",
    "    elif brand=='RedmiBook':\n",
    "        return 5\n",
    "    elif brand=='realme':\n",
    "        return 6\n",
    "    elif brand=='acer':\n",
    "        return 7\n",
    "    elif brand=='MSI':\n",
    "        return 8\n",
    "    elif brand=='APPLE':\n",
    "        return 9\n",
    "    elif brand=='Infinix':\n",
    "        return 10\n",
    "    elif brand=='SAMSUNG':\n",
    "        return 11\n",
    "    elif brand=='Ultimus':\n",
    "        return 12\n",
    "    elif brand=='Vaio':\n",
    "        return 13\n",
    "    elif brand=='GIGABYTE':\n",
    "        return 14\n",
    "    elif brand=='Nokia':\n",
    "        return 15\n",
    "    elif brand=='ALIENWARE':\n",
    "        return 16\n",
    "    \n",
    "data['Brand']=data['Brand'].apply(replace_brand)\n",
    "data['Brand'].unique()"
   ]
  },
  {
   "cell_type": "code",
   "execution_count": null,
   "id": "24ccef3e",
   "metadata": {},
   "outputs": [],
   "source": []
  },
  {
   "cell_type": "markdown",
   "id": "6e3f3e2e",
   "metadata": {},
   "source": [
    "#### PROCESSOR TYPE"
   ]
  },
  {
   "cell_type": "code",
   "execution_count": 6,
   "id": "7eb8bd91",
   "metadata": {},
   "outputs": [
    {
     "data": {
      "text/plain": [
       "array(['Intel Core i3', 'AMD Ryzen 5 Hexa Core', 'Intel Core i5',\n",
       "       'Intel i3-1115G4', 'AMD Ryzen 7 Quad Core',\n",
       "       'AMD Ryzen 5 Quad Core', 'AMD Ryzen 9 Octa Core',\n",
       "       'AMD Ryzen 7 Octa Core', 'Apple M1', 'Intel Celeron Dual Core',\n",
       "       'AMD Ryzen 3 Dual Core', 'AMD Athlon Dual Core',\n",
       "       'Intel Evo Core i5', 'AMD Ryzen 3 Quad Core', 'Apple M2',\n",
       "       'AMD Ryzen R5-5600H', 'Intel Celeron Quad Core', 'Intel Core i7',\n",
       "       'Apple M1 Pro', 'Qualcomm Snapdragon 7c Gen 2', 'Intel PQC-N5030',\n",
       "       'Gen Intel Evo Core i5', 'Apple M1 Max', 'Intel Core i9',\n",
       "       'Intel Pentium Silver', 'Intel i3-1125G4', 'AMD Ryzen 5-3450U',\n",
       "       'AMD Ryzen 5 Dual Core', 'Intel Core i5-1135G7',\n",
       "       'Intel Core i3-1005G1', 'Intel Pentium Quad Core',\n",
       "       'Intel Core i5 Pro', 'AMD Dual Core', 'Intel i7-11800H',\n",
       "       'AMD Ryzen 3 Hexa Core'], dtype=object)"
      ]
     },
     "execution_count": 6,
     "metadata": {},
     "output_type": "execute_result"
    }
   ],
   "source": [
    "data['Processor Type'].unique()"
   ]
  },
  {
   "cell_type": "code",
   "execution_count": 7,
   "id": "1e9ecd79",
   "metadata": {},
   "outputs": [
    {
     "data": {
      "text/plain": [
       "35"
      ]
     },
     "execution_count": 7,
     "metadata": {},
     "output_type": "execute_result"
    }
   ],
   "source": [
    "data['Processor Type'].nunique()"
   ]
  },
  {
   "cell_type": "markdown",
   "id": "d7a50577",
   "metadata": {},
   "source": [
    "#### Create only for Main Type Processors"
   ]
  },
  {
   "cell_type": "code",
   "execution_count": 8,
   "id": "24b4c254",
   "metadata": {},
   "outputs": [
    {
     "data": {
      "text/plain": [
       "array(['Intel', 'AMD', 'Apple', 'Qualcomm'], dtype=object)"
      ]
     },
     "execution_count": 8,
     "metadata": {},
     "output_type": "execute_result"
    }
   ],
   "source": [
    "data['Processor Type']=data['Processor Type'].apply(lambda x: x.replace(\"Gen \",\"\"))\n",
    "data[['Processor', 'x','y','z','a']]=data['Processor Type'].str.split(\" \", expand=True)\n",
    "data.drop(['x','y','z','a'], axis=1, inplace=True)\n",
    "data['Processor'].unique()"
   ]
  },
  {
   "cell_type": "code",
   "execution_count": 9,
   "id": "6c4ce797",
   "metadata": {},
   "outputs": [],
   "source": [
    "data.drop('Processor Type', axis=1, inplace=True)"
   ]
  },
  {
   "cell_type": "code",
   "execution_count": 10,
   "id": "59ef61e5",
   "metadata": {},
   "outputs": [
    {
     "data": {
      "text/plain": [
       "array([1, 2, 3, 4], dtype=int64)"
      ]
     },
     "execution_count": 10,
     "metadata": {},
     "output_type": "execute_result"
    }
   ],
   "source": [
    "def replace_processor(Processor):\n",
    "    if Processor=='Intel':\n",
    "        return 1\n",
    "    elif Processor=='AMD':\n",
    "        return 2\n",
    "    elif Processor=='Apple':\n",
    "        return 3\n",
    "    elif Processor=='Qualcomm':\n",
    "        return 4\n",
    "    \n",
    "data['Processor']=data['Processor'].apply(replace_processor)\n",
    "data['Processor'].unique()"
   ]
  },
  {
   "cell_type": "code",
   "execution_count": null,
   "id": "e2e25765",
   "metadata": {},
   "outputs": [],
   "source": []
  },
  {
   "cell_type": "markdown",
   "id": "fc27f7a9",
   "metadata": {},
   "source": [
    "#### OPERATING SYSTEM"
   ]
  },
  {
   "cell_type": "code",
   "execution_count": 11,
   "id": "0060f103",
   "metadata": {},
   "outputs": [
    {
     "data": {
      "text/plain": [
       "array(['Windows 11', 'Windows 10', 'Mac', 'Chrome', 'DOS'], dtype=object)"
      ]
     },
     "execution_count": 11,
     "metadata": {},
     "output_type": "execute_result"
    }
   ],
   "source": [
    "data['Operating System'].unique()"
   ]
  },
  {
   "cell_type": "code",
   "execution_count": 12,
   "id": "10f122f1",
   "metadata": {},
   "outputs": [
    {
     "data": {
      "text/plain": [
       "array([1, 2, 3, 4, 5], dtype=int64)"
      ]
     },
     "execution_count": 12,
     "metadata": {},
     "output_type": "execute_result"
    }
   ],
   "source": [
    "def replace_os(os):\n",
    "    if os=='Windows 11':\n",
    "        return 1\n",
    "    elif os=='Windows 10':\n",
    "        return 2\n",
    "    elif os=='Mac':\n",
    "        return 3\n",
    "    elif os=='Chrome':\n",
    "        return 4\n",
    "    elif os=='DOS':\n",
    "        return 5\n",
    "    \n",
    "data['Operating System']=data['Operating System'].apply(replace_os)\n",
    "data['Operating System'].unique()"
   ]
  },
  {
   "cell_type": "code",
   "execution_count": null,
   "id": "ca164cee",
   "metadata": {},
   "outputs": [],
   "source": []
  },
  {
   "cell_type": "markdown",
   "id": "e74da1ef",
   "metadata": {},
   "source": [
    "#### RAM TYPE"
   ]
  },
  {
   "cell_type": "code",
   "execution_count": 13,
   "id": "c50d4780",
   "metadata": {},
   "outputs": [
    {
     "data": {
      "text/plain": [
       "array(['DDR4', 'DDR5', 'LPDDR4', 'Unified', 'LPDDR4X', 'LPDDR5', 'LPDDR3'],\n",
       "      dtype=object)"
      ]
     },
     "execution_count": 13,
     "metadata": {},
     "output_type": "execute_result"
    }
   ],
   "source": [
    "data['RAM Type'].unique()"
   ]
  },
  {
   "cell_type": "code",
   "execution_count": 14,
   "id": "1bd6603e",
   "metadata": {},
   "outputs": [
    {
     "data": {
      "text/plain": [
       "array([1, 2, 3, 4, 5, 6, 7], dtype=int64)"
      ]
     },
     "execution_count": 14,
     "metadata": {},
     "output_type": "execute_result"
    }
   ],
   "source": [
    "def replace_ram_type(ram_type):\n",
    "    if ram_type=='DDR4':\n",
    "        return 1\n",
    "    elif ram_type=='DDR5':\n",
    "        return 2\n",
    "    elif ram_type=='LPDDR4':\n",
    "        return 3\n",
    "    elif ram_type=='Unified':\n",
    "        return 4\n",
    "    elif ram_type=='LPDDR4X':\n",
    "        return 5\n",
    "    elif ram_type=='LPDDR5':\n",
    "        return 6\n",
    "    elif ram_type=='LPDDR3':\n",
    "        return 7\n",
    "    \n",
    "data['RAM Type']=data['RAM Type'].apply(replace_ram_type)\n",
    "data['RAM Type'].unique()"
   ]
  },
  {
   "cell_type": "code",
   "execution_count": null,
   "id": "b3e0bd0b",
   "metadata": {},
   "outputs": [],
   "source": []
  },
  {
   "cell_type": "markdown",
   "id": "3c3d554f",
   "metadata": {},
   "source": [
    "#### RAM SIZE"
   ]
  },
  {
   "cell_type": "code",
   "execution_count": 15,
   "id": "9bf40749",
   "metadata": {},
   "outputs": [
    {
     "data": {
      "text/plain": [
       "array(['8GB', '16GB', '4GB', '32GB'], dtype=object)"
      ]
     },
     "execution_count": 15,
     "metadata": {},
     "output_type": "execute_result"
    }
   ],
   "source": [
    "data['RAM Size'].unique()"
   ]
  },
  {
   "cell_type": "code",
   "execution_count": 16,
   "id": "bdfa1bab",
   "metadata": {},
   "outputs": [
    {
     "data": {
      "text/plain": [
       "array([1, 2, 3, 4], dtype=int64)"
      ]
     },
     "execution_count": 16,
     "metadata": {},
     "output_type": "execute_result"
    }
   ],
   "source": [
    "def replace_ram_size(ram_size):\n",
    "    if ram_size=='8GB':\n",
    "        return 1\n",
    "    elif ram_size=='16GB':\n",
    "        return 2\n",
    "    elif ram_size=='4GB':\n",
    "        return 3\n",
    "    elif ram_size=='32GB':\n",
    "        return 4\n",
    "\n",
    "    \n",
    "data['RAM Size']=data['RAM Size'].apply(replace_ram_size)\n",
    "data['RAM Size'].unique()"
   ]
  },
  {
   "cell_type": "code",
   "execution_count": null,
   "id": "58ccc78f",
   "metadata": {},
   "outputs": [],
   "source": []
  },
  {
   "cell_type": "markdown",
   "id": "17dee96d",
   "metadata": {},
   "source": [
    "#### DISC TYPE"
   ]
  },
  {
   "cell_type": "code",
   "execution_count": 17,
   "id": "c21d24e8",
   "metadata": {},
   "outputs": [
    {
     "data": {
      "text/plain": [
       "array(['SSD', 'HDD', 'EMMC'], dtype=object)"
      ]
     },
     "execution_count": 17,
     "metadata": {},
     "output_type": "execute_result"
    }
   ],
   "source": [
    "data['Disc Type'].unique()"
   ]
  },
  {
   "cell_type": "code",
   "execution_count": 18,
   "id": "a592dbc6",
   "metadata": {},
   "outputs": [
    {
     "data": {
      "text/plain": [
       "array([1, 2, 3], dtype=int64)"
      ]
     },
     "execution_count": 18,
     "metadata": {},
     "output_type": "execute_result"
    }
   ],
   "source": [
    "def replace_disc_type(disc_type):\n",
    "    if disc_type=='SSD':\n",
    "        return 1\n",
    "    elif disc_type=='HDD':\n",
    "        return 2\n",
    "    elif disc_type=='EMMC':\n",
    "        return 3\n",
    "\n",
    "    \n",
    "data['Disc Type']=data['Disc Type'].apply(replace_disc_type)\n",
    "data['Disc Type'].unique()"
   ]
  },
  {
   "cell_type": "code",
   "execution_count": null,
   "id": "ed0eb52b",
   "metadata": {},
   "outputs": [],
   "source": []
  },
  {
   "cell_type": "markdown",
   "id": "907bc70e",
   "metadata": {},
   "source": [
    "#### DISC SIZE"
   ]
  },
  {
   "cell_type": "code",
   "execution_count": 19,
   "id": "c23b1460",
   "metadata": {},
   "outputs": [
    {
     "data": {
      "text/plain": [
       "array(['256GB', '512GB', '1TB', '128GB', '64GB', '32GB', '2TB'],\n",
       "      dtype=object)"
      ]
     },
     "execution_count": 19,
     "metadata": {},
     "output_type": "execute_result"
    }
   ],
   "source": [
    "data['Disc Size'].unique()"
   ]
  },
  {
   "cell_type": "code",
   "execution_count": 20,
   "id": "db842023",
   "metadata": {},
   "outputs": [
    {
     "data": {
      "text/plain": [
       "array([1, 2, 3, 4, 5, 6, 7], dtype=int64)"
      ]
     },
     "execution_count": 20,
     "metadata": {},
     "output_type": "execute_result"
    }
   ],
   "source": [
    "def replace_disc_size(disc_size):\n",
    "    if disc_size=='256GB':\n",
    "        return 1\n",
    "    elif disc_size=='512GB':\n",
    "        return 2\n",
    "    elif disc_size=='1TB':\n",
    "        return 3\n",
    "    elif disc_size=='128GB':\n",
    "        return 4\n",
    "    elif disc_size=='64GB':\n",
    "        return 5\n",
    "    elif disc_size=='32GB':\n",
    "        return 6\n",
    "    elif disc_size=='2TB':\n",
    "        return 7\n",
    "    \n",
    "data['Disc Size']=data['Disc Size'].apply(replace_disc_size)\n",
    "data['Disc Size'].unique()"
   ]
  },
  {
   "cell_type": "code",
   "execution_count": 21,
   "id": "6f8e2079",
   "metadata": {},
   "outputs": [
    {
     "data": {
      "text/html": [
       "<div>\n",
       "<style scoped>\n",
       "    .dataframe tbody tr th:only-of-type {\n",
       "        vertical-align: middle;\n",
       "    }\n",
       "\n",
       "    .dataframe tbody tr th {\n",
       "        vertical-align: top;\n",
       "    }\n",
       "\n",
       "    .dataframe thead th {\n",
       "        text-align: right;\n",
       "    }\n",
       "</style>\n",
       "<table border=\"1\" class=\"dataframe\">\n",
       "  <thead>\n",
       "    <tr style=\"text-align: right;\">\n",
       "      <th></th>\n",
       "      <th>Brand</th>\n",
       "      <th>Operating System</th>\n",
       "      <th>RAM Type</th>\n",
       "      <th>RAM Size</th>\n",
       "      <th>Disc Type</th>\n",
       "      <th>Disc Size</th>\n",
       "      <th>MRP</th>\n",
       "      <th>Processor</th>\n",
       "    </tr>\n",
       "  </thead>\n",
       "  <tbody>\n",
       "    <tr>\n",
       "      <th>0</th>\n",
       "      <td>1</td>\n",
       "      <td>1</td>\n",
       "      <td>1</td>\n",
       "      <td>1</td>\n",
       "      <td>1</td>\n",
       "      <td>1</td>\n",
       "      <td>36990</td>\n",
       "      <td>1</td>\n",
       "    </tr>\n",
       "    <tr>\n",
       "      <th>1</th>\n",
       "      <td>1</td>\n",
       "      <td>1</td>\n",
       "      <td>1</td>\n",
       "      <td>1</td>\n",
       "      <td>1</td>\n",
       "      <td>2</td>\n",
       "      <td>39990</td>\n",
       "      <td>1</td>\n",
       "    </tr>\n",
       "    <tr>\n",
       "      <th>2</th>\n",
       "      <td>2</td>\n",
       "      <td>1</td>\n",
       "      <td>1</td>\n",
       "      <td>1</td>\n",
       "      <td>1</td>\n",
       "      <td>2</td>\n",
       "      <td>32990</td>\n",
       "      <td>1</td>\n",
       "    </tr>\n",
       "    <tr>\n",
       "      <th>3</th>\n",
       "      <td>3</td>\n",
       "      <td>2</td>\n",
       "      <td>1</td>\n",
       "      <td>1</td>\n",
       "      <td>1</td>\n",
       "      <td>2</td>\n",
       "      <td>49990</td>\n",
       "      <td>2</td>\n",
       "    </tr>\n",
       "    <tr>\n",
       "      <th>4</th>\n",
       "      <td>2</td>\n",
       "      <td>1</td>\n",
       "      <td>1</td>\n",
       "      <td>1</td>\n",
       "      <td>1</td>\n",
       "      <td>2</td>\n",
       "      <td>49990</td>\n",
       "      <td>1</td>\n",
       "    </tr>\n",
       "  </tbody>\n",
       "</table>\n",
       "</div>"
      ],
      "text/plain": [
       "   Brand  Operating System  RAM Type  RAM Size  Disc Type  Disc Size    MRP  \\\n",
       "0      1                 1         1         1          1          1  36990   \n",
       "1      1                 1         1         1          1          2  39990   \n",
       "2      2                 1         1         1          1          2  32990   \n",
       "3      3                 2         1         1          1          2  49990   \n",
       "4      2                 1         1         1          1          2  49990   \n",
       "\n",
       "   Processor  \n",
       "0          1  \n",
       "1          1  \n",
       "2          1  \n",
       "3          2  \n",
       "4          1  "
      ]
     },
     "execution_count": 21,
     "metadata": {},
     "output_type": "execute_result"
    }
   ],
   "source": [
    "data.head()"
   ]
  },
  {
   "cell_type": "code",
   "execution_count": 22,
   "id": "dff8c1eb",
   "metadata": {},
   "outputs": [
    {
     "data": {
      "text/plain": [
       "Brand               0\n",
       "Operating System    0\n",
       "RAM Type            0\n",
       "RAM Size            0\n",
       "Disc Type           0\n",
       "Disc Size           0\n",
       "MRP                 0\n",
       "Processor           0\n",
       "dtype: int64"
      ]
     },
     "execution_count": 22,
     "metadata": {},
     "output_type": "execute_result"
    }
   ],
   "source": [
    "data.isna().sum()"
   ]
  },
  {
   "cell_type": "markdown",
   "id": "5fe170a2",
   "metadata": {},
   "source": [
    "### Split into dependent and independent"
   ]
  },
  {
   "cell_type": "code",
   "execution_count": 23,
   "id": "28dae9ab",
   "metadata": {},
   "outputs": [],
   "source": [
    "X=data.drop('MRP', axis=1).values\n",
    "y=data['MRP'].values"
   ]
  },
  {
   "cell_type": "code",
   "execution_count": null,
   "id": "d42ccd98",
   "metadata": {},
   "outputs": [],
   "source": []
  },
  {
   "cell_type": "code",
   "execution_count": 24,
   "id": "ce26d94e",
   "metadata": {},
   "outputs": [
    {
     "name": "stdout",
     "output_type": "stream",
     "text": [
      "[[-0.80688224 -0.46911664 -0.42107258 ... -0.28058001 -1.45873792\n",
      "  -0.87423048]\n",
      " [-0.80688224 -0.46911664 -0.42107258 ... -0.28058001 -0.31711694\n",
      "  -0.87423048]\n",
      " [-0.44104142 -0.46911664 -0.42107258 ... -0.28058001 -0.31711694\n",
      "  -0.87423048]\n",
      " ...\n",
      " [-0.44104142 -0.46911664  0.46281156 ... -0.28058001  0.82450404\n",
      "   0.91906281]\n",
      " [-0.44104142 -0.46911664  3.99834813 ... -0.28058001 -0.31711694\n",
      "  -0.87423048]\n",
      " [-0.80688224  1.21970327 -0.42107258 ...  2.69026717  0.82450404\n",
      "  -0.87423048]]\n"
     ]
    }
   ],
   "source": [
    "from sklearn.preprocessing import StandardScaler, MinMaxScaler\n",
    "std=StandardScaler()\n",
    "X=std.fit_transform(X)\n",
    "\n",
    "print(X)"
   ]
  },
  {
   "cell_type": "code",
   "execution_count": null,
   "id": "33c774bd",
   "metadata": {},
   "outputs": [],
   "source": []
  },
  {
   "cell_type": "markdown",
   "id": "c752cf51",
   "metadata": {},
   "source": [
    "### Split into training and testing set"
   ]
  },
  {
   "cell_type": "code",
   "execution_count": 25,
   "id": "9bfe8cce",
   "metadata": {},
   "outputs": [
    {
     "name": "stdout",
     "output_type": "stream",
     "text": [
      "(576, 7)\n",
      "(576,)\n",
      "(144, 7)\n",
      "(144,)\n"
     ]
    }
   ],
   "source": [
    "from sklearn.model_selection import train_test_split\n",
    "\n",
    "x_train, x_test, y_train, y_test = train_test_split(X, y, test_size=0.2, random_state=42)\n",
    "print(x_train.shape)\n",
    "print(y_train.shape)\n",
    "print(x_test.shape)\n",
    "print(y_test.shape)"
   ]
  },
  {
   "cell_type": "markdown",
   "id": "3e2a2f1f",
   "metadata": {},
   "source": [
    "### Machine Learning Regression Models"
   ]
  },
  {
   "cell_type": "markdown",
   "id": "dbb316c1",
   "metadata": {},
   "source": [
    "### 1. Linear Regression"
   ]
  },
  {
   "cell_type": "code",
   "execution_count": 26,
   "id": "26abc20f",
   "metadata": {},
   "outputs": [],
   "source": [
    "from sklearn.linear_model import LinearRegression\n",
    "lr=LinearRegression()\n",
    "lr=lr.fit(x_train,y_train)\n",
    "y_pred=lr.predict(x_test)"
   ]
  },
  {
   "cell_type": "code",
   "execution_count": 27,
   "id": "a2586a88",
   "metadata": {},
   "outputs": [
    {
     "data": {
      "text/html": [
       "<div>\n",
       "<style scoped>\n",
       "    .dataframe tbody tr th:only-of-type {\n",
       "        vertical-align: middle;\n",
       "    }\n",
       "\n",
       "    .dataframe tbody tr th {\n",
       "        vertical-align: top;\n",
       "    }\n",
       "\n",
       "    .dataframe thead th {\n",
       "        text-align: right;\n",
       "    }\n",
       "</style>\n",
       "<table border=\"1\" class=\"dataframe\">\n",
       "  <thead>\n",
       "    <tr style=\"text-align: right;\">\n",
       "      <th></th>\n",
       "      <th>Model</th>\n",
       "      <th>MSE</th>\n",
       "      <th>RMSE</th>\n",
       "      <th>R2 Score</th>\n",
       "    </tr>\n",
       "  </thead>\n",
       "  <tbody>\n",
       "    <tr>\n",
       "      <th>0</th>\n",
       "      <td>Linear Regression</td>\n",
       "      <td>1.165097e+09</td>\n",
       "      <td>34133.52</td>\n",
       "      <td>0.517662</td>\n",
       "    </tr>\n",
       "  </tbody>\n",
       "</table>\n",
       "</div>"
      ],
      "text/plain": [
       "               Model           MSE      RMSE  R2 Score\n",
       "0  Linear Regression  1.165097e+09  34133.52  0.517662"
      ]
     },
     "execution_count": 27,
     "metadata": {},
     "output_type": "execute_result"
    }
   ],
   "source": [
    "from sklearn.metrics import mean_squared_error as mse, r2_score\n",
    "\n",
    "MSE=mse(y_pred,y_test).round(2)\n",
    "RMSE=np.sqrt(MSE).round(2)\n",
    "R2=r2_score(y_pred, y_test)\n",
    "\n",
    "results=pd.DataFrame({\"Model\":[\"Linear Regression\"], \"MSE\":[MSE], \"RMSE\":[RMSE], \"R2 Score\":[R2]})\n",
    "results"
   ]
  },
  {
   "cell_type": "code",
   "execution_count": null,
   "id": "b453cc22",
   "metadata": {},
   "outputs": [],
   "source": []
  },
  {
   "cell_type": "markdown",
   "id": "6dc42499",
   "metadata": {},
   "source": [
    "### 2. Decision Tree"
   ]
  },
  {
   "cell_type": "code",
   "execution_count": 28,
   "id": "27e696c0",
   "metadata": {},
   "outputs": [],
   "source": [
    "from sklearn.tree import DecisionTreeRegressor\n",
    "\n",
    "dt=DecisionTreeRegressor(random_state=0)\n",
    "dt.fit(x_train,y_train)\n",
    "y_pred=dt.predict(x_test)"
   ]
  },
  {
   "cell_type": "code",
   "execution_count": 29,
   "id": "9c58e499",
   "metadata": {},
   "outputs": [
    {
     "data": {
      "text/html": [
       "<div>\n",
       "<style scoped>\n",
       "    .dataframe tbody tr th:only-of-type {\n",
       "        vertical-align: middle;\n",
       "    }\n",
       "\n",
       "    .dataframe tbody tr th {\n",
       "        vertical-align: top;\n",
       "    }\n",
       "\n",
       "    .dataframe thead th {\n",
       "        text-align: right;\n",
       "    }\n",
       "</style>\n",
       "<table border=\"1\" class=\"dataframe\">\n",
       "  <thead>\n",
       "    <tr style=\"text-align: right;\">\n",
       "      <th></th>\n",
       "      <th>Model</th>\n",
       "      <th>MSE</th>\n",
       "      <th>RMSE</th>\n",
       "      <th>R2 Score</th>\n",
       "    </tr>\n",
       "  </thead>\n",
       "  <tbody>\n",
       "    <tr>\n",
       "      <th>0</th>\n",
       "      <td>Linear Regression</td>\n",
       "      <td>1.165097e+09</td>\n",
       "      <td>34133.52</td>\n",
       "      <td>0.517662</td>\n",
       "    </tr>\n",
       "    <tr>\n",
       "      <th>0</th>\n",
       "      <td>Decision Tree Regression</td>\n",
       "      <td>5.533518e+08</td>\n",
       "      <td>23523.43</td>\n",
       "      <td>0.846429</td>\n",
       "    </tr>\n",
       "  </tbody>\n",
       "</table>\n",
       "</div>"
      ],
      "text/plain": [
       "                      Model           MSE      RMSE  R2 Score\n",
       "0         Linear Regression  1.165097e+09  34133.52  0.517662\n",
       "0  Decision Tree Regression  5.533518e+08  23523.43  0.846429"
      ]
     },
     "execution_count": 29,
     "metadata": {},
     "output_type": "execute_result"
    }
   ],
   "source": [
    "MSE=mse(y_pred,y_test).round(2)\n",
    "RMSE=np.sqrt(MSE).round(2)\n",
    "R2=r2_score(y_pred, y_test)\n",
    "\n",
    "result=pd.DataFrame({\"Model\":[\"Decision Tree Regression\"], \"MSE\":[MSE], \"RMSE\":[RMSE], \"R2 Score\":[R2]})\n",
    "\n",
    "results=pd.concat([results,result])\n",
    "results"
   ]
  },
  {
   "cell_type": "code",
   "execution_count": null,
   "id": "625709bc",
   "metadata": {},
   "outputs": [],
   "source": []
  },
  {
   "cell_type": "markdown",
   "id": "c957974e",
   "metadata": {},
   "source": [
    "### 3. Random Forest"
   ]
  },
  {
   "cell_type": "code",
   "execution_count": 30,
   "id": "abaff8f0",
   "metadata": {},
   "outputs": [],
   "source": [
    "from sklearn.ensemble import RandomForestRegressor\n",
    "\n",
    "rf=RandomForestRegressor(n_estimators=100)\n",
    "rf.fit(x_train,y_train)\n",
    "y_pred=rf.predict(x_test)"
   ]
  },
  {
   "cell_type": "code",
   "execution_count": 31,
   "id": "7a54a724",
   "metadata": {},
   "outputs": [
    {
     "data": {
      "text/html": [
       "<div>\n",
       "<style scoped>\n",
       "    .dataframe tbody tr th:only-of-type {\n",
       "        vertical-align: middle;\n",
       "    }\n",
       "\n",
       "    .dataframe tbody tr th {\n",
       "        vertical-align: top;\n",
       "    }\n",
       "\n",
       "    .dataframe thead th {\n",
       "        text-align: right;\n",
       "    }\n",
       "</style>\n",
       "<table border=\"1\" class=\"dataframe\">\n",
       "  <thead>\n",
       "    <tr style=\"text-align: right;\">\n",
       "      <th></th>\n",
       "      <th>Model</th>\n",
       "      <th>MSE</th>\n",
       "      <th>RMSE</th>\n",
       "      <th>R2 Score</th>\n",
       "    </tr>\n",
       "  </thead>\n",
       "  <tbody>\n",
       "    <tr>\n",
       "      <th>0</th>\n",
       "      <td>Linear Regression</td>\n",
       "      <td>1.165097e+09</td>\n",
       "      <td>34133.52</td>\n",
       "      <td>0.517662</td>\n",
       "    </tr>\n",
       "    <tr>\n",
       "      <th>0</th>\n",
       "      <td>Decision Tree Regression</td>\n",
       "      <td>5.533518e+08</td>\n",
       "      <td>23523.43</td>\n",
       "      <td>0.846429</td>\n",
       "    </tr>\n",
       "    <tr>\n",
       "      <th>0</th>\n",
       "      <td>Random Forest Regression</td>\n",
       "      <td>5.814653e+08</td>\n",
       "      <td>24113.59</td>\n",
       "      <td>0.836842</td>\n",
       "    </tr>\n",
       "  </tbody>\n",
       "</table>\n",
       "</div>"
      ],
      "text/plain": [
       "                      Model           MSE      RMSE  R2 Score\n",
       "0         Linear Regression  1.165097e+09  34133.52  0.517662\n",
       "0  Decision Tree Regression  5.533518e+08  23523.43  0.846429\n",
       "0  Random Forest Regression  5.814653e+08  24113.59  0.836842"
      ]
     },
     "execution_count": 31,
     "metadata": {},
     "output_type": "execute_result"
    }
   ],
   "source": [
    "MSE=mse(y_pred,y_test).round(2)\n",
    "RMSE=np.sqrt(MSE).round(2)\n",
    "R2=r2_score(y_pred, y_test)\n",
    "\n",
    "result=pd.DataFrame({\"Model\":[\"Random Forest Regression\"], \"MSE\":[MSE], \"RMSE\":[RMSE], \"R2 Score\":[R2]})\n",
    "\n",
    "results=pd.concat([results,result])\n",
    "results"
   ]
  },
  {
   "cell_type": "code",
   "execution_count": null,
   "id": "4966eb86",
   "metadata": {},
   "outputs": [],
   "source": []
  },
  {
   "cell_type": "markdown",
   "id": "4a0d701a",
   "metadata": {},
   "source": [
    "### 4. Gradient boosting"
   ]
  },
  {
   "cell_type": "code",
   "execution_count": 32,
   "id": "0f355ebb",
   "metadata": {},
   "outputs": [],
   "source": [
    "from sklearn.ensemble import GradientBoostingRegressor\n",
    "\n",
    "grb= GradientBoostingRegressor(n_estimators =100,random_state =0) \n",
    "grb.fit(x_train, y_train) \n",
    "y_pred = grb.predict(x_test)"
   ]
  },
  {
   "cell_type": "code",
   "execution_count": 33,
   "id": "7e06b03e",
   "metadata": {},
   "outputs": [
    {
     "data": {
      "text/html": [
       "<div>\n",
       "<style scoped>\n",
       "    .dataframe tbody tr th:only-of-type {\n",
       "        vertical-align: middle;\n",
       "    }\n",
       "\n",
       "    .dataframe tbody tr th {\n",
       "        vertical-align: top;\n",
       "    }\n",
       "\n",
       "    .dataframe thead th {\n",
       "        text-align: right;\n",
       "    }\n",
       "</style>\n",
       "<table border=\"1\" class=\"dataframe\">\n",
       "  <thead>\n",
       "    <tr style=\"text-align: right;\">\n",
       "      <th></th>\n",
       "      <th>Model</th>\n",
       "      <th>MSE</th>\n",
       "      <th>RMSE</th>\n",
       "      <th>R2 Score</th>\n",
       "    </tr>\n",
       "  </thead>\n",
       "  <tbody>\n",
       "    <tr>\n",
       "      <th>0</th>\n",
       "      <td>Linear Regression</td>\n",
       "      <td>1.165097e+09</td>\n",
       "      <td>34133.52</td>\n",
       "      <td>0.517662</td>\n",
       "    </tr>\n",
       "    <tr>\n",
       "      <th>0</th>\n",
       "      <td>Decision Tree Regression</td>\n",
       "      <td>5.533518e+08</td>\n",
       "      <td>23523.43</td>\n",
       "      <td>0.846429</td>\n",
       "    </tr>\n",
       "    <tr>\n",
       "      <th>0</th>\n",
       "      <td>Random Forest Regression</td>\n",
       "      <td>5.814653e+08</td>\n",
       "      <td>24113.59</td>\n",
       "      <td>0.836842</td>\n",
       "    </tr>\n",
       "    <tr>\n",
       "      <th>0</th>\n",
       "      <td>Gradient Boosting Regression</td>\n",
       "      <td>5.494580e+08</td>\n",
       "      <td>23440.52</td>\n",
       "      <td>0.862283</td>\n",
       "    </tr>\n",
       "  </tbody>\n",
       "</table>\n",
       "</div>"
      ],
      "text/plain": [
       "                          Model           MSE      RMSE  R2 Score\n",
       "0             Linear Regression  1.165097e+09  34133.52  0.517662\n",
       "0      Decision Tree Regression  5.533518e+08  23523.43  0.846429\n",
       "0      Random Forest Regression  5.814653e+08  24113.59  0.836842\n",
       "0  Gradient Boosting Regression  5.494580e+08  23440.52  0.862283"
      ]
     },
     "execution_count": 33,
     "metadata": {},
     "output_type": "execute_result"
    }
   ],
   "source": [
    "MSE=mse(y_pred,y_test).round(2)\n",
    "RMSE=np.sqrt(MSE).round(2)\n",
    "R2=r2_score(y_pred, y_test)\n",
    "\n",
    "result=pd.DataFrame({\"Model\":[\"Gradient Boosting Regression\"], \"MSE\":[MSE], \"RMSE\":[RMSE], \"R2 Score\":[R2]})\n",
    "\n",
    "results=pd.concat([results,result])\n",
    "results"
   ]
  },
  {
   "cell_type": "code",
   "execution_count": null,
   "id": "73ae1dae",
   "metadata": {},
   "outputs": [],
   "source": []
  },
  {
   "cell_type": "markdown",
   "id": "bc8f3bc0",
   "metadata": {},
   "source": [
    "### 5. ADA Boost"
   ]
  },
  {
   "cell_type": "code",
   "execution_count": 34,
   "id": "b074dcb7",
   "metadata": {},
   "outputs": [],
   "source": [
    "from sklearn.ensemble import AdaBoostRegressor\n",
    "\n",
    "ada=AdaBoostRegressor(n_estimators=100,learning_rate=0.001,random_state=0)\n",
    "ada.fit(x_train,y_train)\n",
    "y_pred=ada.predict(x_test)"
   ]
  },
  {
   "cell_type": "code",
   "execution_count": 35,
   "id": "1707bb28",
   "metadata": {},
   "outputs": [
    {
     "data": {
      "text/html": [
       "<div>\n",
       "<style scoped>\n",
       "    .dataframe tbody tr th:only-of-type {\n",
       "        vertical-align: middle;\n",
       "    }\n",
       "\n",
       "    .dataframe tbody tr th {\n",
       "        vertical-align: top;\n",
       "    }\n",
       "\n",
       "    .dataframe thead th {\n",
       "        text-align: right;\n",
       "    }\n",
       "</style>\n",
       "<table border=\"1\" class=\"dataframe\">\n",
       "  <thead>\n",
       "    <tr style=\"text-align: right;\">\n",
       "      <th></th>\n",
       "      <th>Model</th>\n",
       "      <th>MSE</th>\n",
       "      <th>RMSE</th>\n",
       "      <th>R2 Score</th>\n",
       "    </tr>\n",
       "  </thead>\n",
       "  <tbody>\n",
       "    <tr>\n",
       "      <th>0</th>\n",
       "      <td>Linear Regression</td>\n",
       "      <td>1.165097e+09</td>\n",
       "      <td>34133.52</td>\n",
       "      <td>0.517662</td>\n",
       "    </tr>\n",
       "    <tr>\n",
       "      <th>0</th>\n",
       "      <td>Decision Tree Regression</td>\n",
       "      <td>5.533518e+08</td>\n",
       "      <td>23523.43</td>\n",
       "      <td>0.846429</td>\n",
       "    </tr>\n",
       "    <tr>\n",
       "      <th>0</th>\n",
       "      <td>Random Forest Regression</td>\n",
       "      <td>5.814653e+08</td>\n",
       "      <td>24113.59</td>\n",
       "      <td>0.836842</td>\n",
       "    </tr>\n",
       "    <tr>\n",
       "      <th>0</th>\n",
       "      <td>Gradient Boosting Regression</td>\n",
       "      <td>5.494580e+08</td>\n",
       "      <td>23440.52</td>\n",
       "      <td>0.862283</td>\n",
       "    </tr>\n",
       "    <tr>\n",
       "      <th>0</th>\n",
       "      <td>ADA Boost Regression</td>\n",
       "      <td>7.632972e+08</td>\n",
       "      <td>27627.83</td>\n",
       "      <td>0.744935</td>\n",
       "    </tr>\n",
       "  </tbody>\n",
       "</table>\n",
       "</div>"
      ],
      "text/plain": [
       "                          Model           MSE      RMSE  R2 Score\n",
       "0             Linear Regression  1.165097e+09  34133.52  0.517662\n",
       "0      Decision Tree Regression  5.533518e+08  23523.43  0.846429\n",
       "0      Random Forest Regression  5.814653e+08  24113.59  0.836842\n",
       "0  Gradient Boosting Regression  5.494580e+08  23440.52  0.862283\n",
       "0          ADA Boost Regression  7.632972e+08  27627.83  0.744935"
      ]
     },
     "execution_count": 35,
     "metadata": {},
     "output_type": "execute_result"
    }
   ],
   "source": [
    "MSE=mse(y_pred,y_test).round(2)\n",
    "RMSE=np.sqrt(MSE).round(2)\n",
    "R2=r2_score(y_pred, y_test)\n",
    "\n",
    "result=pd.DataFrame({\"Model\":[\"ADA Boost Regression\"], \"MSE\":[MSE], \"RMSE\":[RMSE], \"R2 Score\":[R2]})\n",
    "\n",
    "results=pd.concat([results,result])\n",
    "results"
   ]
  },
  {
   "cell_type": "code",
   "execution_count": null,
   "id": "6aa3fcf2",
   "metadata": {},
   "outputs": [],
   "source": []
  },
  {
   "cell_type": "markdown",
   "id": "dd3dd890",
   "metadata": {},
   "source": [
    "### XG boost"
   ]
  },
  {
   "cell_type": "code",
   "execution_count": 36,
   "id": "195d2b39",
   "metadata": {},
   "outputs": [],
   "source": [
    "from xgboost import XGBRegressor\n",
    "\n",
    "xgb=XGBRegressor(verbosity=0) \n",
    "xgb.fit(x_train,y_train)\n",
    "y_pred=xgb.predict(x_test)"
   ]
  },
  {
   "cell_type": "code",
   "execution_count": 37,
   "id": "419ff775",
   "metadata": {},
   "outputs": [
    {
     "data": {
      "text/html": [
       "<div>\n",
       "<style scoped>\n",
       "    .dataframe tbody tr th:only-of-type {\n",
       "        vertical-align: middle;\n",
       "    }\n",
       "\n",
       "    .dataframe tbody tr th {\n",
       "        vertical-align: top;\n",
       "    }\n",
       "\n",
       "    .dataframe thead th {\n",
       "        text-align: right;\n",
       "    }\n",
       "</style>\n",
       "<table border=\"1\" class=\"dataframe\">\n",
       "  <thead>\n",
       "    <tr style=\"text-align: right;\">\n",
       "      <th></th>\n",
       "      <th>Model</th>\n",
       "      <th>MSE</th>\n",
       "      <th>RMSE</th>\n",
       "      <th>R2 Score</th>\n",
       "    </tr>\n",
       "  </thead>\n",
       "  <tbody>\n",
       "    <tr>\n",
       "      <th>0</th>\n",
       "      <td>Linear Regression</td>\n",
       "      <td>1.165097e+09</td>\n",
       "      <td>34133.52</td>\n",
       "      <td>0.517662</td>\n",
       "    </tr>\n",
       "    <tr>\n",
       "      <th>0</th>\n",
       "      <td>Decision Tree Regression</td>\n",
       "      <td>5.533518e+08</td>\n",
       "      <td>23523.43</td>\n",
       "      <td>0.846429</td>\n",
       "    </tr>\n",
       "    <tr>\n",
       "      <th>0</th>\n",
       "      <td>Random Forest Regression</td>\n",
       "      <td>5.814653e+08</td>\n",
       "      <td>24113.59</td>\n",
       "      <td>0.836842</td>\n",
       "    </tr>\n",
       "    <tr>\n",
       "      <th>0</th>\n",
       "      <td>Gradient Boosting Regression</td>\n",
       "      <td>5.494580e+08</td>\n",
       "      <td>23440.52</td>\n",
       "      <td>0.862283</td>\n",
       "    </tr>\n",
       "    <tr>\n",
       "      <th>0</th>\n",
       "      <td>ADA Boost Regression</td>\n",
       "      <td>7.632972e+08</td>\n",
       "      <td>27627.83</td>\n",
       "      <td>0.744935</td>\n",
       "    </tr>\n",
       "    <tr>\n",
       "      <th>0</th>\n",
       "      <td>XG Boost Regression</td>\n",
       "      <td>5.649962e+08</td>\n",
       "      <td>23769.65</td>\n",
       "      <td>0.845916</td>\n",
       "    </tr>\n",
       "  </tbody>\n",
       "</table>\n",
       "</div>"
      ],
      "text/plain": [
       "                          Model           MSE      RMSE  R2 Score\n",
       "0             Linear Regression  1.165097e+09  34133.52  0.517662\n",
       "0      Decision Tree Regression  5.533518e+08  23523.43  0.846429\n",
       "0      Random Forest Regression  5.814653e+08  24113.59  0.836842\n",
       "0  Gradient Boosting Regression  5.494580e+08  23440.52  0.862283\n",
       "0          ADA Boost Regression  7.632972e+08  27627.83  0.744935\n",
       "0           XG Boost Regression  5.649962e+08  23769.65  0.845916"
      ]
     },
     "execution_count": 37,
     "metadata": {},
     "output_type": "execute_result"
    }
   ],
   "source": [
    "MSE=mse(y_pred,y_test).round(2)\n",
    "RMSE=np.sqrt(MSE).round(2)\n",
    "R2=r2_score(y_pred, y_test)\n",
    "\n",
    "result=pd.DataFrame({\"Model\":[\"XG Boost Regression\"], \"MSE\":[MSE], \"RMSE\":[RMSE], \"R2 Score\":[R2]})\n",
    "\n",
    "results=pd.concat([results,result])\n",
    "results"
   ]
  },
  {
   "cell_type": "code",
   "execution_count": null,
   "id": "e3455091",
   "metadata": {},
   "outputs": [],
   "source": []
  },
  {
   "cell_type": "markdown",
   "id": "f8563395",
   "metadata": {},
   "source": [
    "### XG boost regressor has high R2 score and low RMSE, tune this model and select this to predict the price of Laptop."
   ]
  },
  {
   "cell_type": "code",
   "execution_count": 38,
   "id": "d520f163",
   "metadata": {},
   "outputs": [
    {
     "name": "stdout",
     "output_type": "stream",
     "text": [
      "457971928.85\n",
      "21400.27870963367\n",
      "86.84 %\n"
     ]
    }
   ],
   "source": [
    "xgb=XGBRegressor(learning_rate=0.15, n_estimators=50, max_leaves=0, random_state=42)\n",
    "\n",
    "xgb.fit(x_train,y_train)\n",
    "y_pred=xgb.predict(x_test)\n",
    "\n",
    "print(mse(y_pred,y_test).round(2))\n",
    "print(np.sqrt(mse(y_pred,y_test).round(2)))\n",
    "print(((r2_score(y_pred, y_test))*100).round(2),'%')"
   ]
  },
  {
   "cell_type": "code",
   "execution_count": null,
   "id": "2e5d76ee",
   "metadata": {},
   "outputs": [],
   "source": []
  },
  {
   "cell_type": "markdown",
   "id": "0906144a",
   "metadata": {},
   "source": [
    "### Cross validation to check model performace"
   ]
  },
  {
   "cell_type": "code",
   "execution_count": 39,
   "id": "ff1ddb0d",
   "metadata": {},
   "outputs": [
    {
     "name": "stdout",
     "output_type": "stream",
     "text": [
      "Cross validations Score:\n",
      " [0.8603306  0.80200795 0.87746295 0.88874028 0.87624929 0.8825799\n",
      " 0.76237864 0.8513186  0.84415186 0.80778223 0.7615706  0.86066386\n",
      " 0.87742852 0.83614981 0.79473697 0.86295514 0.86354206 0.88329833\n",
      " 0.88926268 0.8445585 ]\n",
      "Average Cross validations Score: 0.8463584395475351\n",
      "Maximum Cross validations Score: 0.8892626827893856\n",
      "Minimum Cross validations Score: 0.7615705985881537\n"
     ]
    }
   ],
   "source": [
    "from sklearn.model_selection import cross_val_score, KFold, ShuffleSplit\n",
    "\n",
    "xgb=XGBRegressor(learning_rate=0.15, n_estimators=50, max_leaves=0, random_state=42)\n",
    "\n",
    "k=ShuffleSplit(n_splits=20, test_size=0.2, random_state=20)\n",
    "score=cross_val_score(xgb, X,y, cv=k)\n",
    "print(\"Cross validations Score:\\n\", score)\n",
    "print(\"Average Cross validations Score:\", score.mean())\n",
    "print(\"Maximum Cross validations Score:\", score.max())\n",
    "print(\"Minimum Cross validations Score:\", score.min())"
   ]
  },
  {
   "cell_type": "markdown",
   "id": "8ba1a479",
   "metadata": {},
   "source": [
    "### Applying cross validation not improving model performance."
   ]
  },
  {
   "cell_type": "code",
   "execution_count": null,
   "id": "d4394696",
   "metadata": {},
   "outputs": [],
   "source": []
  },
  {
   "cell_type": "markdown",
   "id": "f95f827a",
   "metadata": {},
   "source": [
    "### Save model as pickle object"
   ]
  },
  {
   "cell_type": "code",
   "execution_count": 40,
   "id": "8e17d7ad",
   "metadata": {},
   "outputs": [],
   "source": [
    "import pickle\n",
    "pickle.dump(xgb, open('laptop_price_prediction_model.pkl', 'wb'))"
   ]
  },
  {
   "cell_type": "code",
   "execution_count": null,
   "id": "50fc38b4",
   "metadata": {},
   "outputs": [],
   "source": []
  },
  {
   "cell_type": "code",
   "execution_count": null,
   "id": "81c83311",
   "metadata": {},
   "outputs": [],
   "source": []
  },
  {
   "cell_type": "markdown",
   "id": "04b09de6",
   "metadata": {},
   "source": [
    "## Using Encoding (OneHotEncoding/Dummies)"
   ]
  },
  {
   "cell_type": "code",
   "execution_count": 41,
   "id": "2ffb4290",
   "metadata": {},
   "outputs": [],
   "source": [
    "data=df.copy()"
   ]
  },
  {
   "cell_type": "code",
   "execution_count": 42,
   "id": "091a1261",
   "metadata": {},
   "outputs": [
    {
     "data": {
      "text/html": [
       "<div>\n",
       "<style scoped>\n",
       "    .dataframe tbody tr th:only-of-type {\n",
       "        vertical-align: middle;\n",
       "    }\n",
       "\n",
       "    .dataframe tbody tr th {\n",
       "        vertical-align: top;\n",
       "    }\n",
       "\n",
       "    .dataframe thead th {\n",
       "        text-align: right;\n",
       "    }\n",
       "</style>\n",
       "<table border=\"1\" class=\"dataframe\">\n",
       "  <thead>\n",
       "    <tr style=\"text-align: right;\">\n",
       "      <th></th>\n",
       "      <th>Brand</th>\n",
       "      <th>Processor Type</th>\n",
       "      <th>Operating System</th>\n",
       "      <th>RAM Type</th>\n",
       "      <th>RAM Size</th>\n",
       "      <th>Disc Type</th>\n",
       "      <th>Disc Size</th>\n",
       "      <th>MRP</th>\n",
       "    </tr>\n",
       "  </thead>\n",
       "  <tbody>\n",
       "    <tr>\n",
       "      <th>0</th>\n",
       "      <td>Lenovo</td>\n",
       "      <td>Intel Core i3</td>\n",
       "      <td>Windows 11</td>\n",
       "      <td>DDR4</td>\n",
       "      <td>8GB</td>\n",
       "      <td>SSD</td>\n",
       "      <td>256GB</td>\n",
       "      <td>36990</td>\n",
       "    </tr>\n",
       "    <tr>\n",
       "      <th>1</th>\n",
       "      <td>Lenovo</td>\n",
       "      <td>Intel Core i3</td>\n",
       "      <td>Windows 11</td>\n",
       "      <td>DDR4</td>\n",
       "      <td>8GB</td>\n",
       "      <td>SSD</td>\n",
       "      <td>512GB</td>\n",
       "      <td>39990</td>\n",
       "    </tr>\n",
       "    <tr>\n",
       "      <th>2</th>\n",
       "      <td>ASUS</td>\n",
       "      <td>Intel Core i3</td>\n",
       "      <td>Windows 11</td>\n",
       "      <td>DDR4</td>\n",
       "      <td>8GB</td>\n",
       "      <td>SSD</td>\n",
       "      <td>512GB</td>\n",
       "      <td>32990</td>\n",
       "    </tr>\n",
       "    <tr>\n",
       "      <th>3</th>\n",
       "      <td>HP</td>\n",
       "      <td>AMD Ryzen 5 Hexa Core</td>\n",
       "      <td>Windows 10</td>\n",
       "      <td>DDR4</td>\n",
       "      <td>8GB</td>\n",
       "      <td>SSD</td>\n",
       "      <td>512GB</td>\n",
       "      <td>49990</td>\n",
       "    </tr>\n",
       "    <tr>\n",
       "      <th>4</th>\n",
       "      <td>ASUS</td>\n",
       "      <td>Intel Core i5</td>\n",
       "      <td>Windows 11</td>\n",
       "      <td>DDR4</td>\n",
       "      <td>8GB</td>\n",
       "      <td>SSD</td>\n",
       "      <td>512GB</td>\n",
       "      <td>49990</td>\n",
       "    </tr>\n",
       "  </tbody>\n",
       "</table>\n",
       "</div>"
      ],
      "text/plain": [
       "    Brand         Processor Type Operating System RAM Type RAM Size Disc Type  \\\n",
       "0  Lenovo          Intel Core i3       Windows 11     DDR4      8GB       SSD   \n",
       "1  Lenovo          Intel Core i3       Windows 11     DDR4      8GB       SSD   \n",
       "2    ASUS          Intel Core i3       Windows 11     DDR4      8GB       SSD   \n",
       "3      HP  AMD Ryzen 5 Hexa Core       Windows 10     DDR4      8GB       SSD   \n",
       "4    ASUS          Intel Core i5       Windows 11     DDR4      8GB       SSD   \n",
       "\n",
       "  Disc Size    MRP  \n",
       "0     256GB  36990  \n",
       "1     512GB  39990  \n",
       "2     512GB  32990  \n",
       "3     512GB  49990  \n",
       "4     512GB  49990  "
      ]
     },
     "execution_count": 42,
     "metadata": {},
     "output_type": "execute_result"
    }
   ],
   "source": [
    "data.head()"
   ]
  },
  {
   "cell_type": "code",
   "execution_count": 43,
   "id": "1a365251",
   "metadata": {},
   "outputs": [
    {
     "data": {
      "text/plain": [
       "array(['Intel Core i3', 'AMD Ryzen 5 Hexa Core', 'Intel Core i5',\n",
       "       'Intel i3-1115G4', 'AMD Ryzen 7 Quad Core',\n",
       "       'AMD Ryzen 5 Quad Core', 'AMD Ryzen 9 Octa Core',\n",
       "       'AMD Ryzen 7 Octa Core', 'Apple M1', 'Intel Celeron Dual Core',\n",
       "       'AMD Ryzen 3 Dual Core', 'AMD Athlon Dual Core',\n",
       "       'Intel Evo Core i5', 'AMD Ryzen 3 Quad Core', 'Apple M2',\n",
       "       'AMD Ryzen R5-5600H', 'Intel Celeron Quad Core', 'Intel Core i7',\n",
       "       'Apple M1 Pro', 'Qualcomm Snapdragon 7c Gen 2', 'Intel PQC-N5030',\n",
       "       'Gen Intel Evo Core i5', 'Apple M1 Max', 'Intel Core i9',\n",
       "       'Intel Pentium Silver', 'Intel i3-1125G4', 'AMD Ryzen 5-3450U',\n",
       "       'AMD Ryzen 5 Dual Core', 'Intel Core i5-1135G7',\n",
       "       'Intel Core i3-1005G1', 'Intel Pentium Quad Core',\n",
       "       'Intel Core i5 Pro', 'AMD Dual Core', 'Intel i7-11800H',\n",
       "       'AMD Ryzen 3 Hexa Core'], dtype=object)"
      ]
     },
     "execution_count": 43,
     "metadata": {},
     "output_type": "execute_result"
    }
   ],
   "source": [
    "data['Processor Type'].unique()"
   ]
  },
  {
   "cell_type": "markdown",
   "id": "665224cf",
   "metadata": {},
   "source": [
    "### Create only 4 Main Processor type using above values"
   ]
  },
  {
   "cell_type": "code",
   "execution_count": 44,
   "id": "55a89571",
   "metadata": {},
   "outputs": [],
   "source": [
    "data['Processor Type']=data['Processor Type'].apply(lambda x: x.replace(\"Gen \",\"\"))"
   ]
  },
  {
   "cell_type": "code",
   "execution_count": 45,
   "id": "4d5a97db",
   "metadata": {},
   "outputs": [],
   "source": [
    "data[['Processor', 'x','y','z','a']]=data['Processor Type'].str.split(\" \", expand=True)"
   ]
  },
  {
   "cell_type": "code",
   "execution_count": 46,
   "id": "c3269e5b",
   "metadata": {},
   "outputs": [
    {
     "data": {
      "text/plain": [
       "array(['Intel', 'AMD', 'Apple', 'Qualcomm'], dtype=object)"
      ]
     },
     "execution_count": 46,
     "metadata": {},
     "output_type": "execute_result"
    }
   ],
   "source": [
    "data.drop(['x','y','z','a'], axis=1, inplace=True)\n",
    "data['Processor'].unique()"
   ]
  },
  {
   "cell_type": "markdown",
   "id": "f3b7701f",
   "metadata": {},
   "source": [
    "### We have created new column which contains main Processor type, hence drop old processor type column"
   ]
  },
  {
   "cell_type": "code",
   "execution_count": 47,
   "id": "29ab467c",
   "metadata": {},
   "outputs": [],
   "source": [
    "data.drop('Processor Type', axis=1, inplace=True)"
   ]
  },
  {
   "cell_type": "code",
   "execution_count": 48,
   "id": "27ff7309",
   "metadata": {},
   "outputs": [],
   "source": [
    "data=data[['Brand', 'Operating System', 'Processor','RAM Type', 'RAM Size', 'Disc Type', 'Disc Size', 'MRP']]"
   ]
  },
  {
   "cell_type": "code",
   "execution_count": 49,
   "id": "e936c4d6",
   "metadata": {},
   "outputs": [
    {
     "data": {
      "text/html": [
       "<div>\n",
       "<style scoped>\n",
       "    .dataframe tbody tr th:only-of-type {\n",
       "        vertical-align: middle;\n",
       "    }\n",
       "\n",
       "    .dataframe tbody tr th {\n",
       "        vertical-align: top;\n",
       "    }\n",
       "\n",
       "    .dataframe thead th {\n",
       "        text-align: right;\n",
       "    }\n",
       "</style>\n",
       "<table border=\"1\" class=\"dataframe\">\n",
       "  <thead>\n",
       "    <tr style=\"text-align: right;\">\n",
       "      <th></th>\n",
       "      <th>Brand</th>\n",
       "      <th>Operating System</th>\n",
       "      <th>Processor</th>\n",
       "      <th>RAM Type</th>\n",
       "      <th>RAM Size</th>\n",
       "      <th>Disc Type</th>\n",
       "      <th>Disc Size</th>\n",
       "      <th>MRP</th>\n",
       "    </tr>\n",
       "  </thead>\n",
       "  <tbody>\n",
       "    <tr>\n",
       "      <th>0</th>\n",
       "      <td>Lenovo</td>\n",
       "      <td>Windows 11</td>\n",
       "      <td>Intel</td>\n",
       "      <td>DDR4</td>\n",
       "      <td>8GB</td>\n",
       "      <td>SSD</td>\n",
       "      <td>256GB</td>\n",
       "      <td>36990</td>\n",
       "    </tr>\n",
       "    <tr>\n",
       "      <th>1</th>\n",
       "      <td>Lenovo</td>\n",
       "      <td>Windows 11</td>\n",
       "      <td>Intel</td>\n",
       "      <td>DDR4</td>\n",
       "      <td>8GB</td>\n",
       "      <td>SSD</td>\n",
       "      <td>512GB</td>\n",
       "      <td>39990</td>\n",
       "    </tr>\n",
       "    <tr>\n",
       "      <th>2</th>\n",
       "      <td>ASUS</td>\n",
       "      <td>Windows 11</td>\n",
       "      <td>Intel</td>\n",
       "      <td>DDR4</td>\n",
       "      <td>8GB</td>\n",
       "      <td>SSD</td>\n",
       "      <td>512GB</td>\n",
       "      <td>32990</td>\n",
       "    </tr>\n",
       "    <tr>\n",
       "      <th>3</th>\n",
       "      <td>HP</td>\n",
       "      <td>Windows 10</td>\n",
       "      <td>AMD</td>\n",
       "      <td>DDR4</td>\n",
       "      <td>8GB</td>\n",
       "      <td>SSD</td>\n",
       "      <td>512GB</td>\n",
       "      <td>49990</td>\n",
       "    </tr>\n",
       "    <tr>\n",
       "      <th>4</th>\n",
       "      <td>ASUS</td>\n",
       "      <td>Windows 11</td>\n",
       "      <td>Intel</td>\n",
       "      <td>DDR4</td>\n",
       "      <td>8GB</td>\n",
       "      <td>SSD</td>\n",
       "      <td>512GB</td>\n",
       "      <td>49990</td>\n",
       "    </tr>\n",
       "  </tbody>\n",
       "</table>\n",
       "</div>"
      ],
      "text/plain": [
       "    Brand Operating System Processor RAM Type RAM Size Disc Type Disc Size  \\\n",
       "0  Lenovo       Windows 11     Intel     DDR4      8GB       SSD     256GB   \n",
       "1  Lenovo       Windows 11     Intel     DDR4      8GB       SSD     512GB   \n",
       "2    ASUS       Windows 11     Intel     DDR4      8GB       SSD     512GB   \n",
       "3      HP       Windows 10       AMD     DDR4      8GB       SSD     512GB   \n",
       "4    ASUS       Windows 11     Intel     DDR4      8GB       SSD     512GB   \n",
       "\n",
       "     MRP  \n",
       "0  36990  \n",
       "1  39990  \n",
       "2  32990  \n",
       "3  49990  \n",
       "4  49990  "
      ]
     },
     "execution_count": 49,
     "metadata": {},
     "output_type": "execute_result"
    }
   ],
   "source": [
    "data.head()"
   ]
  },
  {
   "cell_type": "code",
   "execution_count": 59,
   "id": "c3809843",
   "metadata": {},
   "outputs": [],
   "source": [
    "data.to_csv(\"laptop_price.csv\", index=False)"
   ]
  },
  {
   "cell_type": "markdown",
   "id": "ffce51c2",
   "metadata": {},
   "source": [
    "### Create dummies for all Categorical column"
   ]
  },
  {
   "cell_type": "code",
   "execution_count": 50,
   "id": "34990a22",
   "metadata": {},
   "outputs": [],
   "source": [
    "pd.options.display.max_columns=100"
   ]
  },
  {
   "cell_type": "code",
   "execution_count": 51,
   "id": "fc466d7b",
   "metadata": {},
   "outputs": [
    {
     "data": {
      "text/html": [
       "<div>\n",
       "<style scoped>\n",
       "    .dataframe tbody tr th:only-of-type {\n",
       "        vertical-align: middle;\n",
       "    }\n",
       "\n",
       "    .dataframe tbody tr th {\n",
       "        vertical-align: top;\n",
       "    }\n",
       "\n",
       "    .dataframe thead th {\n",
       "        text-align: right;\n",
       "    }\n",
       "</style>\n",
       "<table border=\"1\" class=\"dataframe\">\n",
       "  <thead>\n",
       "    <tr style=\"text-align: right;\">\n",
       "      <th></th>\n",
       "      <th>MRP</th>\n",
       "      <th>Brand_ALIENWARE</th>\n",
       "      <th>Brand_APPLE</th>\n",
       "      <th>Brand_ASUS</th>\n",
       "      <th>Brand_DELL</th>\n",
       "      <th>Brand_GIGABYTE</th>\n",
       "      <th>Brand_HP</th>\n",
       "      <th>Brand_Infinix</th>\n",
       "      <th>Brand_Lenovo</th>\n",
       "      <th>Brand_MSI</th>\n",
       "      <th>Brand_Nokia</th>\n",
       "      <th>Brand_RedmiBook</th>\n",
       "      <th>Brand_SAMSUNG</th>\n",
       "      <th>Brand_Ultimus</th>\n",
       "      <th>Brand_Vaio</th>\n",
       "      <th>Brand_acer</th>\n",
       "      <th>Brand_realme</th>\n",
       "      <th>Operating System_Chrome</th>\n",
       "      <th>Operating System_DOS</th>\n",
       "      <th>Operating System_Mac</th>\n",
       "      <th>Operating System_Windows 10</th>\n",
       "      <th>Operating System_Windows 11</th>\n",
       "      <th>Processor_AMD</th>\n",
       "      <th>Processor_Apple</th>\n",
       "      <th>Processor_Intel</th>\n",
       "      <th>Processor_Qualcomm</th>\n",
       "      <th>RAM Type_DDR4</th>\n",
       "      <th>RAM Type_DDR5</th>\n",
       "      <th>RAM Type_LPDDR3</th>\n",
       "      <th>RAM Type_LPDDR4</th>\n",
       "      <th>RAM Type_LPDDR4X</th>\n",
       "      <th>RAM Type_LPDDR5</th>\n",
       "      <th>RAM Type_Unified</th>\n",
       "      <th>RAM Size_16GB</th>\n",
       "      <th>RAM Size_32GB</th>\n",
       "      <th>RAM Size_4GB</th>\n",
       "      <th>RAM Size_8GB</th>\n",
       "      <th>Disc Type_EMMC</th>\n",
       "      <th>Disc Type_HDD</th>\n",
       "      <th>Disc Type_SSD</th>\n",
       "      <th>Disc Size_128GB</th>\n",
       "      <th>Disc Size_1TB</th>\n",
       "      <th>Disc Size_256GB</th>\n",
       "      <th>Disc Size_2TB</th>\n",
       "      <th>Disc Size_32GB</th>\n",
       "      <th>Disc Size_512GB</th>\n",
       "      <th>Disc Size_64GB</th>\n",
       "    </tr>\n",
       "  </thead>\n",
       "  <tbody>\n",
       "    <tr>\n",
       "      <th>0</th>\n",
       "      <td>36990</td>\n",
       "      <td>0</td>\n",
       "      <td>0</td>\n",
       "      <td>0</td>\n",
       "      <td>0</td>\n",
       "      <td>0</td>\n",
       "      <td>0</td>\n",
       "      <td>0</td>\n",
       "      <td>1</td>\n",
       "      <td>0</td>\n",
       "      <td>0</td>\n",
       "      <td>0</td>\n",
       "      <td>0</td>\n",
       "      <td>0</td>\n",
       "      <td>0</td>\n",
       "      <td>0</td>\n",
       "      <td>0</td>\n",
       "      <td>0</td>\n",
       "      <td>0</td>\n",
       "      <td>0</td>\n",
       "      <td>0</td>\n",
       "      <td>1</td>\n",
       "      <td>0</td>\n",
       "      <td>0</td>\n",
       "      <td>1</td>\n",
       "      <td>0</td>\n",
       "      <td>1</td>\n",
       "      <td>0</td>\n",
       "      <td>0</td>\n",
       "      <td>0</td>\n",
       "      <td>0</td>\n",
       "      <td>0</td>\n",
       "      <td>0</td>\n",
       "      <td>0</td>\n",
       "      <td>0</td>\n",
       "      <td>0</td>\n",
       "      <td>1</td>\n",
       "      <td>0</td>\n",
       "      <td>0</td>\n",
       "      <td>1</td>\n",
       "      <td>0</td>\n",
       "      <td>0</td>\n",
       "      <td>1</td>\n",
       "      <td>0</td>\n",
       "      <td>0</td>\n",
       "      <td>0</td>\n",
       "      <td>0</td>\n",
       "    </tr>\n",
       "    <tr>\n",
       "      <th>1</th>\n",
       "      <td>39990</td>\n",
       "      <td>0</td>\n",
       "      <td>0</td>\n",
       "      <td>0</td>\n",
       "      <td>0</td>\n",
       "      <td>0</td>\n",
       "      <td>0</td>\n",
       "      <td>0</td>\n",
       "      <td>1</td>\n",
       "      <td>0</td>\n",
       "      <td>0</td>\n",
       "      <td>0</td>\n",
       "      <td>0</td>\n",
       "      <td>0</td>\n",
       "      <td>0</td>\n",
       "      <td>0</td>\n",
       "      <td>0</td>\n",
       "      <td>0</td>\n",
       "      <td>0</td>\n",
       "      <td>0</td>\n",
       "      <td>0</td>\n",
       "      <td>1</td>\n",
       "      <td>0</td>\n",
       "      <td>0</td>\n",
       "      <td>1</td>\n",
       "      <td>0</td>\n",
       "      <td>1</td>\n",
       "      <td>0</td>\n",
       "      <td>0</td>\n",
       "      <td>0</td>\n",
       "      <td>0</td>\n",
       "      <td>0</td>\n",
       "      <td>0</td>\n",
       "      <td>0</td>\n",
       "      <td>0</td>\n",
       "      <td>0</td>\n",
       "      <td>1</td>\n",
       "      <td>0</td>\n",
       "      <td>0</td>\n",
       "      <td>1</td>\n",
       "      <td>0</td>\n",
       "      <td>0</td>\n",
       "      <td>0</td>\n",
       "      <td>0</td>\n",
       "      <td>0</td>\n",
       "      <td>1</td>\n",
       "      <td>0</td>\n",
       "    </tr>\n",
       "    <tr>\n",
       "      <th>2</th>\n",
       "      <td>32990</td>\n",
       "      <td>0</td>\n",
       "      <td>0</td>\n",
       "      <td>1</td>\n",
       "      <td>0</td>\n",
       "      <td>0</td>\n",
       "      <td>0</td>\n",
       "      <td>0</td>\n",
       "      <td>0</td>\n",
       "      <td>0</td>\n",
       "      <td>0</td>\n",
       "      <td>0</td>\n",
       "      <td>0</td>\n",
       "      <td>0</td>\n",
       "      <td>0</td>\n",
       "      <td>0</td>\n",
       "      <td>0</td>\n",
       "      <td>0</td>\n",
       "      <td>0</td>\n",
       "      <td>0</td>\n",
       "      <td>0</td>\n",
       "      <td>1</td>\n",
       "      <td>0</td>\n",
       "      <td>0</td>\n",
       "      <td>1</td>\n",
       "      <td>0</td>\n",
       "      <td>1</td>\n",
       "      <td>0</td>\n",
       "      <td>0</td>\n",
       "      <td>0</td>\n",
       "      <td>0</td>\n",
       "      <td>0</td>\n",
       "      <td>0</td>\n",
       "      <td>0</td>\n",
       "      <td>0</td>\n",
       "      <td>0</td>\n",
       "      <td>1</td>\n",
       "      <td>0</td>\n",
       "      <td>0</td>\n",
       "      <td>1</td>\n",
       "      <td>0</td>\n",
       "      <td>0</td>\n",
       "      <td>0</td>\n",
       "      <td>0</td>\n",
       "      <td>0</td>\n",
       "      <td>1</td>\n",
       "      <td>0</td>\n",
       "    </tr>\n",
       "    <tr>\n",
       "      <th>3</th>\n",
       "      <td>49990</td>\n",
       "      <td>0</td>\n",
       "      <td>0</td>\n",
       "      <td>0</td>\n",
       "      <td>0</td>\n",
       "      <td>0</td>\n",
       "      <td>1</td>\n",
       "      <td>0</td>\n",
       "      <td>0</td>\n",
       "      <td>0</td>\n",
       "      <td>0</td>\n",
       "      <td>0</td>\n",
       "      <td>0</td>\n",
       "      <td>0</td>\n",
       "      <td>0</td>\n",
       "      <td>0</td>\n",
       "      <td>0</td>\n",
       "      <td>0</td>\n",
       "      <td>0</td>\n",
       "      <td>0</td>\n",
       "      <td>1</td>\n",
       "      <td>0</td>\n",
       "      <td>1</td>\n",
       "      <td>0</td>\n",
       "      <td>0</td>\n",
       "      <td>0</td>\n",
       "      <td>1</td>\n",
       "      <td>0</td>\n",
       "      <td>0</td>\n",
       "      <td>0</td>\n",
       "      <td>0</td>\n",
       "      <td>0</td>\n",
       "      <td>0</td>\n",
       "      <td>0</td>\n",
       "      <td>0</td>\n",
       "      <td>0</td>\n",
       "      <td>1</td>\n",
       "      <td>0</td>\n",
       "      <td>0</td>\n",
       "      <td>1</td>\n",
       "      <td>0</td>\n",
       "      <td>0</td>\n",
       "      <td>0</td>\n",
       "      <td>0</td>\n",
       "      <td>0</td>\n",
       "      <td>1</td>\n",
       "      <td>0</td>\n",
       "    </tr>\n",
       "    <tr>\n",
       "      <th>4</th>\n",
       "      <td>49990</td>\n",
       "      <td>0</td>\n",
       "      <td>0</td>\n",
       "      <td>1</td>\n",
       "      <td>0</td>\n",
       "      <td>0</td>\n",
       "      <td>0</td>\n",
       "      <td>0</td>\n",
       "      <td>0</td>\n",
       "      <td>0</td>\n",
       "      <td>0</td>\n",
       "      <td>0</td>\n",
       "      <td>0</td>\n",
       "      <td>0</td>\n",
       "      <td>0</td>\n",
       "      <td>0</td>\n",
       "      <td>0</td>\n",
       "      <td>0</td>\n",
       "      <td>0</td>\n",
       "      <td>0</td>\n",
       "      <td>0</td>\n",
       "      <td>1</td>\n",
       "      <td>0</td>\n",
       "      <td>0</td>\n",
       "      <td>1</td>\n",
       "      <td>0</td>\n",
       "      <td>1</td>\n",
       "      <td>0</td>\n",
       "      <td>0</td>\n",
       "      <td>0</td>\n",
       "      <td>0</td>\n",
       "      <td>0</td>\n",
       "      <td>0</td>\n",
       "      <td>0</td>\n",
       "      <td>0</td>\n",
       "      <td>0</td>\n",
       "      <td>1</td>\n",
       "      <td>0</td>\n",
       "      <td>0</td>\n",
       "      <td>1</td>\n",
       "      <td>0</td>\n",
       "      <td>0</td>\n",
       "      <td>0</td>\n",
       "      <td>0</td>\n",
       "      <td>0</td>\n",
       "      <td>1</td>\n",
       "      <td>0</td>\n",
       "    </tr>\n",
       "  </tbody>\n",
       "</table>\n",
       "</div>"
      ],
      "text/plain": [
       "     MRP  Brand_ALIENWARE  Brand_APPLE  Brand_ASUS  Brand_DELL  \\\n",
       "0  36990                0            0           0           0   \n",
       "1  39990                0            0           0           0   \n",
       "2  32990                0            0           1           0   \n",
       "3  49990                0            0           0           0   \n",
       "4  49990                0            0           1           0   \n",
       "\n",
       "   Brand_GIGABYTE  Brand_HP  Brand_Infinix  Brand_Lenovo  Brand_MSI  \\\n",
       "0               0         0              0             1          0   \n",
       "1               0         0              0             1          0   \n",
       "2               0         0              0             0          0   \n",
       "3               0         1              0             0          0   \n",
       "4               0         0              0             0          0   \n",
       "\n",
       "   Brand_Nokia  Brand_RedmiBook  Brand_SAMSUNG  Brand_Ultimus  Brand_Vaio  \\\n",
       "0            0                0              0              0           0   \n",
       "1            0                0              0              0           0   \n",
       "2            0                0              0              0           0   \n",
       "3            0                0              0              0           0   \n",
       "4            0                0              0              0           0   \n",
       "\n",
       "   Brand_acer  Brand_realme  Operating System_Chrome  Operating System_DOS  \\\n",
       "0           0             0                        0                     0   \n",
       "1           0             0                        0                     0   \n",
       "2           0             0                        0                     0   \n",
       "3           0             0                        0                     0   \n",
       "4           0             0                        0                     0   \n",
       "\n",
       "   Operating System_Mac  Operating System_Windows 10  \\\n",
       "0                     0                            0   \n",
       "1                     0                            0   \n",
       "2                     0                            0   \n",
       "3                     0                            1   \n",
       "4                     0                            0   \n",
       "\n",
       "   Operating System_Windows 11  Processor_AMD  Processor_Apple  \\\n",
       "0                            1              0                0   \n",
       "1                            1              0                0   \n",
       "2                            1              0                0   \n",
       "3                            0              1                0   \n",
       "4                            1              0                0   \n",
       "\n",
       "   Processor_Intel  Processor_Qualcomm  RAM Type_DDR4  RAM Type_DDR5  \\\n",
       "0                1                   0              1              0   \n",
       "1                1                   0              1              0   \n",
       "2                1                   0              1              0   \n",
       "3                0                   0              1              0   \n",
       "4                1                   0              1              0   \n",
       "\n",
       "   RAM Type_LPDDR3  RAM Type_LPDDR4  RAM Type_LPDDR4X  RAM Type_LPDDR5  \\\n",
       "0                0                0                 0                0   \n",
       "1                0                0                 0                0   \n",
       "2                0                0                 0                0   \n",
       "3                0                0                 0                0   \n",
       "4                0                0                 0                0   \n",
       "\n",
       "   RAM Type_Unified  RAM Size_16GB  RAM Size_32GB  RAM Size_4GB  RAM Size_8GB  \\\n",
       "0                 0              0              0             0             1   \n",
       "1                 0              0              0             0             1   \n",
       "2                 0              0              0             0             1   \n",
       "3                 0              0              0             0             1   \n",
       "4                 0              0              0             0             1   \n",
       "\n",
       "   Disc Type_EMMC  Disc Type_HDD  Disc Type_SSD  Disc Size_128GB  \\\n",
       "0               0              0              1                0   \n",
       "1               0              0              1                0   \n",
       "2               0              0              1                0   \n",
       "3               0              0              1                0   \n",
       "4               0              0              1                0   \n",
       "\n",
       "   Disc Size_1TB  Disc Size_256GB  Disc Size_2TB  Disc Size_32GB  \\\n",
       "0              0                1              0               0   \n",
       "1              0                0              0               0   \n",
       "2              0                0              0               0   \n",
       "3              0                0              0               0   \n",
       "4              0                0              0               0   \n",
       "\n",
       "   Disc Size_512GB  Disc Size_64GB  \n",
       "0                0               0  \n",
       "1                1               0  \n",
       "2                1               0  \n",
       "3                1               0  \n",
       "4                1               0  "
      ]
     },
     "execution_count": 51,
     "metadata": {},
     "output_type": "execute_result"
    }
   ],
   "source": [
    "data1=pd.get_dummies(data)\n",
    "data1.head()"
   ]
  },
  {
   "cell_type": "code",
   "execution_count": 52,
   "id": "84985bd4",
   "metadata": {},
   "outputs": [],
   "source": [
    "X=data1.drop(\"MRP\", axis=1).values\n",
    "y=data1[\"MRP\"].values"
   ]
  },
  {
   "cell_type": "code",
   "execution_count": 53,
   "id": "59a94a6c",
   "metadata": {},
   "outputs": [],
   "source": [
    "from sklearn.model_selection import train_test_split\n",
    "\n",
    "x_train,x_test,y_train,y_test=train_test_split(X,y,test_size=0.2, random_state=0)"
   ]
  },
  {
   "cell_type": "code",
   "execution_count": 54,
   "id": "1e6221bd",
   "metadata": {},
   "outputs": [],
   "source": [
    "from sklearn.ensemble import RandomForestRegressor\n",
    "\n",
    "rf=RandomForestRegressor()\n",
    "rf=rf.fit(x_train,y_train)\n",
    "y_pred=rf.predict(x_test)"
   ]
  },
  {
   "cell_type": "code",
   "execution_count": 55,
   "id": "7213e01e",
   "metadata": {},
   "outputs": [
    {
     "name": "stdout",
     "output_type": "stream",
     "text": [
      "0.8898321803157054\n"
     ]
    }
   ],
   "source": [
    "from sklearn.metrics import r2_score, mean_squared_error\n",
    "\n",
    "print(r2_score(y_pred,y_test))"
   ]
  },
  {
   "cell_type": "code",
   "execution_count": 56,
   "id": "c01e6b0e",
   "metadata": {},
   "outputs": [],
   "source": [
    "from xgboost import XGBRegressor\n",
    "\n",
    "xgb=XGBRegressor(n_estimators=100,max_depth=2, max_leaves=2, booster='gbtree', learning_rate=0.19)\n",
    "xgb=xgb.fit(x_train,y_train)\n",
    "y_pred=xgb.predict(x_test)"
   ]
  },
  {
   "cell_type": "code",
   "execution_count": 57,
   "id": "c0985db9",
   "metadata": {},
   "outputs": [
    {
     "name": "stdout",
     "output_type": "stream",
     "text": [
      "0.9194503254451336\n"
     ]
    }
   ],
   "source": [
    "print(r2_score(y_pred,y_test))"
   ]
  },
  {
   "cell_type": "code",
   "execution_count": 58,
   "id": "a030e102",
   "metadata": {},
   "outputs": [
    {
     "name": "stdout",
     "output_type": "stream",
     "text": [
      "Cross validations Score:\n",
      " [0.91495966 0.86168018 0.87582945 0.87495164 0.75954796 0.8584843\n",
      " 0.85802864 0.861162   0.89802215 0.89467985 0.90591489 0.9027385\n",
      " 0.80068514 0.87119416 0.84570491 0.90027658 0.91734123 0.89167961\n",
      " 0.8737434  0.86210028]\n",
      "Average Cross validations Score: 0.8714362267743091\n",
      "Maximum Cross validations Score: 0.9173412332283342\n",
      "Minimum Cross validations Score: 0.7595479639635282\n"
     ]
    }
   ],
   "source": [
    "from sklearn.model_selection import cross_val_score, KFold, ShuffleSplit\n",
    "\n",
    "xgb=XGBRegressor(n_estimators=100,max_depth=2, max_leaves=2, booster='gbtree', learning_rate=0.19)\n",
    "\n",
    "k=ShuffleSplit(n_splits=20, test_size=0.2, random_state=0)\n",
    "score=cross_val_score(xgb, X,y, cv=k)\n",
    "print(\"Cross validations Score:\\n\", score)\n",
    "print(\"Average Cross validations Score:\", score.mean())\n",
    "print(\"Maximum Cross validations Score:\", score.max())\n",
    "print(\"Minimum Cross validations Score:\", score.min())"
   ]
  },
  {
   "cell_type": "markdown",
   "id": "2235da46",
   "metadata": {},
   "source": [
    "### The model performace Increased little bit."
   ]
  },
  {
   "cell_type": "code",
   "execution_count": null,
   "id": "0dbb0f7f",
   "metadata": {},
   "outputs": [],
   "source": []
  }
 ],
 "metadata": {
  "kernelspec": {
   "display_name": "python3.11",
   "language": "python",
   "name": "python3.11"
  },
  "language_info": {
   "codemirror_mode": {
    "name": "ipython",
    "version": 3
   },
   "file_extension": ".py",
   "mimetype": "text/x-python",
   "name": "python",
   "nbconvert_exporter": "python",
   "pygments_lexer": "ipython3",
   "version": "3.9.7"
  }
 },
 "nbformat": 4,
 "nbformat_minor": 5
}
