{
 "cells": [
  {
   "cell_type": "markdown",
   "id": "4eec3ef2",
   "metadata": {},
   "source": [
    "## Mobile Price Classification\n",
    "**By: `Suraj Honkamble`**"
   ]
  },
  {
   "cell_type": "code",
   "execution_count": null,
   "id": "111d62d5",
   "metadata": {},
   "outputs": [],
   "source": []
  },
  {
   "cell_type": "markdown",
   "id": "3422a9ff",
   "metadata": {},
   "source": [
    "### Import required libraries"
   ]
  },
  {
   "cell_type": "code",
   "execution_count": 23,
   "id": "b7aff00c",
   "metadata": {},
   "outputs": [],
   "source": [
    "import pandas as pd\n",
    "import numpy as np\n",
    "import matplotlib.pyplot as plt\n",
    "import seaborn as sns\n",
    "sns.set_style('darkgrid')\n",
    "import warnings\n",
    "warnings.filterwarnings('ignore')"
   ]
  },
  {
   "cell_type": "markdown",
   "id": "e49ce4e5",
   "metadata": {},
   "source": [
    "### Load and Read train data"
   ]
  },
  {
   "cell_type": "code",
   "execution_count": 9,
   "id": "45c4edb0",
   "metadata": {},
   "outputs": [],
   "source": [
    "pd.options.display.max_columns=50"
   ]
  },
  {
   "cell_type": "code",
   "execution_count": 10,
   "id": "e455720c",
   "metadata": {},
   "outputs": [
    {
     "data": {
      "text/html": [
       "<div>\n",
       "<style scoped>\n",
       "    .dataframe tbody tr th:only-of-type {\n",
       "        vertical-align: middle;\n",
       "    }\n",
       "\n",
       "    .dataframe tbody tr th {\n",
       "        vertical-align: top;\n",
       "    }\n",
       "\n",
       "    .dataframe thead th {\n",
       "        text-align: right;\n",
       "    }\n",
       "</style>\n",
       "<table border=\"1\" class=\"dataframe\">\n",
       "  <thead>\n",
       "    <tr style=\"text-align: right;\">\n",
       "      <th></th>\n",
       "      <th>battery_power</th>\n",
       "      <th>blue</th>\n",
       "      <th>clock_speed</th>\n",
       "      <th>dual_sim</th>\n",
       "      <th>fc</th>\n",
       "      <th>four_g</th>\n",
       "      <th>int_memory</th>\n",
       "      <th>m_dep</th>\n",
       "      <th>mobile_wt</th>\n",
       "      <th>n_cores</th>\n",
       "      <th>pc</th>\n",
       "      <th>px_height</th>\n",
       "      <th>px_width</th>\n",
       "      <th>ram</th>\n",
       "      <th>sc_h</th>\n",
       "      <th>sc_w</th>\n",
       "      <th>talk_time</th>\n",
       "      <th>three_g</th>\n",
       "      <th>touch_screen</th>\n",
       "      <th>wifi</th>\n",
       "      <th>price_range</th>\n",
       "    </tr>\n",
       "  </thead>\n",
       "  <tbody>\n",
       "    <tr>\n",
       "      <th>0</th>\n",
       "      <td>842</td>\n",
       "      <td>0</td>\n",
       "      <td>2.2</td>\n",
       "      <td>0</td>\n",
       "      <td>1</td>\n",
       "      <td>0</td>\n",
       "      <td>7</td>\n",
       "      <td>0.6</td>\n",
       "      <td>188</td>\n",
       "      <td>2</td>\n",
       "      <td>2</td>\n",
       "      <td>20</td>\n",
       "      <td>756</td>\n",
       "      <td>2549</td>\n",
       "      <td>9</td>\n",
       "      <td>7</td>\n",
       "      <td>19</td>\n",
       "      <td>0</td>\n",
       "      <td>0</td>\n",
       "      <td>1</td>\n",
       "      <td>1</td>\n",
       "    </tr>\n",
       "    <tr>\n",
       "      <th>1</th>\n",
       "      <td>1021</td>\n",
       "      <td>1</td>\n",
       "      <td>0.5</td>\n",
       "      <td>1</td>\n",
       "      <td>0</td>\n",
       "      <td>1</td>\n",
       "      <td>53</td>\n",
       "      <td>0.7</td>\n",
       "      <td>136</td>\n",
       "      <td>3</td>\n",
       "      <td>6</td>\n",
       "      <td>905</td>\n",
       "      <td>1988</td>\n",
       "      <td>2631</td>\n",
       "      <td>17</td>\n",
       "      <td>3</td>\n",
       "      <td>7</td>\n",
       "      <td>1</td>\n",
       "      <td>1</td>\n",
       "      <td>0</td>\n",
       "      <td>2</td>\n",
       "    </tr>\n",
       "    <tr>\n",
       "      <th>2</th>\n",
       "      <td>563</td>\n",
       "      <td>1</td>\n",
       "      <td>0.5</td>\n",
       "      <td>1</td>\n",
       "      <td>2</td>\n",
       "      <td>1</td>\n",
       "      <td>41</td>\n",
       "      <td>0.9</td>\n",
       "      <td>145</td>\n",
       "      <td>5</td>\n",
       "      <td>6</td>\n",
       "      <td>1263</td>\n",
       "      <td>1716</td>\n",
       "      <td>2603</td>\n",
       "      <td>11</td>\n",
       "      <td>2</td>\n",
       "      <td>9</td>\n",
       "      <td>1</td>\n",
       "      <td>1</td>\n",
       "      <td>0</td>\n",
       "      <td>2</td>\n",
       "    </tr>\n",
       "    <tr>\n",
       "      <th>3</th>\n",
       "      <td>615</td>\n",
       "      <td>1</td>\n",
       "      <td>2.5</td>\n",
       "      <td>0</td>\n",
       "      <td>0</td>\n",
       "      <td>0</td>\n",
       "      <td>10</td>\n",
       "      <td>0.8</td>\n",
       "      <td>131</td>\n",
       "      <td>6</td>\n",
       "      <td>9</td>\n",
       "      <td>1216</td>\n",
       "      <td>1786</td>\n",
       "      <td>2769</td>\n",
       "      <td>16</td>\n",
       "      <td>8</td>\n",
       "      <td>11</td>\n",
       "      <td>1</td>\n",
       "      <td>0</td>\n",
       "      <td>0</td>\n",
       "      <td>2</td>\n",
       "    </tr>\n",
       "    <tr>\n",
       "      <th>4</th>\n",
       "      <td>1821</td>\n",
       "      <td>1</td>\n",
       "      <td>1.2</td>\n",
       "      <td>0</td>\n",
       "      <td>13</td>\n",
       "      <td>1</td>\n",
       "      <td>44</td>\n",
       "      <td>0.6</td>\n",
       "      <td>141</td>\n",
       "      <td>2</td>\n",
       "      <td>14</td>\n",
       "      <td>1208</td>\n",
       "      <td>1212</td>\n",
       "      <td>1411</td>\n",
       "      <td>8</td>\n",
       "      <td>2</td>\n",
       "      <td>15</td>\n",
       "      <td>1</td>\n",
       "      <td>1</td>\n",
       "      <td>0</td>\n",
       "      <td>1</td>\n",
       "    </tr>\n",
       "  </tbody>\n",
       "</table>\n",
       "</div>"
      ],
      "text/plain": [
       "   battery_power  blue  clock_speed  dual_sim  fc  four_g  int_memory  m_dep  \\\n",
       "0            842     0          2.2         0   1       0           7    0.6   \n",
       "1           1021     1          0.5         1   0       1          53    0.7   \n",
       "2            563     1          0.5         1   2       1          41    0.9   \n",
       "3            615     1          2.5         0   0       0          10    0.8   \n",
       "4           1821     1          1.2         0  13       1          44    0.6   \n",
       "\n",
       "   mobile_wt  n_cores  pc  px_height  px_width   ram  sc_h  sc_w  talk_time  \\\n",
       "0        188        2   2         20       756  2549     9     7         19   \n",
       "1        136        3   6        905      1988  2631    17     3          7   \n",
       "2        145        5   6       1263      1716  2603    11     2          9   \n",
       "3        131        6   9       1216      1786  2769    16     8         11   \n",
       "4        141        2  14       1208      1212  1411     8     2         15   \n",
       "\n",
       "   three_g  touch_screen  wifi  price_range  \n",
       "0        0             0     1            1  \n",
       "1        1             1     0            2  \n",
       "2        1             1     0            2  \n",
       "3        1             0     0            2  \n",
       "4        1             1     0            1  "
      ]
     },
     "execution_count": 10,
     "metadata": {},
     "output_type": "execute_result"
    }
   ],
   "source": [
    "train=pd.read_csv('D:\\DATA SCIENCE Internship with CodersCave\\Data\\mobile_price\\\\train.csv')\n",
    "train.head()"
   ]
  },
  {
   "cell_type": "markdown",
   "id": "f98f0a30",
   "metadata": {},
   "source": [
    "### Understand the data\n",
    "- battery_power    -   Total energy a battery can store in one time measured in mAh\n",
    "- blue             -   Has bluetooth or not\n",
    "- clock_speed      -   Speed at which microprocessor executes instructions\n",
    "- dual_sim         -   Has dual sim support or not\n",
    "- fc               -   Front Camera mega pixels\n",
    "- four_g           -   Has 4G or not\n",
    "- int_memory       -   Internal Memory in Gigabytes\n",
    "- m_dep            -   Mobile Depth in cm\n",
    "- mobile_wt        -   Weight of mobile phone\n",
    "- n_cores          -   Number of cores of processor\n",
    "- pc               -   Primary Camera mega pixels\n",
    "- px_height        -   Pixel Resolution Height\n",
    "- px_width         -   Pixel Resolution Width\n",
    "- ram              -   Random Access Memory in Megabytes\n",
    "- sc_h             -   Screen Height of mobile in cm\n",
    "- sc_w             -   Screen Width of mobile in cm\n",
    "- talk_time        -   Longest time that a single battery charge will last when you are on call\n",
    "- three_g          -   Has 3G or not\n",
    "- touch_screen     -   Has touch screen or not\n",
    "- wifi             -   Has wifi or not\n",
    "- price_range      -   Range of mobile price"
   ]
  },
  {
   "cell_type": "code",
   "execution_count": 6,
   "id": "c3e0d080",
   "metadata": {},
   "outputs": [
    {
     "data": {
      "text/plain": [
       "(2000, 21)"
      ]
     },
     "execution_count": 6,
     "metadata": {},
     "output_type": "execute_result"
    }
   ],
   "source": [
    "train.shape"
   ]
  },
  {
   "cell_type": "code",
   "execution_count": 7,
   "id": "ae2c3bdc",
   "metadata": {},
   "outputs": [
    {
     "data": {
      "text/plain": [
       "Index(['battery_power', 'blue', 'clock_speed', 'dual_sim', 'fc', 'four_g',\n",
       "       'int_memory', 'm_dep', 'mobile_wt', 'n_cores', 'pc', 'px_height',\n",
       "       'px_width', 'ram', 'sc_h', 'sc_w', 'talk_time', 'three_g',\n",
       "       'touch_screen', 'wifi', 'price_range'],\n",
       "      dtype='object')"
      ]
     },
     "execution_count": 7,
     "metadata": {},
     "output_type": "execute_result"
    }
   ],
   "source": [
    "train.columns"
   ]
  },
  {
   "cell_type": "code",
   "execution_count": 8,
   "id": "fcb188e5",
   "metadata": {},
   "outputs": [
    {
     "name": "stdout",
     "output_type": "stream",
     "text": [
      "<class 'pandas.core.frame.DataFrame'>\n",
      "RangeIndex: 2000 entries, 0 to 1999\n",
      "Data columns (total 21 columns):\n",
      " #   Column         Non-Null Count  Dtype  \n",
      "---  ------         --------------  -----  \n",
      " 0   battery_power  2000 non-null   int64  \n",
      " 1   blue           2000 non-null   int64  \n",
      " 2   clock_speed    2000 non-null   float64\n",
      " 3   dual_sim       2000 non-null   int64  \n",
      " 4   fc             2000 non-null   int64  \n",
      " 5   four_g         2000 non-null   int64  \n",
      " 6   int_memory     2000 non-null   int64  \n",
      " 7   m_dep          2000 non-null   float64\n",
      " 8   mobile_wt      2000 non-null   int64  \n",
      " 9   n_cores        2000 non-null   int64  \n",
      " 10  pc             2000 non-null   int64  \n",
      " 11  px_height      2000 non-null   int64  \n",
      " 12  px_width       2000 non-null   int64  \n",
      " 13  ram            2000 non-null   int64  \n",
      " 14  sc_h           2000 non-null   int64  \n",
      " 15  sc_w           2000 non-null   int64  \n",
      " 16  talk_time      2000 non-null   int64  \n",
      " 17  three_g        2000 non-null   int64  \n",
      " 18  touch_screen   2000 non-null   int64  \n",
      " 19  wifi           2000 non-null   int64  \n",
      " 20  price_range    2000 non-null   int64  \n",
      "dtypes: float64(2), int64(19)\n",
      "memory usage: 328.2 KB\n"
     ]
    }
   ],
   "source": [
    "train.info()"
   ]
  },
  {
   "cell_type": "markdown",
   "id": "63f4efbc",
   "metadata": {},
   "source": [
    "### Missing Values"
   ]
  },
  {
   "cell_type": "code",
   "execution_count": 12,
   "id": "0ee2a6f0",
   "metadata": {},
   "outputs": [
    {
     "data": {
      "text/plain": [
       "battery_power    0\n",
       "blue             0\n",
       "clock_speed      0\n",
       "dual_sim         0\n",
       "fc               0\n",
       "four_g           0\n",
       "int_memory       0\n",
       "m_dep            0\n",
       "mobile_wt        0\n",
       "n_cores          0\n",
       "pc               0\n",
       "px_height        0\n",
       "px_width         0\n",
       "ram              0\n",
       "sc_h             0\n",
       "sc_w             0\n",
       "talk_time        0\n",
       "three_g          0\n",
       "touch_screen     0\n",
       "wifi             0\n",
       "price_range      0\n",
       "dtype: int64"
      ]
     },
     "execution_count": 12,
     "metadata": {},
     "output_type": "execute_result"
    }
   ],
   "source": [
    "train.isna().sum()"
   ]
  },
  {
   "cell_type": "markdown",
   "id": "28e52e99",
   "metadata": {},
   "source": [
    "#### No missing values in dataset."
   ]
  },
  {
   "cell_type": "code",
   "execution_count": null,
   "id": "eb196fe5",
   "metadata": {},
   "outputs": [],
   "source": []
  },
  {
   "cell_type": "markdown",
   "id": "57b77568",
   "metadata": {},
   "source": [
    "### Analyze Price Range (target variable)"
   ]
  },
  {
   "cell_type": "code",
   "execution_count": 13,
   "id": "a43839df",
   "metadata": {},
   "outputs": [
    {
     "data": {
      "text/plain": [
       "array([1, 2, 3, 0], dtype=int64)"
      ]
     },
     "execution_count": 13,
     "metadata": {},
     "output_type": "execute_result"
    }
   ],
   "source": [
    "train['price_range'].unique()"
   ]
  },
  {
   "cell_type": "code",
   "execution_count": 14,
   "id": "d2942215",
   "metadata": {},
   "outputs": [
    {
     "data": {
      "text/plain": [
       "1    500\n",
       "2    500\n",
       "3    500\n",
       "0    500\n",
       "Name: price_range, dtype: int64"
      ]
     },
     "execution_count": 14,
     "metadata": {},
     "output_type": "execute_result"
    }
   ],
   "source": [
    "train['price_range'].value_counts()"
   ]
  },
  {
   "cell_type": "markdown",
   "id": "a942b94d",
   "metadata": {},
   "source": [
    "#### Each Class in Price Range has equal number of rows."
   ]
  },
  {
   "cell_type": "code",
   "execution_count": null,
   "id": "02410719",
   "metadata": {},
   "outputs": [],
   "source": []
  },
  {
   "cell_type": "markdown",
   "id": "772dea0c",
   "metadata": {},
   "source": [
    "## Exploratory Data Analysis"
   ]
  },
  {
   "cell_type": "markdown",
   "id": "eebf1790",
   "metadata": {},
   "source": [
    "### Analyse Battery Power column\n",
    "- Battery power in Mili Ampere Hours(mAh)"
   ]
  },
  {
   "cell_type": "code",
   "execution_count": 60,
   "id": "a2c4de56",
   "metadata": {},
   "outputs": [
    {
     "name": "stdout",
     "output_type": "stream",
     "text": [
      "Maximum Battery Power Mobile 1998\n",
      "Minimum Battery Power Mobile 501\n",
      "Average Battery Power Mobile 1238.5185\n"
     ]
    }
   ],
   "source": [
    "print(\"Maximum Battery Power Mobile\", train['battery_power'].max())\n",
    "print(\"Minimum Battery Power Mobile\", train['battery_power'].min())\n",
    "print(\"Average Battery Power Mobile\", train['battery_power'].mean())"
   ]
  },
  {
   "cell_type": "code",
   "execution_count": 25,
   "id": "e0d514f8",
   "metadata": {},
   "outputs": [
    {
     "data": {
      "image/png": "[encoded data removed]",
      "text/plain": [
       "<Figure size 864x288 with 1 Axes>"
      ]
     },
     "metadata": {},
     "output_type": "display_data"
    }
   ],
   "source": [
    "plt.figure(figsize=(12,4))\n",
    "sns.distplot(x=train['battery_power']);"
   ]
  },
  {
   "cell_type": "markdown",
   "id": "b1cfd2d8",
   "metadata": {},
   "source": [
    "1. **Maximum Battery power is `1998mAh` and Minimum Battery power is `501mAh`.**\n",
    "2. **Average Battery power for mobiles is `1238mAh`.**\n",
    "3. **For Every battery power we have almost equal number of rows.**"
   ]
  },
  {
   "cell_type": "code",
   "execution_count": null,
   "id": "de57cbd9",
   "metadata": {},
   "outputs": [],
   "source": []
  },
  {
   "cell_type": "markdown",
   "id": "f6f82e21",
   "metadata": {},
   "source": [
    "### Analyze Bluetooth column\n",
    "- If mobile has bluetooth then blue=1, else blue=0"
   ]
  },
  {
   "cell_type": "code",
   "execution_count": 26,
   "id": "818cbcb0",
   "metadata": {},
   "outputs": [
    {
     "data": {
      "text/plain": [
       "array([0, 1], dtype=int64)"
      ]
     },
     "execution_count": 26,
     "metadata": {},
     "output_type": "execute_result"
    }
   ],
   "source": [
    "train['blue'].unique()"
   ]
  },
  {
   "cell_type": "code",
   "execution_count": 27,
   "id": "737ff1e4",
   "metadata": {},
   "outputs": [
    {
     "data": {
      "text/plain": [
       "0    1010\n",
       "1     990\n",
       "Name: blue, dtype: int64"
      ]
     },
     "execution_count": 27,
     "metadata": {},
     "output_type": "execute_result"
    }
   ],
   "source": [
    "train['blue'].value_counts()"
   ]
  },
  {
   "cell_type": "code",
   "execution_count": 29,
   "id": "fcd0d003",
   "metadata": {},
   "outputs": [
    {
     "data": {
      "text/plain": [
       "<AxesSubplot:>"
      ]
     },
     "execution_count": 29,
     "metadata": {},
     "output_type": "execute_result"
    },
    {
     "data": {
      "image/png": "[encoded data removed]",
      "text/plain": [
       "<Figure size 864x288 with 1 Axes>"
      ]
     },
     "metadata": {},
     "output_type": "display_data"
    }
   ],
   "source": [
    "train['blue'].value_counts().plot(kind='barh', figsize=(12,4))"
   ]
  },
  {
   "cell_type": "markdown",
   "id": "d76bf6ae",
   "metadata": {},
   "source": [
    "**1010 mobile dont have bluetooth and 990 mobiles has bluetooth support.**"
   ]
  },
  {
   "cell_type": "code",
   "execution_count": null,
   "id": "8d53ffb5",
   "metadata": {},
   "outputs": [],
   "source": []
  },
  {
   "cell_type": "markdown",
   "id": "70bf9e55",
   "metadata": {},
   "source": [
    "### Analyze Clock Speed column\n",
    "- Speed at which microprocessor executes instructions in GigaHertz"
   ]
  },
  {
   "cell_type": "code",
   "execution_count": 30,
   "id": "4469c31a",
   "metadata": {},
   "outputs": [
    {
     "data": {
      "text/plain": [
       "26"
      ]
     },
     "execution_count": 30,
     "metadata": {},
     "output_type": "execute_result"
    }
   ],
   "source": [
    "train['clock_speed'].nunique()"
   ]
  },
  {
   "cell_type": "code",
   "execution_count": 33,
   "id": "c3d89f93",
   "metadata": {},
   "outputs": [
    {
     "data": {
      "image/png": "[encoded data removed]",
      "text/plain": [
       "<Figure size 864x288 with 1 Axes>"
      ]
     },
     "metadata": {},
     "output_type": "display_data"
    }
   ],
   "source": [
    "plt.figure(figsize=(12,4))\n",
    "sns.countplot(x=train['clock_speed']);"
   ]
  },
  {
   "cell_type": "markdown",
   "id": "bb529dbb",
   "metadata": {},
   "source": [
    "1. **Minimum Clocl speed is `o.5Gihahertz` and Maximum Clock speed is `3Gigahertz`.**\n",
    "2. **`Higher` the Close speed, `Greater` the performance.**\n",
    "3. **Most of the mobiles in this dataset has `0.5Gihahertz` clock speed.**"
   ]
  },
  {
   "cell_type": "code",
   "execution_count": null,
   "id": "60ee6a7b",
   "metadata": {},
   "outputs": [],
   "source": []
  },
  {
   "cell_type": "markdown",
   "id": "1efd1a86",
   "metadata": {},
   "source": [
    "### Analyze Dual Sim column\n",
    "- Mobile has dual sim support or not, 1 for support dual sim and 0 for not support."
   ]
  },
  {
   "cell_type": "code",
   "execution_count": 34,
   "id": "5541d6f2",
   "metadata": {},
   "outputs": [
    {
     "data": {
      "text/plain": [
       "array([0, 1], dtype=int64)"
      ]
     },
     "execution_count": 34,
     "metadata": {},
     "output_type": "execute_result"
    }
   ],
   "source": [
    "train['dual_sim'].unique()"
   ]
  },
  {
   "cell_type": "code",
   "execution_count": 35,
   "id": "74e6315e",
   "metadata": {},
   "outputs": [
    {
     "data": {
      "text/plain": [
       "1    1019\n",
       "0     981\n",
       "Name: dual_sim, dtype: int64"
      ]
     },
     "execution_count": 35,
     "metadata": {},
     "output_type": "execute_result"
    }
   ],
   "source": [
    "train['dual_sim'].value_counts()"
   ]
  },
  {
   "cell_type": "code",
   "execution_count": 36,
   "id": "97aee53a",
   "metadata": {},
   "outputs": [
    {
     "data": {
      "text/plain": [
       "<AxesSubplot:>"
      ]
     },
     "execution_count": 36,
     "metadata": {},
     "output_type": "execute_result"
    },
    {
     "data": {
      "image/png": "[encoded data removed]",
      "text/plain": [
       "<Figure size 864x288 with 1 Axes>"
      ]
     },
     "metadata": {},
     "output_type": "display_data"
    }
   ],
   "source": [
    "train['dual_sim'].value_counts().plot(kind='barh', figsize=(12,4))"
   ]
  },
  {
   "cell_type": "markdown",
   "id": "a50799c1",
   "metadata": {},
   "source": [
    "**1019 Mobiles supports dual sim and 981 mobile supports single sim.**"
   ]
  },
  {
   "cell_type": "code",
   "execution_count": null,
   "id": "20e8a09c",
   "metadata": {},
   "outputs": [],
   "source": []
  },
  {
   "cell_type": "markdown",
   "id": "8a23f3bc",
   "metadata": {},
   "source": [
    "### Analyze Front Camera pixels column"
   ]
  },
  {
   "cell_type": "code",
   "execution_count": 38,
   "id": "126fc637",
   "metadata": {},
   "outputs": [
    {
     "data": {
      "text/plain": [
       "array([ 1,  0,  2, 13,  3,  4,  5,  7, 11, 12, 16,  6, 15,  8,  9, 10, 18,\n",
       "       17, 14, 19], dtype=int64)"
      ]
     },
     "execution_count": 38,
     "metadata": {},
     "output_type": "execute_result"
    }
   ],
   "source": [
    "train['fc'].unique()"
   ]
  },
  {
   "cell_type": "code",
   "execution_count": 39,
   "id": "8658bfbc",
   "metadata": {},
   "outputs": [
    {
     "data": {
      "image/png": "[encoded data removed]",
      "text/plain": [
       "<Figure size 864x288 with 1 Axes>"
      ]
     },
     "metadata": {},
     "output_type": "display_data"
    }
   ],
   "source": [
    "plt.figure(figsize=(12,4))\n",
    "sns.countplot(x=train['fc']);"
   ]
  },
  {
   "cell_type": "markdown",
   "id": "8e55eaa4",
   "metadata": {},
   "source": [
    "1. **Most of the mobile has Front camera pixel as 0, from this we can conclude that these Mobiles has no fron camera.**\n",
    "2. **Maximum Front camera pixel is `19 Pixels`.**"
   ]
  },
  {
   "cell_type": "code",
   "execution_count": null,
   "id": "74eb0b84",
   "metadata": {},
   "outputs": [],
   "source": []
  },
  {
   "cell_type": "markdown",
   "id": "03e44f87",
   "metadata": {},
   "source": [
    "### Analyze Four G column\n",
    "- Handset has 4G or not"
   ]
  },
  {
   "cell_type": "code",
   "execution_count": 41,
   "id": "2cdbe672",
   "metadata": {},
   "outputs": [
    {
     "data": {
      "text/plain": [
       "array([0, 1], dtype=int64)"
      ]
     },
     "execution_count": 41,
     "metadata": {},
     "output_type": "execute_result"
    }
   ],
   "source": [
    "train['four_g'].unique()"
   ]
  },
  {
   "cell_type": "code",
   "execution_count": 43,
   "id": "afbda077",
   "metadata": {},
   "outputs": [
    {
     "data": {
      "text/plain": [
       "1    1043\n",
       "0     957\n",
       "Name: four_g, dtype: int64"
      ]
     },
     "execution_count": 43,
     "metadata": {},
     "output_type": "execute_result"
    }
   ],
   "source": [
    "train['four_g'].value_counts()"
   ]
  },
  {
   "cell_type": "code",
   "execution_count": 42,
   "id": "8302346e",
   "metadata": {},
   "outputs": [
    {
     "data": {
      "image/png": "[encoded data removed]",
      "text/plain": [
       "<Figure size 864x288 with 1 Axes>"
      ]
     },
     "metadata": {},
     "output_type": "display_data"
    }
   ],
   "source": [
    "train['four_g'].value_counts().plot(kind='barh', figsize=(12,4));"
   ]
  },
  {
   "cell_type": "markdown",
   "id": "643fda03",
   "metadata": {},
   "source": [
    "**1043 Mobile handset support 4G network, and 957 Mobile does not support 4G network**"
   ]
  },
  {
   "cell_type": "code",
   "execution_count": null,
   "id": "5d5d2d17",
   "metadata": {},
   "outputs": [],
   "source": []
  },
  {
   "cell_type": "markdown",
   "id": "0ed06405",
   "metadata": {},
   "source": [
    "### Analyze Internal Memory column\n",
    "- Internal Memory in Gigabytes"
   ]
  },
  {
   "cell_type": "code",
   "execution_count": 45,
   "id": "2a9e04de",
   "metadata": {},
   "outputs": [
    {
     "data": {
      "text/plain": [
       "array([ 7, 53, 41, 10, 44, 22, 24,  9, 33, 17, 52, 46, 13, 23, 49, 19, 39,\n",
       "       47, 38,  8, 57, 51, 21,  5, 60, 61,  6, 11, 50, 34, 20, 27, 42, 40,\n",
       "       64, 14, 63, 43, 16, 48, 12, 55, 36, 30, 45, 29, 58, 25,  3, 54, 15,\n",
       "       37, 31, 32,  4, 18,  2, 56, 26, 35, 59, 28, 62], dtype=int64)"
      ]
     },
     "execution_count": 45,
     "metadata": {},
     "output_type": "execute_result"
    }
   ],
   "source": [
    "train['int_memory'].unique()"
   ]
  },
  {
   "cell_type": "code",
   "execution_count": 52,
   "id": "f2159475",
   "metadata": {},
   "outputs": [
    {
     "name": "stdout",
     "output_type": "stream",
     "text": [
      "Maximum Internal Memory 64 GB\n",
      "Minimum Internal Memory 2 GB\n"
     ]
    }
   ],
   "source": [
    "print(\"Maximum Internal Memory\", train['int_memory'].max(),\"GB\")\n",
    "print(\"Minimum Internal Memory\", train['int_memory'].min(),\"GB\")"
   ]
  },
  {
   "cell_type": "code",
   "execution_count": 50,
   "id": "b48ec901",
   "metadata": {},
   "outputs": [
    {
     "data": {
      "image/png": "[encoded data removed]",
      "text/plain": [
       "<Figure size 1296x288 with 1 Axes>"
      ]
     },
     "metadata": {},
     "output_type": "display_data"
    }
   ],
   "source": [
    "plt.figure(figsize=(18,4))\n",
    "sns.countplot(x=train['int_memory'], saturation=1);"
   ]
  },
  {
   "cell_type": "markdown",
   "id": "285c39a5",
   "metadata": {},
   "source": [
    "1. **Mimimum Internal Memory is `2GB` and Maximum Internal Memory is `64GB`.**\n",
    "2. **Every Mobile in this dataset has internal memory above `20GB`.**"
   ]
  },
  {
   "cell_type": "code",
   "execution_count": null,
   "id": "60881446",
   "metadata": {},
   "outputs": [],
   "source": []
  },
  {
   "cell_type": "markdown",
   "id": "c431e7fc",
   "metadata": {},
   "source": [
    "### Analyze Mobile depth column\n",
    "- Mobile Depth in cm"
   ]
  },
  {
   "cell_type": "code",
   "execution_count": 55,
   "id": "c013e841",
   "metadata": {},
   "outputs": [
    {
     "data": {
      "text/plain": [
       "array([0.6, 0.7, 0.9, 0.8, 0.1, 0.5, 1. , 0.3, 0.4, 0.2])"
      ]
     },
     "execution_count": 55,
     "metadata": {},
     "output_type": "execute_result"
    }
   ],
   "source": [
    "train['m_dep'].unique()"
   ]
  },
  {
   "cell_type": "code",
   "execution_count": 58,
   "id": "ade06d9e",
   "metadata": {},
   "outputs": [
    {
     "data": {
      "image/png": "[encoded data removed]",
      "text/plain": [
       "<Figure size 864x288 with 1 Axes>"
      ]
     },
     "metadata": {},
     "output_type": "display_data"
    }
   ],
   "source": [
    "plt.figure(figsize=(12,4))\n",
    "sns.countplot(x=train['m_dep']);"
   ]
  },
  {
   "cell_type": "markdown",
   "id": "a3346644",
   "metadata": {},
   "source": [
    "1. **Maximum mobile depth is `1CM` and Mimimum mobile depth is `0.1CM`.**\n",
    "2. **Most of the mobiles have Depth `0.1CM`.**"
   ]
  },
  {
   "cell_type": "code",
   "execution_count": null,
   "id": "46e7c7e8",
   "metadata": {},
   "outputs": [],
   "source": []
  },
  {
   "cell_type": "markdown",
   "id": "15ca4b09",
   "metadata": {},
   "source": [
    "### Analyze Mobile weight column\n",
    "- Weight in Grams"
   ]
  },
  {
   "cell_type": "code",
   "execution_count": 59,
   "id": "45373a40",
   "metadata": {},
   "outputs": [
    {
     "data": {
      "text/plain": [
       "121"
      ]
     },
     "execution_count": 59,
     "metadata": {},
     "output_type": "execute_result"
    }
   ],
   "source": [
    "print(train['mobile_wt']."
   ]
  },
  {
   "cell_type": "code",
   "execution_count": 61,
   "id": "d50a9f6d",
   "metadata": {},
   "outputs": [
    {
     "name": "stdout",
     "output_type": "stream",
     "text": [
      "Maximum Mobile weight 200 Grams\n",
      "Minimum Mobile weight 80 Grams\n",
      "Average Mobile weight 140.249 Grams\n"
     ]
    }
   ],
   "source": [
    "print(\"Maximum Mobile weight\", train['mobile_wt'].max(),\"Grams\")\n",
    "print(\"Minimum Mobile weight\", train['mobile_wt'].min(),\"Grams\")\n",
    "print(\"Average Mobile weight\", train['mobile_wt'].mean(),\"Grams\")"
   ]
  },
  {
   "cell_type": "code",
   "execution_count": 63,
   "id": "894561ef",
   "metadata": {},
   "outputs": [
    {
     "data": {
      "image/png": "[encoded data removed]",
      "text/plain": [
       "<Figure size 864x288 with 1 Axes>"
      ]
     },
     "metadata": {},
     "output_type": "display_data"
    }
   ],
   "source": [
    "plt.figure(figsize=(12,4))\n",
    "sns.distplot(x=train['mobile_wt']);"
   ]
  },
  {
   "cell_type": "markdown",
   "id": "dbd0e891",
   "metadata": {},
   "source": [
    "1. **Maximum Mobile weight is is `200 Grams`, Minimum Mobile weight is `80 Grams` and Average mobile weight is `140 Grams`.**\n",
    "2. **For every mobile weight categpry contains almost equal rows.**"
   ]
  },
  {
   "cell_type": "code",
   "execution_count": null,
   "id": "32625d6f",
   "metadata": {},
   "outputs": [],
   "source": []
  },
  {
   "cell_type": "markdown",
   "id": "afcb8208",
   "metadata": {},
   "source": [
    "### Analayze Number of Core column\n",
    "- Number of cores of processor"
   ]
  },
  {
   "cell_type": "code",
   "execution_count": 64,
   "id": "802bb15e",
   "metadata": {},
   "outputs": [
    {
     "data": {
      "text/plain": [
       "array([2, 3, 5, 6, 1, 8, 4, 7], dtype=int64)"
      ]
     },
     "execution_count": 64,
     "metadata": {},
     "output_type": "execute_result"
    }
   ],
   "source": [
    "train['n_cores'].unique()"
   ]
  },
  {
   "cell_type": "code",
   "execution_count": 66,
   "id": "fae98c7c",
   "metadata": {},
   "outputs": [
    {
     "data": {
      "image/png": "[encoded data removed]",
      "text/plain": [
       "<Figure size 864x288 with 1 Axes>"
      ]
     },
     "metadata": {},
     "output_type": "display_data"
    }
   ],
   "source": [
    "plt.figure(figsize=(12,4))\n",
    "sns.countplot(x=train['n_cores']);"
   ]
  },
  {
   "cell_type": "markdown",
   "id": "0b52ae1c",
   "metadata": {},
   "source": [
    "1. **Maximum Processor Cores are `8` and minimum Processor Cores are `1`.**\n",
    "2. **Most of the mobile have `4` Processor Cores.** "
   ]
  },
  {
   "cell_type": "code",
   "execution_count": null,
   "id": "de10a6a6",
   "metadata": {},
   "outputs": [],
   "source": []
  },
  {
   "cell_type": "markdown",
   "id": "3f6e5f03",
   "metadata": {},
   "source": [
    "### Analyze Primary Camera column"
   ]
  },
  {
   "cell_type": "code",
   "execution_count": 67,
   "id": "4846c379",
   "metadata": {},
   "outputs": [
    {
     "data": {
      "text/plain": [
       "array([ 2,  6,  9, 14,  7, 10,  0, 15,  1, 18, 17, 11, 16,  4, 20, 13,  3,\n",
       "       19,  8,  5, 12], dtype=int64)"
      ]
     },
     "execution_count": 67,
     "metadata": {},
     "output_type": "execute_result"
    }
   ],
   "source": [
    "train['pc'].unique()"
   ]
  },
  {
   "cell_type": "code",
   "execution_count": 71,
   "id": "ea5b1d5c",
   "metadata": {},
   "outputs": [
    {
     "name": "stdout",
     "output_type": "stream",
     "text": [
      "Mimimum Primary Camera Pixels 0\n",
      "Maximum Primary Camera Pixels 20\n"
     ]
    }
   ],
   "source": [
    "print(\"Mimimum Primary Camera Pixels\", train['pc'].min())\n",
    "print(\"Maximum Primary Camera Pixels\", train['pc'].max())"
   ]
  },
  {
   "cell_type": "code",
   "execution_count": 70,
   "id": "2f092881",
   "metadata": {},
   "outputs": [
    {
     "data": {
      "image/png": "[encoded data removed]",
      "text/plain": [
       "<Figure size 864x288 with 1 Axes>"
      ]
     },
     "metadata": {},
     "output_type": "display_data"
    }
   ],
   "source": [
    "plt.figure(figsize=(12,4))\n",
    "sns.countplot(x=train['pc']);"
   ]
  },
  {
   "cell_type": "markdown",
   "id": "ca8d629d",
   "metadata": {},
   "source": [
    "**Minimum Primary Camera Pixel is `20 Pixels`, Minimum os `0 Pixels`, this means the Mobile phones with Primary camera pixel=0 has no Primary Camera.**"
   ]
  },
  {
   "cell_type": "code",
   "execution_count": null,
   "id": "47c26eeb",
   "metadata": {},
   "outputs": [],
   "source": []
  },
  {
   "cell_type": "markdown",
   "id": "6fd96c78",
   "metadata": {},
   "source": [
    "### Analyze Pixel Resolution height column"
   ]
  },
  {
   "cell_type": "code",
   "execution_count": 74,
   "id": "b5c2e05d",
   "metadata": {},
   "outputs": [
    {
     "data": {
      "text/plain": [
       "1137"
      ]
     },
     "execution_count": 74,
     "metadata": {},
     "output_type": "execute_result"
    }
   ],
   "source": [
    "train['px_height'].nunique()"
   ]
  },
  {
   "cell_type": "code",
   "execution_count": 75,
   "id": "ece56fa5",
   "metadata": {},
   "outputs": [
    {
     "name": "stdout",
     "output_type": "stream",
     "text": [
      "Maximum Pixel Resolution height 1960\n",
      "Minimum Pixel Resolution height 0\n"
     ]
    }
   ],
   "source": [
    "print(\"Maximum Pixel Resolution height\", train['px_height'].max())\n",
    "print(\"Minimum Pixel Resolution height\", train['px_height'].min())"
   ]
  },
  {
   "cell_type": "code",
   "execution_count": 78,
   "id": "39bfda4d",
   "metadata": {},
   "outputs": [
    {
     "data": {
      "image/png": "[encoded data removed]",
      "text/plain": [
       "<Figure size 864x288 with 1 Axes>"
      ]
     },
     "metadata": {},
     "output_type": "display_data"
    }
   ],
   "source": [
    "plt.figure(figsize=(12,4))\n",
    "sns.distplot(x=train['px_height']);"
   ]
  },
  {
   "cell_type": "markdown",
   "id": "bbb8694d",
   "metadata": {},
   "source": [
    "1. **Maximum Pixel Resolution height is `1960` and minimum is `0`.**\n",
    "2. **Data is right skewed, Most of the mobiles have Pixel Resolution height from `0 to 700`.**"
   ]
  },
  {
   "cell_type": "code",
   "execution_count": null,
   "id": "c624c44b",
   "metadata": {},
   "outputs": [],
   "source": []
  },
  {
   "cell_type": "markdown",
   "id": "37f0def6",
   "metadata": {},
   "source": [
    "### Analyze Pixel Resolution width column"
   ]
  },
  {
   "cell_type": "code",
   "execution_count": 77,
   "id": "4ed109e2",
   "metadata": {},
   "outputs": [
    {
     "data": {
      "text/plain": [
       "1109"
      ]
     },
     "execution_count": 77,
     "metadata": {},
     "output_type": "execute_result"
    }
   ],
   "source": [
    "train['px_width'].nunique()"
   ]
  },
  {
   "cell_type": "code",
   "execution_count": 76,
   "id": "b62a0d99",
   "metadata": {},
   "outputs": [
    {
     "name": "stdout",
     "output_type": "stream",
     "text": [
      "Maximum Pixel Resolution width 1998\n",
      "Minimum Pixel Resolution height 500\n"
     ]
    }
   ],
   "source": [
    "print(\"Maximum Pixel Resolution width\", train['px_width'].max())\n",
    "print(\"Minimum Pixel Resolution height\", train['px_width'].min())"
   ]
  },
  {
   "cell_type": "code",
   "execution_count": 79,
   "id": "52a199bf",
   "metadata": {},
   "outputs": [
    {
     "data": {
      "image/png": "[encoded data removed]",
      "text/plain": [
       "<Figure size 864x288 with 1 Axes>"
      ]
     },
     "metadata": {},
     "output_type": "display_data"
    }
   ],
   "source": [
    "plt.figure(figsize=(12,4))\n",
    "sns.distplot(x=train['px_width']);"
   ]
  },
  {
   "cell_type": "markdown",
   "id": "de69a019",
   "metadata": {},
   "source": [
    "1. **Maximum Pixel Resolution width is `1998`, and minimum is `500`.**\n",
    "2. **Almost every pixel resolutions have equal number of rows in this dataset.**"
   ]
  },
  {
   "cell_type": "code",
   "execution_count": null,
   "id": "4acbd5cf",
   "metadata": {},
   "outputs": [],
   "source": []
  },
  {
   "cell_type": "markdown",
   "id": "a5af3901",
   "metadata": {},
   "source": [
    "### Analyze RAM column\n",
    "- RAM in MB"
   ]
  },
  {
   "cell_type": "code",
   "execution_count": 83,
   "id": "bf45ed89",
   "metadata": {},
   "outputs": [
    {
     "name": "stdout",
     "output_type": "stream",
     "text": [
      "Maximum RAM size 3998\n",
      "Minimum RAM size 256\n"
     ]
    }
   ],
   "source": [
    "print(\"Maximum RAM size\", train['ram'].max())\n",
    "print(\"Minimum RAM size\", train['ram'].min())"
   ]
  },
  {
   "cell_type": "code",
   "execution_count": 84,
   "id": "3e9fb4a7",
   "metadata": {},
   "outputs": [
    {
     "data": {
      "image/png": "[encoded data removed]",
      "text/plain": [
       "<Figure size 864x288 with 1 Axes>"
      ]
     },
     "metadata": {},
     "output_type": "display_data"
    }
   ],
   "source": [
    "plt.figure(figsize=(12,4))\n",
    "sns.distplot(x=train['ram']);"
   ]
  },
  {
   "cell_type": "markdown",
   "id": "f9dc1d18",
   "metadata": {},
   "source": [
    "1. **Maximum RAM size is `3.98GB` and minimum RAM size is `256MB`.\n",
    "2. **Peack is Flatten so we can say that every RAM size in this dataset has almost equal number of rows.**"
   ]
  },
  {
   "cell_type": "code",
   "execution_count": null,
   "id": "6fba37e1",
   "metadata": {},
   "outputs": [],
   "source": []
  },
  {
   "cell_type": "markdown",
   "id": "25fabaa1",
   "metadata": {},
   "source": [
    "### Analyze Screen height column\n",
    "- Screen height in CM"
   ]
  },
  {
   "cell_type": "code",
   "execution_count": 86,
   "id": "26eab0a4",
   "metadata": {},
   "outputs": [
    {
     "name": "stdout",
     "output_type": "stream",
     "text": [
      "Maximum Screen height 19 cm\n",
      "Minimum Screen height 5 cm\n"
     ]
    }
   ],
   "source": [
    "print(\"Maximum Screen height\", train['sc_h'].max(),\"cm\")\n",
    "print(\"Minimum Screen height\", train['sc_h'].min(),'cm')"
   ]
  },
  {
   "cell_type": "code",
   "execution_count": 88,
   "id": "999dd097",
   "metadata": {},
   "outputs": [
    {
     "data": {
      "image/png": "[encoded data removed]",
      "text/plain": [
       "<Figure size 864x288 with 1 Axes>"
      ]
     },
     "metadata": {},
     "output_type": "display_data"
    }
   ],
   "source": [
    "plt.figure(figsize=(12,4))\n",
    "sns.distplot(x=train['sc_h']);"
   ]
  },
  {
   "cell_type": "markdown",
   "id": "8ad860de",
   "metadata": {},
   "source": [
    "**Most number mobile has screen height 5cm and 19cm.**"
   ]
  },
  {
   "cell_type": "code",
   "execution_count": null,
   "id": "351c06d7",
   "metadata": {},
   "outputs": [],
   "source": []
  },
  {
   "cell_type": "markdown",
   "id": "f9032a28",
   "metadata": {},
   "source": [
    "### Analyze Screen width column\n",
    "- Screen width in CM"
   ]
  },
  {
   "cell_type": "code",
   "execution_count": 87,
   "id": "cc1d46f9",
   "metadata": {},
   "outputs": [
    {
     "name": "stdout",
     "output_type": "stream",
     "text": [
      "Maximum Screen height 18 cm\n",
      "Minimum Screen height 0 cm\n"
     ]
    }
   ],
   "source": [
    "print(\"Maximum Screen height\", train['sc_w'].max(),\"cm\")\n",
    "print(\"Minimum Screen height\", train['sc_w'].min(),'cm')"
   ]
  },
  {
   "cell_type": "code",
   "execution_count": 89,
   "id": "44eed952",
   "metadata": {},
   "outputs": [
    {
     "data": {
      "image/png": "[encoded data removed]",
      "text/plain": [
       "<Figure size 864x288 with 1 Axes>"
      ]
     },
     "metadata": {},
     "output_type": "display_data"
    }
   ],
   "source": [
    "plt.figure(figsize=(12,4))\n",
    "sns.distplot(x=train['sc_w']);"
   ]
  },
  {
   "cell_type": "markdown",
   "id": "74d08e9e",
   "metadata": {},
   "source": [
    "**Most of the Mobile has Screen height 0 cm.**"
   ]
  },
  {
   "cell_type": "code",
   "execution_count": null,
   "id": "2dbf6477",
   "metadata": {},
   "outputs": [],
   "source": []
  },
  {
   "cell_type": "markdown",
   "id": "920e0d48",
   "metadata": {},
   "source": [
    "### Analyze Talk time column\n",
    "-  Longest time in Hours that a single battery charge will last when you are on call."
   ]
  },
  {
   "cell_type": "code",
   "execution_count": 90,
   "id": "5152a2db",
   "metadata": {},
   "outputs": [
    {
     "data": {
      "text/plain": [
       "array([19,  7,  9, 11, 15, 10, 18,  5, 20, 12, 13,  2,  4,  3, 16,  6, 14,\n",
       "       17,  8], dtype=int64)"
      ]
     },
     "execution_count": 90,
     "metadata": {},
     "output_type": "execute_result"
    }
   ],
   "source": [
    "train['talk_time'].unique()"
   ]
  },
  {
   "cell_type": "code",
   "execution_count": 96,
   "id": "d5ed8000",
   "metadata": {},
   "outputs": [
    {
     "data": {
      "image/png": "[encoded data removed]",
      "text/plain": [
       "<Figure size 864x288 with 1 Axes>"
      ]
     },
     "metadata": {},
     "output_type": "display_data"
    }
   ],
   "source": [
    "plt.figure(figsize=(12,4))\n",
    "sns.countplot(x=train['talk_time']);"
   ]
  },
  {
   "cell_type": "markdown",
   "id": "b798aa3d",
   "metadata": {},
   "source": [
    "**Minimum hour that can be spent on call after 1 full charge is 2 hour and maximum is 20 hours.**"
   ]
  },
  {
   "cell_type": "code",
   "execution_count": null,
   "id": "4ebc31c0",
   "metadata": {},
   "outputs": [],
   "source": []
  },
  {
   "cell_type": "markdown",
   "id": "2f6a2088",
   "metadata": {},
   "source": [
    "### Analyze Three G columns\n",
    "- Whether handset supports 3G network or not"
   ]
  },
  {
   "cell_type": "code",
   "execution_count": 97,
   "id": "b0a433bb",
   "metadata": {},
   "outputs": [
    {
     "data": {
      "text/plain": [
       "array([0, 1], dtype=int64)"
      ]
     },
     "execution_count": 97,
     "metadata": {},
     "output_type": "execute_result"
    }
   ],
   "source": [
    "train['three_g'].unique()"
   ]
  },
  {
   "cell_type": "code",
   "execution_count": 98,
   "id": "7e3a291b",
   "metadata": {},
   "outputs": [
    {
     "data": {
      "text/plain": [
       "1    1523\n",
       "0     477\n",
       "Name: three_g, dtype: int64"
      ]
     },
     "execution_count": 98,
     "metadata": {},
     "output_type": "execute_result"
    }
   ],
   "source": [
    "train['three_g'].value_counts()"
   ]
  },
  {
   "cell_type": "code",
   "execution_count": 99,
   "id": "5831c024",
   "metadata": {},
   "outputs": [
    {
     "data": {
      "image/png": "[encoded data removed]",
      "text/plain": [
       "<Figure size 864x288 with 1 Axes>"
      ]
     },
     "metadata": {},
     "output_type": "display_data"
    }
   ],
   "source": [
    "train['three_g'].value_counts().plot(kind='barh', figsize=(12,4));"
   ]
  },
  {
   "cell_type": "markdown",
   "id": "032fe034",
   "metadata": {},
   "source": [
    "**Almost 80% Mobiles support 3G network.**"
   ]
  },
  {
   "cell_type": "code",
   "execution_count": null,
   "id": "00f15759",
   "metadata": {},
   "outputs": [],
   "source": []
  },
  {
   "cell_type": "markdown",
   "id": "01e306e9",
   "metadata": {},
   "source": [
    "### Analyze Touch screen column"
   ]
  },
  {
   "cell_type": "code",
   "execution_count": 104,
   "id": "e3fc0eae",
   "metadata": {},
   "outputs": [
    {
     "data": {
      "text/plain": [
       "1    1006\n",
       "0     994\n",
       "Name: touch_screen, dtype: int64"
      ]
     },
     "execution_count": 104,
     "metadata": {},
     "output_type": "execute_result"
    }
   ],
   "source": [
    "train['touch_screen'].value_counts()"
   ]
  },
  {
   "cell_type": "code",
   "execution_count": 103,
   "id": "18613475",
   "metadata": {},
   "outputs": [
    {
     "data": {
      "image/png": "[encoded data removed]",
      "text/plain": [
       "<Figure size 864x288 with 1 Axes>"
      ]
     },
     "metadata": {},
     "output_type": "display_data"
    }
   ],
   "source": [
    "train['touch_screen'].value_counts().plot(kind='barh', figsize=(12,4));"
   ]
  },
  {
   "cell_type": "code",
   "execution_count": null,
   "id": "c3329b7a",
   "metadata": {},
   "outputs": [],
   "source": []
  },
  {
   "cell_type": "markdown",
   "id": "d75ee00d",
   "metadata": {},
   "source": [
    "### Analyze Wi-Fi column"
   ]
  },
  {
   "cell_type": "code",
   "execution_count": 101,
   "id": "adc6fd13",
   "metadata": {},
   "outputs": [
    {
     "data": {
      "text/plain": [
       "1    1014\n",
       "0     986\n",
       "Name: wifi, dtype: int64"
      ]
     },
     "execution_count": 101,
     "metadata": {},
     "output_type": "execute_result"
    }
   ],
   "source": [
    "train['wifi'].value_counts()"
   ]
  },
  {
   "cell_type": "code",
   "execution_count": 102,
   "id": "64eb5af8",
   "metadata": {},
   "outputs": [
    {
     "data": {
      "image/png": "[encoded data removed]",
      "text/plain": [
       "<Figure size 864x288 with 1 Axes>"
      ]
     },
     "metadata": {},
     "output_type": "display_data"
    }
   ],
   "source": [
    "train['wifi'].value_counts().plot(kind='barh', figsize=(12,4));"
   ]
  },
  {
   "cell_type": "code",
   "execution_count": null,
   "id": "f5e01690",
   "metadata": {},
   "outputs": [],
   "source": []
  },
  {
   "cell_type": "markdown",
   "id": "60fac267",
   "metadata": {},
   "source": [
    "## Feature Engineering"
   ]
  },
  {
   "cell_type": "markdown",
   "id": "83852f0c",
   "metadata": {},
   "source": [
    "#### Here there are 20 Input features. We are selecting only those features which are highly correlated to Output variable. There are many methods to select the important features,\n",
    "1. Univariate Selection using SelectKBest\n",
    "2. Feature Importance using ExtraTreesClassifier\n",
    "3. Correlation Method."
   ]
  },
  {
   "cell_type": "markdown",
   "id": "b6ad2b43",
   "metadata": {},
   "source": [
    "#### 1. Univariate Selection using SelectKBest"
   ]
  },
  {
   "cell_type": "code",
   "execution_count": 119,
   "id": "20105730",
   "metadata": {},
   "outputs": [
    {
     "data": {
      "text/html": [
       "<div>\n",
       "<style scoped>\n",
       "    .dataframe tbody tr th:only-of-type {\n",
       "        vertical-align: middle;\n",
       "    }\n",
       "\n",
       "    .dataframe tbody tr th {\n",
       "        vertical-align: top;\n",
       "    }\n",
       "\n",
       "    .dataframe thead th {\n",
       "        text-align: right;\n",
       "    }\n",
       "</style>\n",
       "<table border=\"1\" class=\"dataframe\">\n",
       "  <thead>\n",
       "    <tr style=\"text-align: right;\">\n",
       "      <th></th>\n",
       "      <th>Features</th>\n",
       "      <th>Score</th>\n",
       "    </tr>\n",
       "  </thead>\n",
       "  <tbody>\n",
       "    <tr>\n",
       "      <th>0</th>\n",
       "      <td>battery_power</td>\n",
       "      <td>31.598158</td>\n",
       "    </tr>\n",
       "    <tr>\n",
       "      <th>1</th>\n",
       "      <td>blue</td>\n",
       "      <td>0.476768</td>\n",
       "    </tr>\n",
       "    <tr>\n",
       "      <th>2</th>\n",
       "      <td>clock_speed</td>\n",
       "      <td>0.493708</td>\n",
       "    </tr>\n",
       "    <tr>\n",
       "      <th>3</th>\n",
       "      <td>dual_sim</td>\n",
       "      <td>0.428239</td>\n",
       "    </tr>\n",
       "    <tr>\n",
       "      <th>4</th>\n",
       "      <td>fc</td>\n",
       "      <td>0.772182</td>\n",
       "    </tr>\n",
       "    <tr>\n",
       "      <th>5</th>\n",
       "      <td>four_g</td>\n",
       "      <td>1.059525</td>\n",
       "    </tr>\n",
       "    <tr>\n",
       "      <th>6</th>\n",
       "      <td>int_memory</td>\n",
       "      <td>2.922996</td>\n",
       "    </tr>\n",
       "    <tr>\n",
       "      <th>7</th>\n",
       "      <td>m_dep</td>\n",
       "      <td>1.500682</td>\n",
       "    </tr>\n",
       "    <tr>\n",
       "      <th>8</th>\n",
       "      <td>mobile_wt</td>\n",
       "      <td>3.594318</td>\n",
       "    </tr>\n",
       "    <tr>\n",
       "      <th>9</th>\n",
       "      <td>n_cores</td>\n",
       "      <td>2.625415</td>\n",
       "    </tr>\n",
       "    <tr>\n",
       "      <th>10</th>\n",
       "      <td>pc</td>\n",
       "      <td>0.825446</td>\n",
       "    </tr>\n",
       "    <tr>\n",
       "      <th>11</th>\n",
       "      <td>px_height</td>\n",
       "      <td>19.484842</td>\n",
       "    </tr>\n",
       "    <tr>\n",
       "      <th>12</th>\n",
       "      <td>px_width</td>\n",
       "      <td>22.620882</td>\n",
       "    </tr>\n",
       "    <tr>\n",
       "      <th>13</th>\n",
       "      <td>ram</td>\n",
       "      <td>3520.110824</td>\n",
       "    </tr>\n",
       "    <tr>\n",
       "      <th>14</th>\n",
       "      <td>sc_h</td>\n",
       "      <td>2.225984</td>\n",
       "    </tr>\n",
       "    <tr>\n",
       "      <th>15</th>\n",
       "      <td>sc_w</td>\n",
       "      <td>1.671000</td>\n",
       "    </tr>\n",
       "    <tr>\n",
       "      <th>16</th>\n",
       "      <td>talk_time</td>\n",
       "      <td>1.628811</td>\n",
       "    </tr>\n",
       "    <tr>\n",
       "      <th>17</th>\n",
       "      <td>three_g</td>\n",
       "      <td>0.457320</td>\n",
       "    </tr>\n",
       "    <tr>\n",
       "      <th>18</th>\n",
       "      <td>touch_screen</td>\n",
       "      <td>1.293302</td>\n",
       "    </tr>\n",
       "    <tr>\n",
       "      <th>19</th>\n",
       "      <td>wifi</td>\n",
       "      <td>0.284940</td>\n",
       "    </tr>\n",
       "  </tbody>\n",
       "</table>\n",
       "</div>"
      ],
      "text/plain": [
       "         Features        Score\n",
       "0   battery_power    31.598158\n",
       "1            blue     0.476768\n",
       "2     clock_speed     0.493708\n",
       "3        dual_sim     0.428239\n",
       "4              fc     0.772182\n",
       "5          four_g     1.059525\n",
       "6      int_memory     2.922996\n",
       "7           m_dep     1.500682\n",
       "8       mobile_wt     3.594318\n",
       "9         n_cores     2.625415\n",
       "10             pc     0.825446\n",
       "11      px_height    19.484842\n",
       "12       px_width    22.620882\n",
       "13            ram  3520.110824\n",
       "14           sc_h     2.225984\n",
       "15           sc_w     1.671000\n",
       "16      talk_time     1.628811\n",
       "17        three_g     0.457320\n",
       "18   touch_screen     1.293302\n",
       "19           wifi     0.284940"
      ]
     },
     "execution_count": 119,
     "metadata": {},
     "output_type": "execute_result"
    }
   ],
   "source": [
    "from sklearn.feature_selection import SelectKBest\n",
    "X=train.drop('price_range', axis=1)\n",
    "y=train['price_range']\n",
    "bestfeatures=SelectKBest()\n",
    "fit=bestfeatures.fit(X,y)\n",
    "scores=pd.DataFrame(fit.scores_)\n",
    "scores.index=X.columns\n",
    "scores.reset_index(inplace=True)\n",
    "scores.columns=['Features','Score']\n",
    "scores"
   ]
  },
  {
   "cell_type": "markdown",
   "id": "f07b55f8",
   "metadata": {},
   "source": [
    "**Sort these values and select top 10 features only.**"
   ]
  },
  {
   "cell_type": "code",
   "execution_count": 122,
   "id": "981dfbb6",
   "metadata": {},
   "outputs": [
    {
     "data": {
      "text/plain": [
       "Features\n",
       "ram              3520.110824\n",
       "battery_power      31.598158\n",
       "px_width           22.620882\n",
       "px_height          19.484842\n",
       "mobile_wt           3.594318\n",
       "int_memory          2.922996\n",
       "n_cores             2.625415\n",
       "sc_h                2.225984\n",
       "sc_w                1.671000\n",
       "talk_time           1.628811\n",
       "Name: Score, dtype: float64"
      ]
     },
     "execution_count": 122,
     "metadata": {},
     "output_type": "execute_result"
    }
   ],
   "source": [
    "selected=scores.groupby('Features').Score.sum().sort_values(ascending=False)[:10]\n",
    "selected"
   ]
  },
  {
   "cell_type": "markdown",
   "id": "0d712377",
   "metadata": {},
   "source": [
    "**`'ram', 'battery_power', 'px_width', 'px_height', 'mobile_wt', 'int_memory', 'n_cores', 'sc_h', 'sc_w', 'talk_time'` These are top 10 selected columns.**"
   ]
  },
  {
   "cell_type": "markdown",
   "id": "4249ce36",
   "metadata": {},
   "source": [
    "#### 2. Feature Importance using ExtraTreesClassifier"
   ]
  },
  {
   "cell_type": "code",
   "execution_count": 131,
   "id": "2b97e5da",
   "metadata": {},
   "outputs": [
    {
     "data": {
      "text/html": [
       "<div>\n",
       "<style scoped>\n",
       "    .dataframe tbody tr th:only-of-type {\n",
       "        vertical-align: middle;\n",
       "    }\n",
       "\n",
       "    .dataframe tbody tr th {\n",
       "        vertical-align: top;\n",
       "    }\n",
       "\n",
       "    .dataframe thead th {\n",
       "        text-align: right;\n",
       "    }\n",
       "</style>\n",
       "<table border=\"1\" class=\"dataframe\">\n",
       "  <thead>\n",
       "    <tr style=\"text-align: right;\">\n",
       "      <th></th>\n",
       "      <th>Features</th>\n",
       "      <th>Score</th>\n",
       "    </tr>\n",
       "  </thead>\n",
       "  <tbody>\n",
       "    <tr>\n",
       "      <th>0</th>\n",
       "      <td>battery_power</td>\n",
       "      <td>0.060667</td>\n",
       "    </tr>\n",
       "    <tr>\n",
       "      <th>1</th>\n",
       "      <td>blue</td>\n",
       "      <td>0.020777</td>\n",
       "    </tr>\n",
       "    <tr>\n",
       "      <th>2</th>\n",
       "      <td>clock_speed</td>\n",
       "      <td>0.034372</td>\n",
       "    </tr>\n",
       "    <tr>\n",
       "      <th>3</th>\n",
       "      <td>dual_sim</td>\n",
       "      <td>0.019953</td>\n",
       "    </tr>\n",
       "    <tr>\n",
       "      <th>4</th>\n",
       "      <td>fc</td>\n",
       "      <td>0.033571</td>\n",
       "    </tr>\n",
       "    <tr>\n",
       "      <th>5</th>\n",
       "      <td>four_g</td>\n",
       "      <td>0.017142</td>\n",
       "    </tr>\n",
       "    <tr>\n",
       "      <th>6</th>\n",
       "      <td>int_memory</td>\n",
       "      <td>0.035397</td>\n",
       "    </tr>\n",
       "    <tr>\n",
       "      <th>7</th>\n",
       "      <td>m_dep</td>\n",
       "      <td>0.034880</td>\n",
       "    </tr>\n",
       "    <tr>\n",
       "      <th>8</th>\n",
       "      <td>mobile_wt</td>\n",
       "      <td>0.036970</td>\n",
       "    </tr>\n",
       "    <tr>\n",
       "      <th>9</th>\n",
       "      <td>n_cores</td>\n",
       "      <td>0.033457</td>\n",
       "    </tr>\n",
       "    <tr>\n",
       "      <th>10</th>\n",
       "      <td>pc</td>\n",
       "      <td>0.033464</td>\n",
       "    </tr>\n",
       "    <tr>\n",
       "      <th>11</th>\n",
       "      <td>px_height</td>\n",
       "      <td>0.047924</td>\n",
       "    </tr>\n",
       "    <tr>\n",
       "      <th>12</th>\n",
       "      <td>px_width</td>\n",
       "      <td>0.048653</td>\n",
       "    </tr>\n",
       "    <tr>\n",
       "      <th>13</th>\n",
       "      <td>ram</td>\n",
       "      <td>0.383636</td>\n",
       "    </tr>\n",
       "    <tr>\n",
       "      <th>14</th>\n",
       "      <td>sc_h</td>\n",
       "      <td>0.034048</td>\n",
       "    </tr>\n",
       "    <tr>\n",
       "      <th>15</th>\n",
       "      <td>sc_w</td>\n",
       "      <td>0.035098</td>\n",
       "    </tr>\n",
       "    <tr>\n",
       "      <th>16</th>\n",
       "      <td>talk_time</td>\n",
       "      <td>0.036387</td>\n",
       "    </tr>\n",
       "    <tr>\n",
       "      <th>17</th>\n",
       "      <td>three_g</td>\n",
       "      <td>0.014228</td>\n",
       "    </tr>\n",
       "    <tr>\n",
       "      <th>18</th>\n",
       "      <td>touch_screen</td>\n",
       "      <td>0.018516</td>\n",
       "    </tr>\n",
       "    <tr>\n",
       "      <th>19</th>\n",
       "      <td>wifi</td>\n",
       "      <td>0.020861</td>\n",
       "    </tr>\n",
       "  </tbody>\n",
       "</table>\n",
       "</div>"
      ],
      "text/plain": [
       "         Features     Score\n",
       "0   battery_power  0.060667\n",
       "1            blue  0.020777\n",
       "2     clock_speed  0.034372\n",
       "3        dual_sim  0.019953\n",
       "4              fc  0.033571\n",
       "5          four_g  0.017142\n",
       "6      int_memory  0.035397\n",
       "7           m_dep  0.034880\n",
       "8       mobile_wt  0.036970\n",
       "9         n_cores  0.033457\n",
       "10             pc  0.033464\n",
       "11      px_height  0.047924\n",
       "12       px_width  0.048653\n",
       "13            ram  0.383636\n",
       "14           sc_h  0.034048\n",
       "15           sc_w  0.035098\n",
       "16      talk_time  0.036387\n",
       "17        three_g  0.014228\n",
       "18   touch_screen  0.018516\n",
       "19           wifi  0.020861"
      ]
     },
     "execution_count": 131,
     "metadata": {},
     "output_type": "execute_result"
    }
   ],
   "source": [
    "from sklearn.ensemble import ExtraTreesClassifier\n",
    "model=ExtraTreesClassifier()\n",
    "model.fit(X,y)\n",
    "scores=pd.DataFrame(model.feature_importances_,index=X.columns)\n",
    "scores.reset_index(inplace=True)\n",
    "scores.columns=['Features','Score']\n",
    "scores"
   ]
  },
  {
   "cell_type": "markdown",
   "id": "9c1c8418",
   "metadata": {},
   "source": [
    "**Select only top 10.**"
   ]
  },
  {
   "cell_type": "code",
   "execution_count": 132,
   "id": "c04b31e8",
   "metadata": {},
   "outputs": [
    {
     "data": {
      "text/plain": [
       "Features\n",
       "ram              0.383636\n",
       "battery_power    0.060667\n",
       "px_width         0.048653\n",
       "px_height        0.047924\n",
       "mobile_wt        0.036970\n",
       "talk_time        0.036387\n",
       "int_memory       0.035397\n",
       "sc_w             0.035098\n",
       "m_dep            0.034880\n",
       "clock_speed      0.034372\n",
       "Name: Score, dtype: float64"
      ]
     },
     "execution_count": 132,
     "metadata": {},
     "output_type": "execute_result"
    }
   ],
   "source": [
    "selected=scores.groupby('Features').Score.sum().sort_values(ascending=False)[:10]\n",
    "selected"
   ]
  },
  {
   "cell_type": "code",
   "execution_count": 133,
   "id": "497f5d05",
   "metadata": {
    "scrolled": true
   },
   "outputs": [
    {
     "data": {
      "text/plain": [
       "Index(['ram', 'battery_power', 'px_width', 'px_height', 'mobile_wt',\n",
       "       'talk_time', 'int_memory', 'sc_w', 'm_dep', 'clock_speed'],\n",
       "      dtype='object', name='Features')"
      ]
     },
     "execution_count": 133,
     "metadata": {},
     "output_type": "execute_result"
    }
   ],
   "source": [
    "selected.index"
   ]
  },
  {
   "cell_type": "markdown",
   "id": "5c1b6386",
   "metadata": {},
   "source": [
    "**`'ram', 'battery_power', 'px_width', 'px_height', 'mobile_wt', 'talk_time', 'int_memory', 'sc_w', 'm_dep', 'clock_speed'` These are the selected input features.**"
   ]
  },
  {
   "cell_type": "markdown",
   "id": "df0ad3cf",
   "metadata": {},
   "source": [
    "#### 3. Correlation Method"
   ]
  },
  {
   "cell_type": "code",
   "execution_count": 144,
   "id": "1ac0a19f",
   "metadata": {},
   "outputs": [
    {
     "data": {
      "image/png": "[encoded data removed]",
      "text/plain": [
       "<Figure size 1440x720 with 2 Axes>"
      ]
     },
     "metadata": {},
     "output_type": "display_data"
    }
   ],
   "source": [
    "correlation=train.corr()\n",
    "plt.figure(figsize=(20,10))\n",
    "sns.heatmap(correlation, annot=True, cmap='Blues',fmt='.5f');"
   ]
  },
  {
   "cell_type": "markdown",
   "id": "25cdd660",
   "metadata": {},
   "source": [
    "**Select top 10 features**"
   ]
  },
  {
   "cell_type": "code",
   "execution_count": 153,
   "id": "3bef040a",
   "metadata": {},
   "outputs": [
    {
     "data": {
      "text/html": [
       "<div>\n",
       "<style scoped>\n",
       "    .dataframe tbody tr th:only-of-type {\n",
       "        vertical-align: middle;\n",
       "    }\n",
       "\n",
       "    .dataframe tbody tr th {\n",
       "        vertical-align: top;\n",
       "    }\n",
       "\n",
       "    .dataframe thead th {\n",
       "        text-align: right;\n",
       "    }\n",
       "</style>\n",
       "<table border=\"1\" class=\"dataframe\">\n",
       "  <thead>\n",
       "    <tr style=\"text-align: right;\">\n",
       "      <th></th>\n",
       "      <th>Features</th>\n",
       "      <th>Score</th>\n",
       "      <th>abs_score</th>\n",
       "    </tr>\n",
       "  </thead>\n",
       "  <tbody>\n",
       "    <tr>\n",
       "      <th>0</th>\n",
       "      <td>battery_power</td>\n",
       "      <td>0.200723</td>\n",
       "      <td>0.200723</td>\n",
       "    </tr>\n",
       "    <tr>\n",
       "      <th>1</th>\n",
       "      <td>blue</td>\n",
       "      <td>0.020573</td>\n",
       "      <td>0.020573</td>\n",
       "    </tr>\n",
       "    <tr>\n",
       "      <th>2</th>\n",
       "      <td>clock_speed</td>\n",
       "      <td>-0.006606</td>\n",
       "      <td>0.006606</td>\n",
       "    </tr>\n",
       "    <tr>\n",
       "      <th>3</th>\n",
       "      <td>dual_sim</td>\n",
       "      <td>0.017444</td>\n",
       "      <td>0.017444</td>\n",
       "    </tr>\n",
       "    <tr>\n",
       "      <th>4</th>\n",
       "      <td>fc</td>\n",
       "      <td>0.021998</td>\n",
       "      <td>0.021998</td>\n",
       "    </tr>\n",
       "    <tr>\n",
       "      <th>5</th>\n",
       "      <td>four_g</td>\n",
       "      <td>0.014772</td>\n",
       "      <td>0.014772</td>\n",
       "    </tr>\n",
       "    <tr>\n",
       "      <th>6</th>\n",
       "      <td>int_memory</td>\n",
       "      <td>0.044435</td>\n",
       "      <td>0.044435</td>\n",
       "    </tr>\n",
       "    <tr>\n",
       "      <th>7</th>\n",
       "      <td>m_dep</td>\n",
       "      <td>0.000853</td>\n",
       "      <td>0.000853</td>\n",
       "    </tr>\n",
       "    <tr>\n",
       "      <th>8</th>\n",
       "      <td>mobile_wt</td>\n",
       "      <td>-0.030302</td>\n",
       "      <td>0.030302</td>\n",
       "    </tr>\n",
       "    <tr>\n",
       "      <th>9</th>\n",
       "      <td>n_cores</td>\n",
       "      <td>0.004399</td>\n",
       "      <td>0.004399</td>\n",
       "    </tr>\n",
       "    <tr>\n",
       "      <th>10</th>\n",
       "      <td>pc</td>\n",
       "      <td>0.033599</td>\n",
       "      <td>0.033599</td>\n",
       "    </tr>\n",
       "    <tr>\n",
       "      <th>11</th>\n",
       "      <td>px_height</td>\n",
       "      <td>0.148858</td>\n",
       "      <td>0.148858</td>\n",
       "    </tr>\n",
       "    <tr>\n",
       "      <th>12</th>\n",
       "      <td>px_width</td>\n",
       "      <td>0.165818</td>\n",
       "      <td>0.165818</td>\n",
       "    </tr>\n",
       "    <tr>\n",
       "      <th>13</th>\n",
       "      <td>ram</td>\n",
       "      <td>0.917046</td>\n",
       "      <td>0.917046</td>\n",
       "    </tr>\n",
       "    <tr>\n",
       "      <th>14</th>\n",
       "      <td>sc_h</td>\n",
       "      <td>0.022986</td>\n",
       "      <td>0.022986</td>\n",
       "    </tr>\n",
       "    <tr>\n",
       "      <th>15</th>\n",
       "      <td>sc_w</td>\n",
       "      <td>0.038711</td>\n",
       "      <td>0.038711</td>\n",
       "    </tr>\n",
       "    <tr>\n",
       "      <th>16</th>\n",
       "      <td>talk_time</td>\n",
       "      <td>0.021859</td>\n",
       "      <td>0.021859</td>\n",
       "    </tr>\n",
       "    <tr>\n",
       "      <th>17</th>\n",
       "      <td>three_g</td>\n",
       "      <td>0.023611</td>\n",
       "      <td>0.023611</td>\n",
       "    </tr>\n",
       "    <tr>\n",
       "      <th>18</th>\n",
       "      <td>touch_screen</td>\n",
       "      <td>-0.030411</td>\n",
       "      <td>0.030411</td>\n",
       "    </tr>\n",
       "    <tr>\n",
       "      <th>19</th>\n",
       "      <td>wifi</td>\n",
       "      <td>0.018785</td>\n",
       "      <td>0.018785</td>\n",
       "    </tr>\n",
       "    <tr>\n",
       "      <th>20</th>\n",
       "      <td>price_range</td>\n",
       "      <td>1.000000</td>\n",
       "      <td>1.000000</td>\n",
       "    </tr>\n",
       "  </tbody>\n",
       "</table>\n",
       "</div>"
      ],
      "text/plain": [
       "         Features     Score  abs_score\n",
       "0   battery_power  0.200723   0.200723\n",
       "1            blue  0.020573   0.020573\n",
       "2     clock_speed -0.006606   0.006606\n",
       "3        dual_sim  0.017444   0.017444\n",
       "4              fc  0.021998   0.021998\n",
       "5          four_g  0.014772   0.014772\n",
       "6      int_memory  0.044435   0.044435\n",
       "7           m_dep  0.000853   0.000853\n",
       "8       mobile_wt -0.030302   0.030302\n",
       "9         n_cores  0.004399   0.004399\n",
       "10             pc  0.033599   0.033599\n",
       "11      px_height  0.148858   0.148858\n",
       "12       px_width  0.165818   0.165818\n",
       "13            ram  0.917046   0.917046\n",
       "14           sc_h  0.022986   0.022986\n",
       "15           sc_w  0.038711   0.038711\n",
       "16      talk_time  0.021859   0.021859\n",
       "17        three_g  0.023611   0.023611\n",
       "18   touch_screen -0.030411   0.030411\n",
       "19           wifi  0.018785   0.018785\n",
       "20    price_range  1.000000   1.000000"
      ]
     },
     "execution_count": 153,
     "metadata": {},
     "output_type": "execute_result"
    }
   ],
   "source": [
    "corr_to_price_range=pd.DataFrame(correlation['price_range'])\n",
    "corr_to_price_range.reset_index(inplace=True)\n",
    "corr_to_price_range.columns=['Features','Score']\n",
    "corr_to_price_range['abs_score']=abs(corr_to_price_range['Score'])\n",
    "corr_to_price_range"
   ]
  },
  {
   "cell_type": "markdown",
   "id": "0d07ac3d",
   "metadata": {},
   "source": [
    "**Now select top 10 highly correlated features.**"
   ]
  },
  {
   "cell_type": "code",
   "execution_count": 155,
   "id": "a8ed2244",
   "metadata": {},
   "outputs": [
    {
     "data": {
      "text/plain": [
       "Features\n",
       "price_range      1.000000\n",
       "ram              0.917046\n",
       "battery_power    0.200723\n",
       "px_width         0.165818\n",
       "px_height        0.148858\n",
       "int_memory       0.044435\n",
       "sc_w             0.038711\n",
       "pc               0.033599\n",
       "touch_screen     0.030411\n",
       "mobile_wt        0.030302\n",
       "three_g          0.023611\n",
       "Name: abs_score, dtype: float64"
      ]
     },
     "execution_count": 155,
     "metadata": {},
     "output_type": "execute_result"
    }
   ],
   "source": [
    "selected=corr_to_price_range.groupby('Features').abs_score.sum().sort_values(ascending=False)[:11]\n",
    "selected"
   ]
  },
  {
   "cell_type": "markdown",
   "id": "a4026abe",
   "metadata": {},
   "source": [
    "**`'ram', 'battery_power', 'px_width', 'px_height', 'int_memory', 'sc_w', 'pc', 'touch_screen', 'mobile_wt', 'three_g'` These are the top 10 selected features.**"
   ]
  },
  {
   "cell_type": "markdown",
   "id": "5a167c26",
   "metadata": {},
   "source": [
    "### From above three methods, `'ram', 'battery_power', 'px_width', 'px_height', 'mobile_wt', 'int_memory'` these are the six features selected in all methods, select features from any one method."
   ]
  },
  {
   "cell_type": "code",
   "execution_count": 157,
   "id": "3ff49ed1",
   "metadata": {},
   "outputs": [
    {
     "data": {
      "text/html": [
       "<div>\n",
       "<style scoped>\n",
       "    .dataframe tbody tr th:only-of-type {\n",
       "        vertical-align: middle;\n",
       "    }\n",
       "\n",
       "    .dataframe tbody tr th {\n",
       "        vertical-align: top;\n",
       "    }\n",
       "\n",
       "    .dataframe thead th {\n",
       "        text-align: right;\n",
       "    }\n",
       "</style>\n",
       "<table border=\"1\" class=\"dataframe\">\n",
       "  <thead>\n",
       "    <tr style=\"text-align: right;\">\n",
       "      <th></th>\n",
       "      <th>ram</th>\n",
       "      <th>battery_power</th>\n",
       "      <th>px_width</th>\n",
       "      <th>px_height</th>\n",
       "      <th>mobile_wt</th>\n",
       "      <th>int_memory</th>\n",
       "      <th>n_cores</th>\n",
       "      <th>sc_h</th>\n",
       "      <th>sc_w</th>\n",
       "      <th>talk_time</th>\n",
       "      <th>price_range</th>\n",
       "    </tr>\n",
       "  </thead>\n",
       "  <tbody>\n",
       "    <tr>\n",
       "      <th>0</th>\n",
       "      <td>2549</td>\n",
       "      <td>842</td>\n",
       "      <td>756</td>\n",
       "      <td>20</td>\n",
       "      <td>188</td>\n",
       "      <td>7</td>\n",
       "      <td>2</td>\n",
       "      <td>9</td>\n",
       "      <td>7</td>\n",
       "      <td>19</td>\n",
       "      <td>1</td>\n",
       "    </tr>\n",
       "    <tr>\n",
       "      <th>1</th>\n",
       "      <td>2631</td>\n",
       "      <td>1021</td>\n",
       "      <td>1988</td>\n",
       "      <td>905</td>\n",
       "      <td>136</td>\n",
       "      <td>53</td>\n",
       "      <td>3</td>\n",
       "      <td>17</td>\n",
       "      <td>3</td>\n",
       "      <td>7</td>\n",
       "      <td>2</td>\n",
       "    </tr>\n",
       "    <tr>\n",
       "      <th>2</th>\n",
       "      <td>2603</td>\n",
       "      <td>563</td>\n",
       "      <td>1716</td>\n",
       "      <td>1263</td>\n",
       "      <td>145</td>\n",
       "      <td>41</td>\n",
       "      <td>5</td>\n",
       "      <td>11</td>\n",
       "      <td>2</td>\n",
       "      <td>9</td>\n",
       "      <td>2</td>\n",
       "    </tr>\n",
       "    <tr>\n",
       "      <th>3</th>\n",
       "      <td>2769</td>\n",
       "      <td>615</td>\n",
       "      <td>1786</td>\n",
       "      <td>1216</td>\n",
       "      <td>131</td>\n",
       "      <td>10</td>\n",
       "      <td>6</td>\n",
       "      <td>16</td>\n",
       "      <td>8</td>\n",
       "      <td>11</td>\n",
       "      <td>2</td>\n",
       "    </tr>\n",
       "    <tr>\n",
       "      <th>4</th>\n",
       "      <td>1411</td>\n",
       "      <td>1821</td>\n",
       "      <td>1212</td>\n",
       "      <td>1208</td>\n",
       "      <td>141</td>\n",
       "      <td>44</td>\n",
       "      <td>2</td>\n",
       "      <td>8</td>\n",
       "      <td>2</td>\n",
       "      <td>15</td>\n",
       "      <td>1</td>\n",
       "    </tr>\n",
       "  </tbody>\n",
       "</table>\n",
       "</div>"
      ],
      "text/plain": [
       "    ram  battery_power  px_width  px_height  mobile_wt  int_memory  n_cores  \\\n",
       "0  2549            842       756         20        188           7        2   \n",
       "1  2631           1021      1988        905        136          53        3   \n",
       "2  2603            563      1716       1263        145          41        5   \n",
       "3  2769            615      1786       1216        131          10        6   \n",
       "4  1411           1821      1212       1208        141          44        2   \n",
       "\n",
       "   sc_h  sc_w  talk_time  price_range  \n",
       "0     9     7         19            1  \n",
       "1    17     3          7            2  \n",
       "2    11     2          9            2  \n",
       "3    16     8         11            2  \n",
       "4     8     2         15            1  "
      ]
     },
     "execution_count": 157,
     "metadata": {},
     "output_type": "execute_result"
    }
   ],
   "source": [
    "data=train[['ram', 'battery_power', 'px_width', 'px_height', 'mobile_wt', 'int_memory', 'n_cores', 'sc_h', 'sc_w', 'talk_time','price_range']]\n",
    "data.head(5)"
   ]
  },
  {
   "cell_type": "markdown",
   "id": "29d61c6d",
   "metadata": {},
   "source": [
    "#### This is final cleaned Dataset."
   ]
  },
  {
   "cell_type": "code",
   "execution_count": null,
   "id": "9aed5382",
   "metadata": {},
   "outputs": [],
   "source": []
  },
  {
   "cell_type": "markdown",
   "id": "e556be61",
   "metadata": {},
   "source": [
    "### Seperate features into intput and output"
   ]
  },
  {
   "cell_type": "code",
   "execution_count": 158,
   "id": "357a4cc4",
   "metadata": {},
   "outputs": [],
   "source": [
    "x=data.drop('price_range', axis=1).values\n",
    "y=data['price_range'].values"
   ]
  },
  {
   "cell_type": "markdown",
   "id": "e60760b0",
   "metadata": {},
   "source": [
    "### Standardization the input features"
   ]
  },
  {
   "cell_type": "code",
   "execution_count": 159,
   "id": "875497df",
   "metadata": {},
   "outputs": [
    {
     "name": "stdout",
     "output_type": "stream",
     "text": [
      "[[ 0.39170341 -0.90259726 -1.14678403 ... -0.78498329  0.2831028\n",
      "   1.46249332]\n",
      " [ 0.46731702 -0.49513857  1.70446468 ...  1.11426556 -0.63531667\n",
      "  -0.73426721]\n",
      " [ 0.44149774 -1.5376865   1.07496821 ... -0.31017108 -0.86492153\n",
      "  -0.36814045]\n",
      " ...\n",
      " [ 0.86013895  1.53077336  0.88056489 ... -0.78498329 -1.0945264\n",
      "  -1.10039396]\n",
      " [-1.15745352  0.62252745 -1.34581601 ...  1.35167167  0.9719174\n",
      "   1.46249332]\n",
      " [ 1.65500399 -1.65833069 -1.15141268 ...  1.58907778 -0.4057118\n",
      "  -1.6495841 ]]\n"
     ]
    }
   ],
   "source": [
    "from sklearn.preprocessing import StandardScaler\n",
    "\n",
    "std_scaler=StandardScaler()\n",
    "std_scaler_fit=std_scaler.fit(x)\n",
    "x=std_scaler_fit.transform(x)\n",
    "print(x)"
   ]
  },
  {
   "cell_type": "markdown",
   "id": "9d216168",
   "metadata": {},
   "source": [
    "### Train test split"
   ]
  },
  {
   "cell_type": "code",
   "execution_count": 161,
   "id": "2a464045",
   "metadata": {},
   "outputs": [
    {
     "name": "stdout",
     "output_type": "stream",
     "text": [
      "x train shape (1600, 10)\n",
      "x test shape (400, 10)\n",
      "y train shape (1600,)\n",
      "y test shape (400,)\n"
     ]
    }
   ],
   "source": [
    "from sklearn.model_selection import train_test_split\n",
    "\n",
    "x_train,x_test,y_train,y_test=train_test_split(x,y,test_size=0.2, random_state=0)\n",
    "print(\"x train shape\", x_train.shape)\n",
    "print(\"x test shape\", x_test.shape)\n",
    "print(\"y train shape\", y_train.shape)\n",
    "print(\"y test shape\", y_test.shape)"
   ]
  },
  {
   "cell_type": "markdown",
   "id": "aa1d503a",
   "metadata": {},
   "source": [
    "### Create a function to Train and Predict for all classfication model"
   ]
  },
  {
   "cell_type": "code",
   "execution_count": 164,
   "id": "b258e108",
   "metadata": {},
   "outputs": [],
   "source": [
    "from sklearn.linear_model import LogisticRegression\n",
    "from sklearn.neighbors import KNeighborsClassifier\n",
    "from sklearn.svm import SVC\n",
    "from sklearn.naive_bayes import GaussianNB\n",
    "from sklearn.tree import DecisionTreeClassifier\n",
    "from sklearn.ensemble import RandomForestClassifier\n",
    "from xgboost import XGBClassifier\n",
    "from sklearn.metrics import confusion_matrix, accuracy_score, classification_report"
   ]
  },
  {
   "cell_type": "code",
   "execution_count": 175,
   "id": "7bd340b6",
   "metadata": {},
   "outputs": [],
   "source": [
    "models = {\n",
    "    \"KNN\": KNeighborsClassifier(),\n",
    "    \"DT\": DecisionTreeClassifier(),\n",
    "    \"RF\": RandomForestClassifier(),\n",
    "    \"XGB\": XGBClassifier(),\n",
    "    \"Naive Bayes\": GaussianNB(),\n",
    "    \"SVC\": SVC()\n",
    "}"
   ]
  },
  {
   "cell_type": "code",
   "execution_count": 176,
   "id": "550951fa",
   "metadata": {},
   "outputs": [
    {
     "name": "stdout",
     "output_type": "stream",
     "text": [
      "Training Model KNN\n",
      "Testing Accuracy: 0.65\n",
      "**-****-****-****-****-****-****-****-****-****-**\n",
      "\n",
      "Training Model DT\n",
      "Testing Accuracy: 0.855\n",
      "**-****-****-****-****-****-****-****-****-****-**\n",
      "\n",
      "Training Model RF\n",
      "Testing Accuracy: 0.895\n",
      "**-****-****-****-****-****-****-****-****-****-**\n",
      "\n",
      "Training Model XGB\n",
      "Testing Accuracy: 0.9325\n",
      "**-****-****-****-****-****-****-****-****-****-**\n",
      "\n",
      "Training Model Naive Bayes\n",
      "Testing Accuracy: 0.82\n",
      "**-****-****-****-****-****-****-****-****-****-**\n",
      "\n",
      "Training Model SVC\n",
      "Testing Accuracy: 0.915\n",
      "**-****-****-****-****-****-****-****-****-****-**\n",
      "\n"
     ]
    }
   ],
   "source": [
    "for name, model in models.items():\n",
    "    print(f'Training Model {name}')\n",
    "    model.fit(x_train, y_train)\n",
    "    y_pred = model.predict(x_test)\n",
    "    print(f'Testing Accuracy: {accuracy_score(y_test, y_pred)}')\n",
    "    print('**-**'*10)\n",
    "    print()"
   ]
  },
  {
   "cell_type": "markdown",
   "id": "c4dacfd6",
   "metadata": {},
   "source": [
    "**Test Accuracy in XGBoost classfication model is 94%.**\n",
    "\n",
    "### **Tune the hyperparametes using GridSearchCv**"
   ]
  },
  {
   "cell_type": "code",
   "execution_count": 179,
   "id": "1247ac21",
   "metadata": {},
   "outputs": [
    {
     "data": {
      "text/plain": [
       "{'learning_rate': 0.2, 'max_depth': 3, 'max_leaves': 0, 'n_estimators': 100}"
      ]
     },
     "execution_count": 179,
     "metadata": {},
     "output_type": "execute_result"
    }
   ],
   "source": [
    "from sklearn.model_selection import GridSearchCV\n",
    "\n",
    "xgb=XGBClassifier()\n",
    "parameters=dict(n_estimators=[50,60,70,80,90,100], max_depth=[1,2,3,4,5],\n",
    "                learning_rate=[0.1,0.11,0.12,0.13,0.14,0.15,0.16,0.18,0.19,0.2],\n",
    "                max_leaves=[0,1,2])\n",
    "grid_search_cv=GridSearchCV(xgb,param_grid=parameters)\n",
    "search = grid_search_cv.fit(x_train,y_train)\n",
    "search.best_params_"
   ]
  },
  {
   "cell_type": "markdown",
   "id": "07bfd08e",
   "metadata": {},
   "source": [
    "**Use these parameters to train the model.**"
   ]
  },
  {
   "cell_type": "code",
   "execution_count": 183,
   "id": "a05ebfe2",
   "metadata": {},
   "outputs": [
    {
     "data": {
      "text/plain": [
       "0.945"
      ]
     },
     "execution_count": 183,
     "metadata": {},
     "output_type": "execute_result"
    }
   ],
   "source": [
    "xgb=XGBClassifier(max_leaves=0, n_estimators=100, max_depth=3, learning_rate=0.2)\n",
    "xgb=xgb.fit(x_train,y_train)\n",
    "y_pred=xgb.predict(x_test)\n",
    "accuracy_score(y_pred, y_test)"
   ]
  },
  {
   "cell_type": "code",
   "execution_count": 184,
   "id": "1fcf2035",
   "metadata": {},
   "outputs": [
    {
     "name": "stdout",
     "output_type": "stream",
     "text": [
      "[[ 93   1   0   0]\n",
      " [  2  85   3   0]\n",
      " [  0   6  91   5]\n",
      " [  0   0   5 109]]\n"
     ]
    }
   ],
   "source": [
    "print(confusion_matrix(y_pred, y_test))"
   ]
  },
  {
   "cell_type": "code",
   "execution_count": 185,
   "id": "e2d7e140",
   "metadata": {},
   "outputs": [
    {
     "name": "stdout",
     "output_type": "stream",
     "text": [
      "              precision    recall  f1-score   support\n",
      "\n",
      "           0       0.98      0.99      0.98        94\n",
      "           1       0.92      0.94      0.93        90\n",
      "           2       0.92      0.89      0.91       102\n",
      "           3       0.96      0.96      0.96       114\n",
      "\n",
      "    accuracy                           0.94       400\n",
      "   macro avg       0.94      0.95      0.94       400\n",
      "weighted avg       0.94      0.94      0.94       400\n",
      "\n"
     ]
    }
   ],
   "source": [
    "print(classification_report(y_pred,y_test))"
   ]
  },
  {
   "cell_type": "code",
   "execution_count": null,
   "id": "6af106ee",
   "metadata": {},
   "outputs": [],
   "source": []
  },
  {
   "cell_type": "markdown",
   "id": "93bdda53",
   "metadata": {},
   "source": [
    "## Testing our model on test data"
   ]
  },
  {
   "cell_type": "code",
   "execution_count": 187,
   "id": "8d754da3",
   "metadata": {},
   "outputs": [
    {
     "data": {
      "text/html": [
       "<div>\n",
       "<style scoped>\n",
       "    .dataframe tbody tr th:only-of-type {\n",
       "        vertical-align: middle;\n",
       "    }\n",
       "\n",
       "    .dataframe tbody tr th {\n",
       "        vertical-align: top;\n",
       "    }\n",
       "\n",
       "    .dataframe thead th {\n",
       "        text-align: right;\n",
       "    }\n",
       "</style>\n",
       "<table border=\"1\" class=\"dataframe\">\n",
       "  <thead>\n",
       "    <tr style=\"text-align: right;\">\n",
       "      <th></th>\n",
       "      <th>id</th>\n",
       "      <th>battery_power</th>\n",
       "      <th>blue</th>\n",
       "      <th>clock_speed</th>\n",
       "      <th>dual_sim</th>\n",
       "      <th>fc</th>\n",
       "      <th>four_g</th>\n",
       "      <th>int_memory</th>\n",
       "      <th>m_dep</th>\n",
       "      <th>mobile_wt</th>\n",
       "      <th>n_cores</th>\n",
       "      <th>pc</th>\n",
       "      <th>px_height</th>\n",
       "      <th>px_width</th>\n",
       "      <th>ram</th>\n",
       "      <th>sc_h</th>\n",
       "      <th>sc_w</th>\n",
       "      <th>talk_time</th>\n",
       "      <th>three_g</th>\n",
       "      <th>touch_screen</th>\n",
       "      <th>wifi</th>\n",
       "    </tr>\n",
       "  </thead>\n",
       "  <tbody>\n",
       "    <tr>\n",
       "      <th>0</th>\n",
       "      <td>1</td>\n",
       "      <td>1043</td>\n",
       "      <td>1</td>\n",
       "      <td>1.8</td>\n",
       "      <td>1</td>\n",
       "      <td>14</td>\n",
       "      <td>0</td>\n",
       "      <td>5</td>\n",
       "      <td>0.1</td>\n",
       "      <td>193</td>\n",
       "      <td>3</td>\n",
       "      <td>16</td>\n",
       "      <td>226</td>\n",
       "      <td>1412</td>\n",
       "      <td>3476</td>\n",
       "      <td>12</td>\n",
       "      <td>7</td>\n",
       "      <td>2</td>\n",
       "      <td>0</td>\n",
       "      <td>1</td>\n",
       "      <td>0</td>\n",
       "    </tr>\n",
       "    <tr>\n",
       "      <th>1</th>\n",
       "      <td>2</td>\n",
       "      <td>841</td>\n",
       "      <td>1</td>\n",
       "      <td>0.5</td>\n",
       "      <td>1</td>\n",
       "      <td>4</td>\n",
       "      <td>1</td>\n",
       "      <td>61</td>\n",
       "      <td>0.8</td>\n",
       "      <td>191</td>\n",
       "      <td>5</td>\n",
       "      <td>12</td>\n",
       "      <td>746</td>\n",
       "      <td>857</td>\n",
       "      <td>3895</td>\n",
       "      <td>6</td>\n",
       "      <td>0</td>\n",
       "      <td>7</td>\n",
       "      <td>1</td>\n",
       "      <td>0</td>\n",
       "      <td>0</td>\n",
       "    </tr>\n",
       "    <tr>\n",
       "      <th>2</th>\n",
       "      <td>3</td>\n",
       "      <td>1807</td>\n",
       "      <td>1</td>\n",
       "      <td>2.8</td>\n",
       "      <td>0</td>\n",
       "      <td>1</td>\n",
       "      <td>0</td>\n",
       "      <td>27</td>\n",
       "      <td>0.9</td>\n",
       "      <td>186</td>\n",
       "      <td>3</td>\n",
       "      <td>4</td>\n",
       "      <td>1270</td>\n",
       "      <td>1366</td>\n",
       "      <td>2396</td>\n",
       "      <td>17</td>\n",
       "      <td>10</td>\n",
       "      <td>10</td>\n",
       "      <td>0</td>\n",
       "      <td>1</td>\n",
       "      <td>1</td>\n",
       "    </tr>\n",
       "    <tr>\n",
       "      <th>3</th>\n",
       "      <td>4</td>\n",
       "      <td>1546</td>\n",
       "      <td>0</td>\n",
       "      <td>0.5</td>\n",
       "      <td>1</td>\n",
       "      <td>18</td>\n",
       "      <td>1</td>\n",
       "      <td>25</td>\n",
       "      <td>0.5</td>\n",
       "      <td>96</td>\n",
       "      <td>8</td>\n",
       "      <td>20</td>\n",
       "      <td>295</td>\n",
       "      <td>1752</td>\n",
       "      <td>3893</td>\n",
       "      <td>10</td>\n",
       "      <td>0</td>\n",
       "      <td>7</td>\n",
       "      <td>1</td>\n",
       "      <td>1</td>\n",
       "      <td>0</td>\n",
       "    </tr>\n",
       "    <tr>\n",
       "      <th>4</th>\n",
       "      <td>5</td>\n",
       "      <td>1434</td>\n",
       "      <td>0</td>\n",
       "      <td>1.4</td>\n",
       "      <td>0</td>\n",
       "      <td>11</td>\n",
       "      <td>1</td>\n",
       "      <td>49</td>\n",
       "      <td>0.5</td>\n",
       "      <td>108</td>\n",
       "      <td>6</td>\n",
       "      <td>18</td>\n",
       "      <td>749</td>\n",
       "      <td>810</td>\n",
       "      <td>1773</td>\n",
       "      <td>15</td>\n",
       "      <td>8</td>\n",
       "      <td>7</td>\n",
       "      <td>1</td>\n",
       "      <td>0</td>\n",
       "      <td>1</td>\n",
       "    </tr>\n",
       "  </tbody>\n",
       "</table>\n",
       "</div>"
      ],
      "text/plain": [
       "   id  battery_power  blue  clock_speed  dual_sim  fc  four_g  int_memory  \\\n",
       "0   1           1043     1          1.8         1  14       0           5   \n",
       "1   2            841     1          0.5         1   4       1          61   \n",
       "2   3           1807     1          2.8         0   1       0          27   \n",
       "3   4           1546     0          0.5         1  18       1          25   \n",
       "4   5           1434     0          1.4         0  11       1          49   \n",
       "\n",
       "   m_dep  mobile_wt  n_cores  pc  px_height  px_width   ram  sc_h  sc_w  \\\n",
       "0    0.1        193        3  16        226      1412  3476    12     7   \n",
       "1    0.8        191        5  12        746       857  3895     6     0   \n",
       "2    0.9        186        3   4       1270      1366  2396    17    10   \n",
       "3    0.5         96        8  20        295      1752  3893    10     0   \n",
       "4    0.5        108        6  18        749       810  1773    15     8   \n",
       "\n",
       "   talk_time  three_g  touch_screen  wifi  \n",
       "0          2        0             1     0  \n",
       "1          7        1             0     0  \n",
       "2         10        0             1     1  \n",
       "3          7        1             1     0  \n",
       "4          7        1             0     1  "
      ]
     },
     "execution_count": 187,
     "metadata": {},
     "output_type": "execute_result"
    }
   ],
   "source": [
    "test= pd.read_csv('D:\\DATA SCIENCE Internship with CodersCave\\Data\\mobile_price\\\\test.csv')\n",
    "test.head()"
   ]
  },
  {
   "cell_type": "code",
   "execution_count": 188,
   "id": "a792806d",
   "metadata": {},
   "outputs": [
    {
     "data": {
      "text/plain": [
       "(1000, 21)"
      ]
     },
     "execution_count": 188,
     "metadata": {},
     "output_type": "execute_result"
    }
   ],
   "source": [
    "test.shape"
   ]
  },
  {
   "cell_type": "markdown",
   "id": "82a0ffd8",
   "metadata": {},
   "source": [
    "### Earlier we have selected the important features, so for predicting on test data select those features only."
   ]
  },
  {
   "cell_type": "code",
   "execution_count": 195,
   "id": "f392e4a1",
   "metadata": {},
   "outputs": [
    {
     "data": {
      "text/html": [
       "<div>\n",
       "<style scoped>\n",
       "    .dataframe tbody tr th:only-of-type {\n",
       "        vertical-align: middle;\n",
       "    }\n",
       "\n",
       "    .dataframe tbody tr th {\n",
       "        vertical-align: top;\n",
       "    }\n",
       "\n",
       "    .dataframe thead th {\n",
       "        text-align: right;\n",
       "    }\n",
       "</style>\n",
       "<table border=\"1\" class=\"dataframe\">\n",
       "  <thead>\n",
       "    <tr style=\"text-align: right;\">\n",
       "      <th></th>\n",
       "      <th>ram</th>\n",
       "      <th>battery_power</th>\n",
       "      <th>px_width</th>\n",
       "      <th>px_height</th>\n",
       "      <th>mobile_wt</th>\n",
       "      <th>int_memory</th>\n",
       "      <th>n_cores</th>\n",
       "      <th>sc_h</th>\n",
       "      <th>sc_w</th>\n",
       "      <th>talk_time</th>\n",
       "    </tr>\n",
       "  </thead>\n",
       "  <tbody>\n",
       "    <tr>\n",
       "      <th>0</th>\n",
       "      <td>3476</td>\n",
       "      <td>1043</td>\n",
       "      <td>1412</td>\n",
       "      <td>226</td>\n",
       "      <td>193</td>\n",
       "      <td>5</td>\n",
       "      <td>3</td>\n",
       "      <td>12</td>\n",
       "      <td>7</td>\n",
       "      <td>2</td>\n",
       "    </tr>\n",
       "    <tr>\n",
       "      <th>1</th>\n",
       "      <td>3895</td>\n",
       "      <td>841</td>\n",
       "      <td>857</td>\n",
       "      <td>746</td>\n",
       "      <td>191</td>\n",
       "      <td>61</td>\n",
       "      <td>5</td>\n",
       "      <td>6</td>\n",
       "      <td>0</td>\n",
       "      <td>7</td>\n",
       "    </tr>\n",
       "    <tr>\n",
       "      <th>2</th>\n",
       "      <td>2396</td>\n",
       "      <td>1807</td>\n",
       "      <td>1366</td>\n",
       "      <td>1270</td>\n",
       "      <td>186</td>\n",
       "      <td>27</td>\n",
       "      <td>3</td>\n",
       "      <td>17</td>\n",
       "      <td>10</td>\n",
       "      <td>10</td>\n",
       "    </tr>\n",
       "    <tr>\n",
       "      <th>3</th>\n",
       "      <td>3893</td>\n",
       "      <td>1546</td>\n",
       "      <td>1752</td>\n",
       "      <td>295</td>\n",
       "      <td>96</td>\n",
       "      <td>25</td>\n",
       "      <td>8</td>\n",
       "      <td>10</td>\n",
       "      <td>0</td>\n",
       "      <td>7</td>\n",
       "    </tr>\n",
       "    <tr>\n",
       "      <th>4</th>\n",
       "      <td>1773</td>\n",
       "      <td>1434</td>\n",
       "      <td>810</td>\n",
       "      <td>749</td>\n",
       "      <td>108</td>\n",
       "      <td>49</td>\n",
       "      <td>6</td>\n",
       "      <td>15</td>\n",
       "      <td>8</td>\n",
       "      <td>7</td>\n",
       "    </tr>\n",
       "  </tbody>\n",
       "</table>\n",
       "</div>"
      ],
      "text/plain": [
       "    ram  battery_power  px_width  px_height  mobile_wt  int_memory  n_cores  \\\n",
       "0  3476           1043      1412        226        193           5        3   \n",
       "1  3895            841       857        746        191          61        5   \n",
       "2  2396           1807      1366       1270        186          27        3   \n",
       "3  3893           1546      1752        295         96          25        8   \n",
       "4  1773           1434       810        749        108          49        6   \n",
       "\n",
       "   sc_h  sc_w  talk_time  \n",
       "0    12     7          2  \n",
       "1     6     0          7  \n",
       "2    17    10         10  \n",
       "3    10     0          7  \n",
       "4    15     8          7  "
      ]
     },
     "execution_count": 195,
     "metadata": {},
     "output_type": "execute_result"
    }
   ],
   "source": [
    "selected_data=test[['ram', 'battery_power', 'px_width', 'px_height', 'mobile_wt', 'int_memory', 'n_cores', 'sc_h', 'sc_w', 'talk_time']]\n",
    "selected_data.head(5)"
   ]
  },
  {
   "cell_type": "code",
   "execution_count": 196,
   "id": "d2cdd15e",
   "metadata": {},
   "outputs": [
    {
     "data": {
      "text/plain": [
       "(1000, 10)"
      ]
     },
     "execution_count": 196,
     "metadata": {},
     "output_type": "execute_result"
    }
   ],
   "source": [
    "selected_data.shape"
   ]
  },
  {
   "cell_type": "markdown",
   "id": "730c7116",
   "metadata": {},
   "source": [
    "#### Select only values for testing"
   ]
  },
  {
   "cell_type": "code",
   "execution_count": 197,
   "id": "313c3c34",
   "metadata": {},
   "outputs": [
    {
     "data": {
      "text/plain": [
       "array([[3476, 1043, 1412, ...,   12,    7,    2],\n",
       "       [3895,  841,  857, ...,    6,    0,    7],\n",
       "       [2396, 1807, 1366, ...,   17,   10,   10],\n",
       "       ...,\n",
       "       [1223, 1185,  825, ...,    5,    0,   14],\n",
       "       [2509, 1533,  832, ...,   15,   11,    6],\n",
       "       [2828, 1270,  608, ...,    9,    2,    3]], dtype=int64)"
      ]
     },
     "execution_count": 197,
     "metadata": {},
     "output_type": "execute_result"
    }
   ],
   "source": [
    "testing_data=selected_data.values\n",
    "testing_data"
   ]
  },
  {
   "cell_type": "code",
   "execution_count": 198,
   "id": "88a84d82",
   "metadata": {},
   "outputs": [
    {
     "data": {
      "text/plain": [
       "(1000, 10)"
      ]
     },
     "execution_count": 198,
     "metadata": {},
     "output_type": "execute_result"
    }
   ],
   "source": [
    "testing_data.shape"
   ]
  },
  {
   "cell_type": "markdown",
   "id": "12b51b60",
   "metadata": {},
   "source": [
    "### Transform the features and then predict"
   ]
  },
  {
   "cell_type": "code",
   "execution_count": 200,
   "id": "70a870f2",
   "metadata": {},
   "outputs": [
    {
     "name": "stdout",
     "output_type": "stream",
     "text": [
      "[[ 1.24650607 -0.44505984  0.37141333 ... -0.07276497  0.2831028\n",
      "  -1.6495841 ]\n",
      " [ 1.63287318 -0.90487356 -0.91303718 ... -1.49720161 -1.32413127\n",
      "  -0.73426721]\n",
      " [ 0.25061947  1.29403758  0.26495437 ...  1.11426556  0.9719174\n",
      "  -0.18507707]\n",
      " ...\n",
      " [-0.83102402 -0.12182446 -0.98709559 ... -1.73460772 -1.32413127\n",
      "   0.54717644]\n",
      " [ 0.35481872  0.67032987 -0.97089532 ...  0.63945335  1.20152227\n",
      "  -0.91733059]\n",
      " [ 0.64897411  0.07166151 -1.48930417 ... -0.78498329 -0.86492153\n",
      "  -1.46652072]]\n"
     ]
    }
   ],
   "source": [
    "testing_data=std_scaler_fit.transform(testing_data)\n",
    "print(testing_data)"
   ]
  },
  {
   "cell_type": "markdown",
   "id": "41aca6ae",
   "metadata": {},
   "source": [
    "### Prediction on test data"
   ]
  },
  {
   "cell_type": "code",
   "execution_count": 202,
   "id": "29a800e5",
   "metadata": {},
   "outputs": [
    {
     "data": {
      "text/plain": [
       "array([2, 3, 2, 3, 1, 3, 3, 1, 3, 0, 3, 3, 0, 0, 2, 0, 2, 1, 3, 2, 1, 3,\n",
       "       1, 1, 3, 0, 2, 0, 3, 0, 2, 0, 3, 0, 0, 1, 3, 1, 2, 1, 1, 2, 0, 0,\n",
       "       0, 0, 0, 3, 1, 2, 1, 0, 2, 0, 3, 1, 3, 1, 0, 3, 3, 3, 0, 1, 1, 1,\n",
       "       1, 3, 1, 2, 1, 2, 2, 3, 3, 0, 2, 0, 2, 3, 0, 3, 3, 0, 3, 0, 3, 1,\n",
       "       3, 0, 1, 2, 2, 1, 2, 1, 0, 2, 1, 2, 0, 0, 0, 3, 0, 2, 0, 1, 2, 3,\n",
       "       3, 2, 1, 3, 3, 3, 3, 1, 3, 0, 0, 3, 2, 1, 2, 0, 3, 2, 3, 1, 0, 2,\n",
       "       1, 1, 3, 1, 1, 0, 3, 2, 1, 2, 1, 3, 2, 3, 3, 2, 2, 3, 2, 3, 1, 0,\n",
       "       3, 2, 3, 3, 3, 3, 2, 2, 3, 3, 3, 3, 1, 0, 3, 0, 0, 0, 2, 1, 0, 1,\n",
       "       0, 0, 0, 2, 1, 0, 0, 0, 1, 2, 2, 1, 0, 0, 0, 1, 0, 3, 2, 0, 2, 2,\n",
       "       2, 3, 1, 2, 2, 2, 3, 2, 2, 1, 0, 0, 1, 2, 0, 2, 3, 3, 0, 2, 0, 3,\n",
       "       2, 3, 3, 1, 0, 1, 0, 3, 0, 1, 0, 2, 2, 1, 3, 1, 2, 0, 3, 1, 2, 0,\n",
       "       0, 2, 1, 3, 2, 3, 1, 1, 3, 0, 0, 2, 3, 3, 1, 3, 1, 1, 3, 2, 1, 2,\n",
       "       3, 3, 3, 1, 0, 1, 2, 3, 1, 1, 3, 2, 0, 3, 0, 1, 2, 1, 0, 3, 2, 3,\n",
       "       3, 2, 1, 3, 3, 2, 3, 1, 2, 1, 2, 0, 2, 3, 1, 0, 0, 3, 0, 3, 0, 1,\n",
       "       2, 0, 2, 3, 1, 3, 3, 2, 1, 2, 0, 0, 0, 1, 3, 2, 0, 0, 0, 3, 2, 0,\n",
       "       2, 3, 1, 2, 3, 2, 3, 1, 3, 3, 2, 2, 2, 3, 3, 0, 3, 1, 3, 1, 3, 1,\n",
       "       2, 3, 0, 1, 0, 3, 1, 3, 2, 3, 0, 0, 0, 1, 2, 0, 0, 2, 2, 1, 2, 2,\n",
       "       2, 0, 1, 0, 0, 3, 2, 0, 3, 1, 2, 2, 1, 2, 3, 1, 1, 2, 2, 1, 2, 0,\n",
       "       1, 1, 0, 3, 2, 0, 0, 1, 0, 0, 1, 1, 0, 0, 0, 2, 2, 3, 2, 3, 0, 2,\n",
       "       0, 3, 0, 1, 1, 0, 2, 0, 3, 2, 3, 3, 1, 3, 1, 2, 1, 2, 2, 0, 1, 2,\n",
       "       1, 1, 0, 0, 0, 1, 2, 1, 1, 3, 2, 0, 2, 2, 0, 0, 3, 1, 1, 1, 2, 2,\n",
       "       3, 0, 3, 0, 2, 3, 2, 3, 0, 2, 0, 2, 3, 0, 1, 1, 0, 0, 1, 1, 1, 3,\n",
       "       3, 3, 1, 3, 1, 2, 2, 3, 3, 3, 2, 0, 2, 1, 2, 3, 1, 0, 2, 2, 0, 0,\n",
       "       0, 3, 1, 0, 2, 2, 2, 0, 3, 1, 2, 2, 1, 3, 0, 2, 3, 0, 1, 1, 3, 3,\n",
       "       2, 1, 1, 3, 2, 0, 3, 1, 2, 0, 3, 3, 1, 3, 2, 2, 3, 0, 1, 2, 3, 1,\n",
       "       3, 2, 3, 1, 1, 0, 1, 3, 1, 0, 3, 2, 3, 3, 1, 3, 3, 3, 2, 3, 3, 1,\n",
       "       1, 0, 2, 2, 3, 1, 0, 0, 1, 2, 2, 2, 0, 0, 2, 2, 3, 1, 0, 2, 1, 3,\n",
       "       3, 0, 1, 3, 0, 2, 1, 1, 0, 0, 2, 1, 0, 1, 1, 2, 2, 0, 2, 2, 1, 0,\n",
       "       3, 0, 0, 3, 2, 0, 0, 0, 0, 0, 3, 0, 3, 0, 3, 1, 1, 3, 2, 0, 2, 0,\n",
       "       3, 2, 2, 2, 0, 3, 0, 2, 0, 2, 0, 0, 1, 1, 1, 2, 2, 2, 1, 3, 2, 2,\n",
       "       1, 3, 2, 0, 2, 2, 0, 3, 3, 0, 2, 1, 1, 2, 0, 3, 2, 0, 3, 2, 3, 1,\n",
       "       0, 3, 0, 1, 2, 3, 2, 2, 2, 2, 1, 2, 3, 0, 1, 1, 1, 2, 1, 0, 0, 1,\n",
       "       0, 0, 3, 1, 1, 2, 0, 1, 0, 1, 3, 0, 3, 2, 3, 0, 0, 1, 2, 2, 1, 0,\n",
       "       1, 2, 0, 1, 1, 0, 1, 3, 3, 0, 2, 1, 1, 3, 0, 1, 0, 2, 2, 0, 3, 1,\n",
       "       0, 3, 0, 1, 0, 3, 3, 3, 2, 3, 0, 3, 2, 0, 0, 0, 3, 3, 2, 0, 2, 1,\n",
       "       3, 1, 0, 3, 2, 0, 3, 1, 2, 1, 1, 1, 3, 1, 1, 1, 2, 1, 0, 2, 2, 0,\n",
       "       2, 0, 0, 0, 0, 3, 3, 3, 3, 0, 1, 2, 1, 1, 0, 0, 2, 1, 0, 2, 0, 2,\n",
       "       2, 2, 1, 2, 0, 2, 0, 3, 0, 0, 3, 2, 3, 0, 0, 2, 3, 3, 1, 2, 2, 1,\n",
       "       0, 0, 3, 3, 0, 3, 0, 0, 0, 2, 2, 1, 2, 0, 3, 2, 1, 2, 3, 3, 0, 1,\n",
       "       1, 2, 1, 2, 2, 0, 1, 3, 1, 1, 3, 0, 2, 3, 2, 1, 1, 2, 3, 3, 0, 2,\n",
       "       3, 0, 2, 3, 2, 2, 2, 3, 2, 0, 1, 2, 1, 2, 1, 1, 2, 2, 2, 1, 2, 1,\n",
       "       0, 2, 3, 1, 0, 1, 2, 3, 1, 0, 0, 3, 2, 2, 3, 0, 3, 2, 2, 1, 3, 0,\n",
       "       1, 3, 1, 1, 1, 1, 3, 2, 0, 3, 0, 2, 3, 0, 2, 1, 3, 3, 1, 0, 2, 3,\n",
       "       1, 0, 2, 1, 2, 1, 2, 0, 2, 2, 0, 2, 3, 2, 3, 0, 2, 1, 1, 2, 2, 3,\n",
       "       3, 0, 2, 1, 2, 1, 3, 1, 0, 3, 0, 1, 0, 0, 3, 2, 2, 0, 0, 0, 0, 3,\n",
       "       2, 3, 3, 0, 0, 2, 1, 1, 2, 2], dtype=int64)"
      ]
     },
     "execution_count": 202,
     "metadata": {},
     "output_type": "execute_result"
    }
   ],
   "source": [
    "prediction=model.predict(testing_data)\n",
    "prediction"
   ]
  },
  {
   "cell_type": "markdown",
   "id": "5e934978",
   "metadata": {},
   "source": [
    "### Concate this to test dataset"
   ]
  },
  {
   "cell_type": "code",
   "execution_count": 203,
   "id": "68668ab8",
   "metadata": {},
   "outputs": [
    {
     "data": {
      "text/html": [
       "<div>\n",
       "<style scoped>\n",
       "    .dataframe tbody tr th:only-of-type {\n",
       "        vertical-align: middle;\n",
       "    }\n",
       "\n",
       "    .dataframe tbody tr th {\n",
       "        vertical-align: top;\n",
       "    }\n",
       "\n",
       "    .dataframe thead th {\n",
       "        text-align: right;\n",
       "    }\n",
       "</style>\n",
       "<table border=\"1\" class=\"dataframe\">\n",
       "  <thead>\n",
       "    <tr style=\"text-align: right;\">\n",
       "      <th></th>\n",
       "      <th>price_range</th>\n",
       "    </tr>\n",
       "  </thead>\n",
       "  <tbody>\n",
       "    <tr>\n",
       "      <th>0</th>\n",
       "      <td>2</td>\n",
       "    </tr>\n",
       "    <tr>\n",
       "      <th>1</th>\n",
       "      <td>3</td>\n",
       "    </tr>\n",
       "    <tr>\n",
       "      <th>2</th>\n",
       "      <td>2</td>\n",
       "    </tr>\n",
       "    <tr>\n",
       "      <th>3</th>\n",
       "      <td>3</td>\n",
       "    </tr>\n",
       "    <tr>\n",
       "      <th>4</th>\n",
       "      <td>1</td>\n",
       "    </tr>\n",
       "  </tbody>\n",
       "</table>\n",
       "</div>"
      ],
      "text/plain": [
       "   price_range\n",
       "0            2\n",
       "1            3\n",
       "2            2\n",
       "3            3\n",
       "4            1"
      ]
     },
     "execution_count": 203,
     "metadata": {},
     "output_type": "execute_result"
    }
   ],
   "source": [
    "prediction=pd.DataFrame({\"price_range\":prediction})\n",
    "prediction.head(5)"
   ]
  },
  {
   "cell_type": "code",
   "execution_count": 206,
   "id": "6f94a8a0",
   "metadata": {},
   "outputs": [
    {
     "data": {
      "text/html": [
       "<div>\n",
       "<style scoped>\n",
       "    .dataframe tbody tr th:only-of-type {\n",
       "        vertical-align: middle;\n",
       "    }\n",
       "\n",
       "    .dataframe tbody tr th {\n",
       "        vertical-align: top;\n",
       "    }\n",
       "\n",
       "    .dataframe thead th {\n",
       "        text-align: right;\n",
       "    }\n",
       "</style>\n",
       "<table border=\"1\" class=\"dataframe\">\n",
       "  <thead>\n",
       "    <tr style=\"text-align: right;\">\n",
       "      <th></th>\n",
       "      <th>price_range</th>\n",
       "      <th>id</th>\n",
       "      <th>battery_power</th>\n",
       "      <th>blue</th>\n",
       "      <th>clock_speed</th>\n",
       "      <th>dual_sim</th>\n",
       "      <th>fc</th>\n",
       "      <th>four_g</th>\n",
       "      <th>int_memory</th>\n",
       "      <th>m_dep</th>\n",
       "      <th>mobile_wt</th>\n",
       "      <th>n_cores</th>\n",
       "      <th>pc</th>\n",
       "      <th>px_height</th>\n",
       "      <th>px_width</th>\n",
       "      <th>ram</th>\n",
       "      <th>sc_h</th>\n",
       "      <th>sc_w</th>\n",
       "      <th>talk_time</th>\n",
       "      <th>three_g</th>\n",
       "      <th>touch_screen</th>\n",
       "      <th>wifi</th>\n",
       "    </tr>\n",
       "  </thead>\n",
       "  <tbody>\n",
       "    <tr>\n",
       "      <th>0</th>\n",
       "      <td>2</td>\n",
       "      <td>1</td>\n",
       "      <td>1043</td>\n",
       "      <td>1</td>\n",
       "      <td>1.8</td>\n",
       "      <td>1</td>\n",
       "      <td>14</td>\n",
       "      <td>0</td>\n",
       "      <td>5</td>\n",
       "      <td>0.1</td>\n",
       "      <td>193</td>\n",
       "      <td>3</td>\n",
       "      <td>16</td>\n",
       "      <td>226</td>\n",
       "      <td>1412</td>\n",
       "      <td>3476</td>\n",
       "      <td>12</td>\n",
       "      <td>7</td>\n",
       "      <td>2</td>\n",
       "      <td>0</td>\n",
       "      <td>1</td>\n",
       "      <td>0</td>\n",
       "    </tr>\n",
       "    <tr>\n",
       "      <th>1</th>\n",
       "      <td>3</td>\n",
       "      <td>2</td>\n",
       "      <td>841</td>\n",
       "      <td>1</td>\n",
       "      <td>0.5</td>\n",
       "      <td>1</td>\n",
       "      <td>4</td>\n",
       "      <td>1</td>\n",
       "      <td>61</td>\n",
       "      <td>0.8</td>\n",
       "      <td>191</td>\n",
       "      <td>5</td>\n",
       "      <td>12</td>\n",
       "      <td>746</td>\n",
       "      <td>857</td>\n",
       "      <td>3895</td>\n",
       "      <td>6</td>\n",
       "      <td>0</td>\n",
       "      <td>7</td>\n",
       "      <td>1</td>\n",
       "      <td>0</td>\n",
       "      <td>0</td>\n",
       "    </tr>\n",
       "    <tr>\n",
       "      <th>2</th>\n",
       "      <td>2</td>\n",
       "      <td>3</td>\n",
       "      <td>1807</td>\n",
       "      <td>1</td>\n",
       "      <td>2.8</td>\n",
       "      <td>0</td>\n",
       "      <td>1</td>\n",
       "      <td>0</td>\n",
       "      <td>27</td>\n",
       "      <td>0.9</td>\n",
       "      <td>186</td>\n",
       "      <td>3</td>\n",
       "      <td>4</td>\n",
       "      <td>1270</td>\n",
       "      <td>1366</td>\n",
       "      <td>2396</td>\n",
       "      <td>17</td>\n",
       "      <td>10</td>\n",
       "      <td>10</td>\n",
       "      <td>0</td>\n",
       "      <td>1</td>\n",
       "      <td>1</td>\n",
       "    </tr>\n",
       "    <tr>\n",
       "      <th>3</th>\n",
       "      <td>3</td>\n",
       "      <td>4</td>\n",
       "      <td>1546</td>\n",
       "      <td>0</td>\n",
       "      <td>0.5</td>\n",
       "      <td>1</td>\n",
       "      <td>18</td>\n",
       "      <td>1</td>\n",
       "      <td>25</td>\n",
       "      <td>0.5</td>\n",
       "      <td>96</td>\n",
       "      <td>8</td>\n",
       "      <td>20</td>\n",
       "      <td>295</td>\n",
       "      <td>1752</td>\n",
       "      <td>3893</td>\n",
       "      <td>10</td>\n",
       "      <td>0</td>\n",
       "      <td>7</td>\n",
       "      <td>1</td>\n",
       "      <td>1</td>\n",
       "      <td>0</td>\n",
       "    </tr>\n",
       "    <tr>\n",
       "      <th>4</th>\n",
       "      <td>1</td>\n",
       "      <td>5</td>\n",
       "      <td>1434</td>\n",
       "      <td>0</td>\n",
       "      <td>1.4</td>\n",
       "      <td>0</td>\n",
       "      <td>11</td>\n",
       "      <td>1</td>\n",
       "      <td>49</td>\n",
       "      <td>0.5</td>\n",
       "      <td>108</td>\n",
       "      <td>6</td>\n",
       "      <td>18</td>\n",
       "      <td>749</td>\n",
       "      <td>810</td>\n",
       "      <td>1773</td>\n",
       "      <td>15</td>\n",
       "      <td>8</td>\n",
       "      <td>7</td>\n",
       "      <td>1</td>\n",
       "      <td>0</td>\n",
       "      <td>1</td>\n",
       "    </tr>\n",
       "    <tr>\n",
       "      <th>...</th>\n",
       "      <td>...</td>\n",
       "      <td>...</td>\n",
       "      <td>...</td>\n",
       "      <td>...</td>\n",
       "      <td>...</td>\n",
       "      <td>...</td>\n",
       "      <td>...</td>\n",
       "      <td>...</td>\n",
       "      <td>...</td>\n",
       "      <td>...</td>\n",
       "      <td>...</td>\n",
       "      <td>...</td>\n",
       "      <td>...</td>\n",
       "      <td>...</td>\n",
       "      <td>...</td>\n",
       "      <td>...</td>\n",
       "      <td>...</td>\n",
       "      <td>...</td>\n",
       "      <td>...</td>\n",
       "      <td>...</td>\n",
       "      <td>...</td>\n",
       "      <td>...</td>\n",
       "    </tr>\n",
       "    <tr>\n",
       "      <th>995</th>\n",
       "      <td>2</td>\n",
       "      <td>996</td>\n",
       "      <td>1700</td>\n",
       "      <td>1</td>\n",
       "      <td>1.9</td>\n",
       "      <td>0</td>\n",
       "      <td>0</td>\n",
       "      <td>1</td>\n",
       "      <td>54</td>\n",
       "      <td>0.5</td>\n",
       "      <td>170</td>\n",
       "      <td>7</td>\n",
       "      <td>17</td>\n",
       "      <td>644</td>\n",
       "      <td>913</td>\n",
       "      <td>2121</td>\n",
       "      <td>14</td>\n",
       "      <td>8</td>\n",
       "      <td>15</td>\n",
       "      <td>1</td>\n",
       "      <td>1</td>\n",
       "      <td>0</td>\n",
       "    </tr>\n",
       "    <tr>\n",
       "      <th>996</th>\n",
       "      <td>1</td>\n",
       "      <td>997</td>\n",
       "      <td>609</td>\n",
       "      <td>0</td>\n",
       "      <td>1.8</td>\n",
       "      <td>1</td>\n",
       "      <td>0</td>\n",
       "      <td>0</td>\n",
       "      <td>13</td>\n",
       "      <td>0.9</td>\n",
       "      <td>186</td>\n",
       "      <td>4</td>\n",
       "      <td>2</td>\n",
       "      <td>1152</td>\n",
       "      <td>1632</td>\n",
       "      <td>1933</td>\n",
       "      <td>8</td>\n",
       "      <td>1</td>\n",
       "      <td>19</td>\n",
       "      <td>0</td>\n",
       "      <td>1</td>\n",
       "      <td>1</td>\n",
       "    </tr>\n",
       "    <tr>\n",
       "      <th>997</th>\n",
       "      <td>1</td>\n",
       "      <td>998</td>\n",
       "      <td>1185</td>\n",
       "      <td>0</td>\n",
       "      <td>1.4</td>\n",
       "      <td>0</td>\n",
       "      <td>1</td>\n",
       "      <td>1</td>\n",
       "      <td>8</td>\n",
       "      <td>0.5</td>\n",
       "      <td>80</td>\n",
       "      <td>1</td>\n",
       "      <td>12</td>\n",
       "      <td>477</td>\n",
       "      <td>825</td>\n",
       "      <td>1223</td>\n",
       "      <td>5</td>\n",
       "      <td>0</td>\n",
       "      <td>14</td>\n",
       "      <td>1</td>\n",
       "      <td>0</td>\n",
       "      <td>0</td>\n",
       "    </tr>\n",
       "    <tr>\n",
       "      <th>998</th>\n",
       "      <td>2</td>\n",
       "      <td>999</td>\n",
       "      <td>1533</td>\n",
       "      <td>1</td>\n",
       "      <td>0.5</td>\n",
       "      <td>1</td>\n",
       "      <td>0</td>\n",
       "      <td>0</td>\n",
       "      <td>50</td>\n",
       "      <td>0.4</td>\n",
       "      <td>171</td>\n",
       "      <td>2</td>\n",
       "      <td>12</td>\n",
       "      <td>38</td>\n",
       "      <td>832</td>\n",
       "      <td>2509</td>\n",
       "      <td>15</td>\n",
       "      <td>11</td>\n",
       "      <td>6</td>\n",
       "      <td>0</td>\n",
       "      <td>1</td>\n",
       "      <td>0</td>\n",
       "    </tr>\n",
       "    <tr>\n",
       "      <th>999</th>\n",
       "      <td>2</td>\n",
       "      <td>1000</td>\n",
       "      <td>1270</td>\n",
       "      <td>1</td>\n",
       "      <td>0.5</td>\n",
       "      <td>0</td>\n",
       "      <td>4</td>\n",
       "      <td>1</td>\n",
       "      <td>35</td>\n",
       "      <td>0.1</td>\n",
       "      <td>140</td>\n",
       "      <td>6</td>\n",
       "      <td>19</td>\n",
       "      <td>457</td>\n",
       "      <td>608</td>\n",
       "      <td>2828</td>\n",
       "      <td>9</td>\n",
       "      <td>2</td>\n",
       "      <td>3</td>\n",
       "      <td>1</td>\n",
       "      <td>0</td>\n",
       "      <td>1</td>\n",
       "    </tr>\n",
       "  </tbody>\n",
       "</table>\n",
       "<p>1000 rows × 22 columns</p>\n",
       "</div>"
      ],
      "text/plain": [
       "     price_range    id  battery_power  blue  clock_speed  dual_sim  fc  \\\n",
       "0              2     1           1043     1          1.8         1  14   \n",
       "1              3     2            841     1          0.5         1   4   \n",
       "2              2     3           1807     1          2.8         0   1   \n",
       "3              3     4           1546     0          0.5         1  18   \n",
       "4              1     5           1434     0          1.4         0  11   \n",
       "..           ...   ...            ...   ...          ...       ...  ..   \n",
       "995            2   996           1700     1          1.9         0   0   \n",
       "996            1   997            609     0          1.8         1   0   \n",
       "997            1   998           1185     0          1.4         0   1   \n",
       "998            2   999           1533     1          0.5         1   0   \n",
       "999            2  1000           1270     1          0.5         0   4   \n",
       "\n",
       "     four_g  int_memory  m_dep  mobile_wt  n_cores  pc  px_height  px_width  \\\n",
       "0         0           5    0.1        193        3  16        226      1412   \n",
       "1         1          61    0.8        191        5  12        746       857   \n",
       "2         0          27    0.9        186        3   4       1270      1366   \n",
       "3         1          25    0.5         96        8  20        295      1752   \n",
       "4         1          49    0.5        108        6  18        749       810   \n",
       "..      ...         ...    ...        ...      ...  ..        ...       ...   \n",
       "995       1          54    0.5        170        7  17        644       913   \n",
       "996       0          13    0.9        186        4   2       1152      1632   \n",
       "997       1           8    0.5         80        1  12        477       825   \n",
       "998       0          50    0.4        171        2  12         38       832   \n",
       "999       1          35    0.1        140        6  19        457       608   \n",
       "\n",
       "      ram  sc_h  sc_w  talk_time  three_g  touch_screen  wifi  \n",
       "0    3476    12     7          2        0             1     0  \n",
       "1    3895     6     0          7        1             0     0  \n",
       "2    2396    17    10         10        0             1     1  \n",
       "3    3893    10     0          7        1             1     0  \n",
       "4    1773    15     8          7        1             0     1  \n",
       "..    ...   ...   ...        ...      ...           ...   ...  \n",
       "995  2121    14     8         15        1             1     0  \n",
       "996  1933     8     1         19        0             1     1  \n",
       "997  1223     5     0         14        1             0     0  \n",
       "998  2509    15    11          6        0             1     0  \n",
       "999  2828     9     2          3        1             0     1  \n",
       "\n",
       "[1000 rows x 22 columns]"
      ]
     },
     "execution_count": 206,
     "metadata": {},
     "output_type": "execute_result"
    }
   ],
   "source": [
    "pd.concat([prediction,test], axis=1)"
   ]
  },
  {
   "cell_type": "code",
   "execution_count": null,
   "id": "5efeb4c8",
   "metadata": {},
   "outputs": [],
   "source": []
  }
 ],
 "metadata": {
  "kernelspec": {
   "display_name": "Python 3 (ipykernel)",
   "language": "python",
   "name": "python3"
  },
  "language_info": {
   "codemirror_mode": {
    "name": "ipython",
    "version": 3
   },
   "file_extension": ".py",
   "mimetype": "text/x-python",
   "name": "python",
   "nbconvert_exporter": "python",
   "pygments_lexer": "ipython3",
   "version": "3.9.7"
  }
 },
 "nbformat": 4,
 "nbformat_minor": 5
}
